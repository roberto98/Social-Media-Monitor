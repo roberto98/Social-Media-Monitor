{
 "cells": [
  {
   "cell_type": "markdown",
   "metadata": {
    "id": "qYtWa-kq9UnS"
   },
   "source": [
    "# Social Media Monitor"
   ]
  },
  {
   "cell_type": "markdown",
   "metadata": {
    "id": "e55JJEYn9Y_Z"
   },
   "source": [
    "In my project i'll implement, using Python, a social media monitor that\n",
    "tracks topics or trends from social media or blogs.\n",
    "I'll use the SKlearn 20 newsgroups dataset that comprises around 18000\n",
    "newsgroups posts on 20 topics.\n",
    "Then i'll pre-process the text using the nltk library, i'll apply\n",
    "stopword removal, stemming and lemmatization.\n",
    "After the text is pre-processed i'll apply a model to identify the main\n",
    "topic, the idea is to implement from scratch the Latent Dirichlet\n",
    "Allocation model and made a comparison between my version and the\n",
    "version taken from gensim or sklearn libraries.\n",
    "I'll perform a sentiment analysis using the Vader library.\n",
    "I'll generate a summary of the relevant content using extractive\n",
    "summarization based on word frequencies, to do that i'll not use any\n",
    "library.\n",
    "Finally i'll visualize the results, showing the distribution of topics,\n",
    "sentiment scores and summaries of relevant content. In this phase i'll\n",
    "use matplotlib and wordcloud libraries.\n",
    "\n",
    "About the LDA i found the following interesting papers:\n",
    "\n",
    "https://arxiv.org/pdf/1711.04305.pdf\n",
    "\n",
    "https://ai.stanford.edu/~ang/papers/jair03-lda.pdf\n",
    "\n",
    "\n",
    "## IDEA\n",
    "- Creo 2 datasets bilanciati (tipo 100 tweets e 100 tweets)-> covid e champions\n",
    "- Traino LDA su entrambi\n",
    "- Creo nuovo dataset misto (70-30%)\n",
    "- Identifico topic del dataset misto\n",
    "- Sentument\n",
    "- Riassunto\n",
    "- Plotto"
   ]
  },
  {
   "cell_type": "markdown",
   "metadata": {
    "id": "mJYrgmbDI5oY"
   },
   "source": [
    "I creating a custom media monitor that tracks specific topics or trends across various platforms, such as news articles, blog posts, and social media. This project can help businesses or individuals stay up-to-date with the latest developments and discussions related to their areas of interest.\n",
    "\n",
    "To implement this project, i'll follow these steps:\n",
    "\n",
    "1. **Data Collection**: Gather data from various sources like news websites, blogs, and social media using APIs or web scraping techniques or RSS feed.\n",
    "2. **Text Preprocessing**: Clean and normalize the text data, as mentioned in the previous answer (tokenization, stopword removal, stemming/lemmatization).\n",
    "3. **Topic Modeling**: Employ topic modeling techniques like Latent Dirichlet Allocation (LDA) or Non-negative Matrix Factorization (NMF) to identify the main topics or themes present in the collected data. This will help you filter relevant content based on the topics of interest.\n",
    "4. **Sentiment Analysis**: Determine the sentiment of the content (positive, negative, or neutral) using techniques like rule-based approaches (e.g., VADER sentiment analyzer) or pre-trained models (e.g., TextBlob).\n",
    "5. **Summarization**: Generate summaries of the relevant content using extractive or abstractive summarization techniques, so that users can quickly grasp the main points without reading the entire text.\n",
    "6. **Visualization and Reporting**: Visualize the results in an intuitive dashboard or report format, showing the distribution of topics, sentiment scores, and summaries of the relevant content."
   ]
  },
  {
   "cell_type": "markdown",
   "metadata": {
    "id": "J1wkDyx0sd8L"
   },
   "source": [
    "# **1. Data Collection:** \n",
    "Gather data from various sources using APIs or web scraping techniques. For example, you can use the requests library for accessing APIs and BeautifulSoup for web scraping. In this case I'll use the `20newsgroups` module of `sklearn.datasets`\n",
    "\n",
    "https://imerit.net/blog/top-25-twitter-datasets-for-natural-language-processing-and-machine-learning-all-pbm/\n",
    "\n"
   ]
  },
  {
   "cell_type": "markdown",
   "metadata": {},
   "source": [
    "## Twitter dataset\n",
    "filter the negative tweets from the TweetsCOV19 dataset \n",
    "https://data.gesis.org/tweetscov19/"
   ]
  },
  {
   "cell_type": "code",
   "execution_count": null,
   "metadata": {},
   "outputs": [],
   "source": [
    "import pandas as pd\n",
    "\n",
    "# Load the dataset\n",
    "tweetscov19_df = pd.read_csv(\"TweetsCOV19.tsv\", sep=\"\\t\", header=None)\n",
    "\n",
    "# Assign column names\n",
    "tweetscov19_df.columns = [\"tweet_id\", \"timestamp\", \"entities\", \"sentiment\", \"mentions\", \"hashtags\", \"urls\"]\n",
    "\n",
    "# Filter the negative tweets\n",
    "negative_tweets_df = tweetscov19_df[tweetscov19_df[\"sentiment\"].apply(lambda x: int(x.split()[1]) < 0)]\n",
    "\n",
    "# Save the negative tweets to a text file\n",
    "negative_tweets_df.to_csv(\"negative_tweets.txt\", columns=[\"tweet_id\", \"sentiment\"], index=False)\n"
   ]
  },
  {
   "cell_type": "markdown",
   "metadata": {},
   "source": [
    "## Apple dataset\n",
    " filter the positive tweets from the Apple Twitter Sentiment dataset: \n",
    " https://www.kaggle.com/seriousran/appletwittersentimenttexts"
   ]
  },
  {
   "cell_type": "code",
   "execution_count": null,
   "metadata": {},
   "outputs": [],
   "source": [
    "import pandas as pd\n",
    "\n",
    "# Load the dataset\n",
    "apple_sentiment_df = pd.read_csv(\"apple-twitter-sentiment-texts.csv\")\n",
    "\n",
    "# Filter the positive tweets\n",
    "positive_apple_tweets_df = apple_sentiment_df[apple_sentiment_df[\"sentiment\"] == \"positive\"]\n",
    "\n",
    "# Save the positive tweets to a text file\n",
    "positive_apple_tweets_df.to_csv(\"positive_apple_tweets.txt\", columns=[\"text\", \"sentiment\"], index=False)\n"
   ]
  },
  {
   "cell_type": "markdown",
   "metadata": {},
   "source": [
    "## Stock dataset\n",
    "https://www.kaggle.com/datasets/yash612/stockmarket-sentiment-dataset"
   ]
  },
  {
   "cell_type": "code",
   "execution_count": null,
   "metadata": {},
   "outputs": [],
   "source": []
  },
  {
   "cell_type": "markdown",
   "metadata": {},
   "source": [
    "## 20newsgroups"
   ]
  },
  {
   "cell_type": "code",
   "execution_count": 1,
   "metadata": {
    "ExecuteTime": {
     "end_time": "2023-06-20T17:28:33.355255500Z",
     "start_time": "2023-06-20T17:28:33.337076900Z"
    },
    "id": "TYrO0WPw9IOi",
    "tags": []
   },
   "outputs": [],
   "source": [
    "#%pip install scikit-learn\n",
    "from sklearn.datasets import fetch_20newsgroups"
   ]
  },
  {
   "cell_type": "code",
   "execution_count": 2,
   "metadata": {
    "ExecuteTime": {
     "end_time": "2023-06-20T17:42:38.523389300Z",
     "start_time": "2023-06-20T17:42:36.130544700Z"
    },
    "jupyter": {
     "outputs_hidden": false
    },
    "tags": []
   },
   "outputs": [
    {
     "name": "stdout",
     "output_type": "stream",
     "text": [
      "The total size is:  18846\n",
      "\n",
      "The topics are: \n",
      " ['alt.atheism', 'comp.graphics', 'comp.os.ms-windows.misc', 'comp.sys.ibm.pc.hardware', 'comp.sys.mac.hardware', 'comp.windows.x', 'misc.forsale', 'rec.autos', 'rec.motorcycles', 'rec.sport.baseball', 'rec.sport.hockey', 'sci.crypt', 'sci.electronics', 'sci.med', 'sci.space', 'soc.religion.christian', 'talk.politics.guns', 'talk.politics.mideast', 'talk.politics.misc', 'talk.religion.misc']\n"
     ]
    }
   ],
   "source": [
    "newsgroups_all = fetch_20newsgroups(subset='all', remove=('headers', 'footers', 'quotes'))\n",
    "print(\"The total size is: \", len(newsgroups_all.data))\n",
    "print(\"\\nThe topics are: \\n\",newsgroups_all.target_names)"
   ]
  },
  {
   "cell_type": "code",
   "execution_count": 4,
   "metadata": {
    "ExecuteTime": {
     "end_time": "2023-06-20T17:57:32.103175500Z",
     "start_time": "2023-06-20T17:57:29.368476700Z"
    },
    "id": "dY4t_hi0socR",
    "tags": []
   },
   "outputs": [
    {
     "name": "stdout",
     "output_type": "stream",
     "text": [
      "Train dataset size:  11314\n",
      "Test dataset size:  3844\n"
     ]
    }
   ],
   "source": [
    "# Load the 20newsgroups dataset\n",
    "newsgroups_train = fetch_20newsgroups(subset='train', remove=('headers', 'footers', 'quotes'))\n",
    "\n",
    "# Select 10 categories for the test set\n",
    "selected_categories = ['alt.atheism', 'comp.graphics', 'comp.sys.ibm.pc.hardware', 'rec.autos', 'rec.sport.baseball', 'rec.sport.hockey', 'sci.med', 'sci.space', 'soc.religion.christian', 'talk.politics.guns']\n",
    "newsgroups_test = fetch_20newsgroups(subset='test', remove=('headers', 'footers', 'quotes'), categories=selected_categories)\n",
    "\n",
    "examples = newsgroups_test.data[:10]\n",
    "\n",
    "print(\"Train dataset size: \", len(newsgroups_train.data))\n",
    "print(\"Test dataset size: \", len(newsgroups_test.data))\n"
   ]
  },
  {
   "cell_type": "markdown",
   "metadata": {
    "id": "3g_IAlGtJPSY"
   },
   "source": [
    "# **2. Text Preprocessing:** \n",
    "Clean and normalize the text data using tokenization, stopword removal, and stemming/lemmatization. I'll use the `nltk` library for these tasks."
   ]
  },
  {
   "cell_type": "code",
   "execution_count": 10,
   "metadata": {
    "ExecuteTime": {
     "end_time": "2023-06-20T17:52:32.187771100Z",
     "start_time": "2023-06-20T17:52:32.173810200Z"
    },
    "colab": {
     "base_uri": "https://localhost:8080/"
    },
    "executionInfo": {
     "elapsed": 476,
     "status": "ok",
     "timestamp": 1685128657693,
     "user": {
      "displayName": "alessandra danovaro",
      "userId": "08179344108066784358"
     },
     "user_tz": -120
    },
    "id": "pJI0ErDNJZa4",
    "outputId": "5172967d-55e1-47d6-b391-c36919742d72",
    "tags": []
   },
   "outputs": [
    {
     "name": "stderr",
     "output_type": "stream",
     "text": [
      "[nltk_data] Downloading package punkt to\n",
      "[nltk_data]     C:\\Users\\robyd\\AppData\\Roaming\\nltk_data...\n",
      "[nltk_data]   Package punkt is already up-to-date!\n",
      "[nltk_data] Downloading package stopwords to\n",
      "[nltk_data]     C:\\Users\\robyd\\AppData\\Roaming\\nltk_data...\n",
      "[nltk_data]   Package stopwords is already up-to-date!\n",
      "[nltk_data] Downloading package wordnet to\n",
      "[nltk_data]     C:\\Users\\robyd\\AppData\\Roaming\\nltk_data...\n",
      "[nltk_data]   Package wordnet is already up-to-date!\n"
     ]
    }
   ],
   "source": [
    "#%pip install nltk\n",
    "import nltk\n",
    "from nltk.corpus import stopwords\n",
    "nltk.download('punkt')\n",
    "nltk.download('stopwords')\n",
    "nltk.download('wordnet')\n",
    "\n",
    "from nltk.tokenize import word_tokenize\n",
    "from nltk.stem import PorterStemmer, SnowballStemmer, WordNetLemmatizer"
   ]
  },
  {
   "cell_type": "code",
   "execution_count": 11,
   "metadata": {
    "ExecuteTime": {
     "end_time": "2023-06-20T18:10:14.389848200Z",
     "start_time": "2023-06-20T18:10:14.371141500Z"
    },
    "executionInfo": {
     "elapsed": 1,
     "status": "ok",
     "timestamp": 1685128657693,
     "user": {
      "displayName": "alessandra danovaro",
      "userId": "08179344108066784358"
     },
     "user_tz": -120
    },
    "id": "fklQYkddJ6Sw",
    "tags": []
   },
   "outputs": [],
   "source": [
    "# Function to preprocess text\n",
    "def preprocess_text(text):\n",
    "    # Tokenization\n",
    "    tokens = word_tokenize(text.lower())\n",
    "\n",
    "    # Remove punctuation and stopwords\n",
    "    stop_words = set(stopwords.words('english'))\n",
    "    filtered_tokens = [token for token in tokens if token.isalnum() and token not in stop_words]\n",
    "\n",
    "    # Stemming\n",
    "    stemmer = PorterStemmer()\n",
    "    stemmed_tokens = [stemmer.stem(token) for token in filtered_tokens]\n",
    "\n",
    "    # Lemmatize\n",
    "    #lemmatizer = WordNetLemmatizer()\n",
    "    #lemmatized_texts = [[lemmatizer.lemmatize(word) for word in text] for text in stemmed_tokens]\n",
    "\n",
    "    return tokens_list"
   ]
  },
  {
   "cell_type": "code",
   "execution_count": 13,
   "metadata": {
    "ExecuteTime": {
     "end_time": "2023-06-20T18:04:32.172823100Z",
     "start_time": "2023-06-20T18:02:47.665883700Z"
    },
    "colab": {
     "base_uri": "https://localhost:8080/"
    },
    "executionInfo": {
     "elapsed": 284,
     "status": "ok",
     "timestamp": 1685128660547,
     "user": {
      "displayName": "alessandra danovaro",
      "userId": "08179344108066784358"
     },
     "user_tz": -120
    },
    "id": "4w3SKkg0J924",
    "outputId": "9190111f-081b-4d17-9edc-ec7baaa3d58d",
    "tags": []
   },
   "outputs": [
    {
     "name": "stdout",
     "output_type": "stream",
     "text": [
      "['hear', 'mayb', 'port', 'real3d', 'version2', 'pipelin', 'somewher', 'possibl', 'unix', 'sure', 'though', 'pleas', 'put', 'straight']\n"
     ]
    }
   ],
   "source": [
    "# Example usage\n",
    "tokens_list = preprocess_text(examples[0])\n",
    "print(tokens_list)"
   ]
  },
  {
   "cell_type": "code",
   "execution_count": null,
   "metadata": {
    "id": "oa4z01g0fsM7"
   },
   "outputs": [],
   "source": []
  },
  {
   "cell_type": "markdown",
   "metadata": {
    "id": "xSaT22-QkIgK"
   },
   "source": [
    "# **3. Topic Modeling:** \n",
    "Apply Latent Dirichlet Allocation (LDA) to identify the main topics in the collected data. You can use the `gensim library` to perform LDA.\n",
    "\n",
    "Evaluate both models on the testing set using perplexity and coherence scores."
   ]
  },
  {
   "cell_type": "markdown",
   "metadata": {},
   "source": [
    "## SCRATCH"
   ]
  },
  {
   "cell_type": "code",
   "execution_count": null,
   "metadata": {
    "jupyter": {
     "outputs_hidden": false
    }
   },
   "outputs": [],
   "source": []
  },
  {
   "cell_type": "markdown",
   "metadata": {},
   "source": [
    "## GENSIM"
   ]
  },
  {
   "cell_type": "code",
   "execution_count": 14,
   "metadata": {
    "ExecuteTime": {
     "end_time": "2023-06-20T17:10:06.916330100Z",
     "start_time": "2023-06-20T17:10:06.896510900Z"
    },
    "jupyter": {
     "outputs_hidden": false
    },
    "tags": []
   },
   "outputs": [],
   "source": [
    "#%pip install gensim\n",
    "import gensim"
   ]
  },
  {
   "cell_type": "code",
   "execution_count": 15,
   "metadata": {
    "ExecuteTime": {
     "end_time": "2023-06-20T18:10:20.501587100Z",
     "start_time": "2023-06-20T18:10:20.487607500Z"
    },
    "jupyter": {
     "outputs_hidden": false
    },
    "tags": []
   },
   "outputs": [],
   "source": [
    "# Function to perform LDA\n",
    "def perform_lda(tokens_list, num_topics=20):\n",
    "    # Create a dictionary representation of the documents\n",
    "    dictionary = gensim.corpora.Dictionary(tokens_list)\n",
    "\n",
    "    # Create a bag-of-words representation of the documents\n",
    "    corpus = [dictionary.doc2bow(tokens) for tokens in tokens_list]\n",
    "    lda_model = gensim.models.ldamodel.LdaModel(corpus, num_topics=num_topics, id2word=dictionary, passes=15)\n",
    "\n",
    "    return lda_model"
   ]
  },
  {
   "cell_type": "code",
   "execution_count": 16,
   "metadata": {
    "ExecuteTime": {
     "end_time": "2023-06-20T18:12:14.729166900Z",
     "start_time": "2023-06-20T18:10:21.404152800Z"
    },
    "jupyter": {
     "outputs_hidden": false
    },
    "tags": []
   },
   "outputs": [],
   "source": [
    "processed_docs = [preprocess_text(doc) for doc in newsgroups_all.data]"
   ]
  },
  {
   "cell_type": "code",
   "execution_count": 17,
   "metadata": {
    "ExecuteTime": {
     "end_time": "2023-06-20T18:15:15.765479500Z",
     "start_time": "2023-06-20T18:12:14.730135Z"
    },
    "id": "CGGcqDcDkY6R",
    "tags": []
   },
   "outputs": [
    {
     "name": "stdout",
     "output_type": "stream",
     "text": [
      "(0, '0.028*\"would\" + 0.021*\"know\" + 0.019*\"get\" + 0.019*\"like\" + 0.014*\"one\" + 0.014*\"think\" + 0.011*\"want\" + 0.011*\"could\" + 0.011*\"anyon\" + 0.010*\"go\"')\n",
      "(1, '0.021*\"god\" + 0.010*\"one\" + 0.009*\"christian\" + 0.008*\"say\" + 0.008*\"believ\" + 0.007*\"peopl\" + 0.006*\"jesu\" + 0.006*\"would\" + 0.005*\"word\" + 0.005*\"church\"')\n",
      "(2, '0.014*\"egg\" + 0.011*\"pascal\" + 0.010*\"sphere\" + 0.008*\"overtim\" + 0.007*\"baptiz\" + 0.007*\"mask\" + 0.007*\"alcohol\" + 0.007*\"tobacco\" + 0.006*\"cheat\" + 0.006*\"fertil\"')\n",
      "(3, '0.013*\"price\" + 0.011*\"use\" + 0.008*\"offer\" + 0.008*\"sale\" + 0.007*\"sell\" + 0.007*\"new\" + 0.006*\"includ\" + 0.006*\"one\" + 0.005*\"ship\" + 0.005*\"model\"')\n",
      "(4, '0.024*\"space\" + 0.012*\"orbit\" + 0.010*\"launch\" + 0.010*\"earth\" + 0.008*\"nasa\" + 0.008*\"mission\" + 0.008*\"satellit\" + 0.008*\"system\" + 0.007*\"moon\" + 0.006*\"planet\"')\n",
      "(5, '0.040*\"armenian\" + 0.017*\"turkish\" + 0.015*\"muslim\" + 0.014*\"greek\" + 0.013*\"turkey\" + 0.013*\"jew\" + 0.011*\"villag\" + 0.010*\"turk\" + 0.009*\"russian\" + 0.008*\"genocid\"')\n",
      "(6, '0.024*\"use\" + 0.023*\"drive\" + 0.018*\"system\" + 0.014*\"disk\" + 0.010*\"problem\" + 0.010*\"run\" + 0.010*\"control\" + 0.009*\"mac\" + 0.009*\"work\" + 0.008*\"do\"')\n",
      "(7, '0.030*\"car\" + 0.014*\"bike\" + 0.011*\"wire\" + 0.009*\"use\" + 0.009*\"engin\" + 0.009*\"ground\" + 0.008*\"ride\" + 0.007*\"water\" + 0.007*\"power\" + 0.006*\"heat\"')\n",
      "(8, '0.008*\"use\" + 0.007*\"univers\" + 0.007*\"inform\" + 0.006*\"research\" + 0.006*\"1993\" + 0.006*\"studi\" + 0.006*\"year\" + 0.006*\"new\" + 0.006*\"report\" + 0.005*\"number\"')\n",
      "(9, '0.021*\"file\" + 0.018*\"use\" + 0.016*\"imag\" + 0.012*\"window\" + 0.012*\"program\" + 0.008*\"avail\" + 0.008*\"version\" + 0.008*\"applic\" + 0.007*\"user\" + 0.007*\"includ\"')\n",
      "(10, '0.061*\"card\" + 0.035*\"monitor\" + 0.032*\"video\" + 0.027*\"driver\" + 0.017*\"color\" + 0.016*\"board\" + 0.015*\"mode\" + 0.015*\"vga\" + 0.013*\"bu\" + 0.012*\"mhz\"')\n",
      "(11, '0.026*\"1\" + 0.014*\"gm\" + 0.012*\"appear\" + 0.011*\"new\" + 0.010*\"1st\" + 0.008*\"copi\" + 0.008*\"3\" + 0.008*\"comic\" + 0.007*\"art\" + 0.007*\"lost\"')\n",
      "(12, '0.194*\"x\" + 0.016*\"entri\" + 0.012*\"output\" + 0.012*\"file\" + 0.010*\"echo\" + 0.010*\"int\" + 0.009*\"0\" + 0.008*\"defin\" + 0.008*\"program\" + 0.008*\"return\"')\n",
      "(13, '0.119*\"max\" + 0.108*\"q\" + 0.051*\"r\" + 0.044*\"7\" + 0.043*\"g\" + 0.043*\"p\" + 0.031*\"b8f\" + 0.027*\"n\" + 0.027*\"a86\" + 0.023*\"145\"')\n",
      "(14, '0.033*\"b\" + 0.031*\"c\" + 0.028*\"0\" + 0.028*\"p\" + 0.027*\"h\" + 0.027*\"e\" + 0.027*\"k\" + 0.027*\"w\" + 0.026*\"g\" + 0.026*\"n\"')\n",
      "(15, '0.048*\"game\" + 0.031*\"team\" + 0.020*\"play\" + 0.019*\"player\" + 0.014*\"season\" + 0.012*\"win\" + 0.012*\"hockey\" + 0.011*\"leagu\" + 0.011*\"year\" + 0.010*\"score\"')\n",
      "(16, '0.081*\"1\" + 0.067*\"2\" + 0.057*\"0\" + 0.039*\"3\" + 0.030*\"4\" + 0.030*\"25\" + 0.020*\"5\" + 0.015*\"7\" + 0.015*\"6\" + 0.010*\"8\"')\n",
      "(17, '0.076*\"key\" + 0.036*\"encrypt\" + 0.028*\"chip\" + 0.026*\"secur\" + 0.021*\"use\" + 0.018*\"clipper\" + 0.018*\"de\" + 0.016*\"privaci\" + 0.015*\"messag\" + 0.014*\"phone\"')\n",
      "(18, '0.011*\"peopl\" + 0.008*\"right\" + 0.007*\"would\" + 0.007*\"govern\" + 0.007*\"state\" + 0.005*\"law\" + 0.005*\"one\" + 0.005*\"gun\" + 0.005*\"us\" + 0.004*\"said\"')\n",
      "(19, '0.014*\"one\" + 0.011*\"time\" + 0.010*\"year\" + 0.009*\"go\" + 0.009*\"get\" + 0.008*\"like\" + 0.007*\"back\" + 0.006*\"would\" + 0.006*\"start\" + 0.006*\"good\"')\n"
     ]
    }
   ],
   "source": [
    "# Example usage\n",
    "lda_model = perform_lda(processed_docs)\n",
    "\n",
    "# Print the topics\n",
    "topics = lda_model.print_topics()\n",
    "for topic in topics:\n",
    "    print(topic)"
   ]
  },
  {
   "cell_type": "code",
   "execution_count": 18,
   "metadata": {
    "ExecuteTime": {
     "end_time": "2023-06-20T18:22:27.547561200Z",
     "start_time": "2023-06-20T18:22:03.265859400Z"
    },
    "jupyter": {
     "outputs_hidden": false
    },
    "scrolled": true,
    "tags": []
   },
   "outputs": [
    {
     "data": {
      "text/html": [
       "\n",
       "<link rel=\"stylesheet\" type=\"text/css\" href=\"https://cdn.jsdelivr.net/gh/bmabey/pyLDAvis@3.4.0/pyLDAvis/js/ldavis.v1.0.0.css\">\n",
       "\n",
       "\n",
       "<div id=\"ldavis_el2478423234341608649545790083\" style=\"background-color:white;\"></div>\n",
       "<script type=\"text/javascript\">\n",
       "\n",
       "var ldavis_el2478423234341608649545790083_data = {\"mdsDat\": {\"x\": [0.23582810873575338, 0.2535984194336996, 0.23546612873348693, 0.21805704868187276, 0.16592076101019546, 0.13999544522359803, 0.10631055374020394, 0.12371245707661807, -0.30263112831546296, -0.2455419045128476, 0.05684406148158485, 0.07950076485895505, -0.020917097856386277, -0.035551862649820756, -0.29684223798096, -0.1026806613097345, -0.05890959450834657, -0.16820192334568473, -0.16092846846744305, -0.22302887002928182], \"y\": [0.042567382535107355, 0.13767147852688688, 0.08163267248014243, 0.12606655302563635, -0.04697598998406797, -0.042645547587068046, 0.02431851461538388, -0.04620362088359854, 0.2472434680062955, 0.1864003386193097, -0.09509930952743899, -0.036573615817429864, 0.004291316247085059, -0.09890935519192061, 0.13186927100716983, -0.06991960706450376, -0.16248042379511626, -0.0201999781723003, -0.1813911207125258, -0.18166242632704582], \"topics\": [1, 2, 3, 4, 5, 6, 7, 8, 9, 10, 11, 12, 13, 14, 15, 16, 17, 18, 19, 20], \"cluster\": [1, 1, 1, 1, 1, 1, 1, 1, 1, 1, 1, 1, 1, 1, 1, 1, 1, 1, 1, 1], \"Freq\": [14.152671495932772, 13.09997677198653, 11.181137021360481, 9.222250030395667, 9.124036267895058, 6.780559555601486, 5.688648421918377, 4.869520032549665, 4.435658885378365, 3.603298809019382, 2.9078571928330708, 2.866613663563191, 2.6212012023986295, 2.2118205086159497, 2.089119441352556, 1.4333621246993233, 1.2983072994792375, 1.2162458572128891, 0.9193719618339223, 0.2783434559734572]}, \"tinfo\": {\"Term\": [\"x\", \"1\", \"q\", \"max\", \"0\", \"2\", \"r\", \"p\", \"g\", \"use\", \"3\", \"7\", \"god\", \"4\", \"would\", \"file\", \"n\", \"game\", \"key\", \"c\", \"b\", \"5\", \"w\", \"know\", \"h\", \"k\", \"e\", \"card\", \"l\", \"25\", \"gun\", \"arab\", \"isra\", \"firearm\", \"citizen\", \"crimin\", \"clinton\", \"koresh\", \"amend\", \"palestinian\", \"batf\", \"polic\", \"assault\", \"violent\", \"waco\", \"terrorist\", \"ban\", \"attorney\", \"handgun\", \"davidian\", \"prison\", \"lawyer\", \"liberti\", \"iran\", \"atf\", \"arrest\", \"economi\", \"serb\", \"suicid\", \"militia\", \"israel\", \"civil\", \"crime\", \"presid\", \"court\", \"weapon\", \"constitut\", \"countri\", \"fbi\", \"elect\", \"militari\", \"nsa\", \"govern\", \"feder\", \"parti\", \"legal\", \"polit\", \"fire\", \"illeg\", \"hous\", \"law\", \"state\", \"war\", \"right\", \"peopl\", \"forc\", \"kill\", \"us\", \"said\", \"would\", \"attack\", \"american\", \"issu\", \"one\", \"nation\", \"say\", \"make\", \"person\", \"time\", \"even\", \"live\", \"mani\", \"could\", \"use\", \"netter\", \"ct\", \"gamma\", \"greet\", \"anybodi\", \"junk\", \"fuck\", \"breaker\", \"billboard\", \"liver\", \"drain\", \"kidney\", \"campbel\", \"dislik\", \"crt\", \"chop\", \"burnt\", \"toplevel\", \"corvett\", \"25mhz\", \"projector\", \"lemon\", \"copper\", \"v6\", \"isdn\", \"cant\", \"lighter\", \"dealership\", \"sue\", \"choke\", \"advic\", \"anyon\", \"appreci\", \"thank\", \"know\", \"someon\", \"folk\", \"would\", \"wonder\", \"guess\", \"get\", \"want\", \"like\", \"mine\", \"money\", \"realli\", \"greatli\", \"think\", \"post\", \"someth\", \"thing\", \"could\", \"tell\", \"pleas\", \"anyth\", \"anyway\", \"help\", \"sure\", \"lot\", \"tri\", \"question\", \"much\", \"look\", \"go\", \"seem\", \"work\", \"good\", \"need\", \"one\", \"make\", \"problem\", \"way\", \"peopl\", \"use\", \"say\", \"time\", \"god\", \"jesu\", \"church\", \"bibl\", \"belief\", \"christ\", \"homosexu\", \"sin\", \"atheist\", \"faith\", \"lord\", \"scriptur\", \"kinsey\", \"cathol\", \"psalm\", \"holi\", \"prayer\", \"vers\", \"atheism\", \"revel\", \"contradict\", \"mormon\", \"prophet\", \"sex\", \"biblic\", \"marriag\", \"worship\", \"satan\", \"divin\", \"matthew\", \"christian\", \"doctrin\", \"heaven\", \"religion\", \"spirit\", \"etern\", \"moral\", \"pray\", \"truth\", \"interpret\", \"argument\", \"word\", \"religi\", \"teach\", \"believ\", \"evid\", \"exist\", \"love\", \"life\", \"say\", \"natur\", \"human\", \"mean\", \"one\", \"peopl\", \"book\", \"claim\", \"true\", \"us\", \"would\", \"mani\", \"may\", \"also\", \"think\", \"make\", \"see\", \"pitch\", \"dog\", \"bat\", \"clutch\", \"shout\", \"leg\", \"morri\", \"hit\", \"hitter\", \"huh\", \"runner\", \"catcher\", \"princ\", \"henrik\", \"ass\", \"hunt\", \"tyre\", \"vector\", \"drag\", \"baptism\", \"meat\", \"gopher\", \"gant\", \"angri\", \"kinda\", \"phenomenon\", \"out\", \"fielder\", \"glove\", \"song\", \"bond\", \"ball\", \"apart\", \"walk\", \"pitcher\", \"went\", \"suck\", \"catch\", \"guy\", \"throw\", \"boy\", \"took\", \"face\", \"shark\", \"eye\", \"saw\", \"back\", \"averag\", \"left\", \"start\", \"year\", \"go\", \"time\", \"watch\", \"came\", \"day\", \"stay\", \"one\", \"away\", \"last\", \"take\", \"still\", \"get\", \"better\", \"first\", \"good\", \"run\", \"see\", \"even\", \"well\", \"like\", \"said\", \"come\", \"around\", \"look\", \"two\", \"say\", \"think\", \"could\", \"would\", \"right\", \"ftp\", \"server\", \"directori\", \"anonym\", \"client\", \"motif\", \"databas\", \"toolkit\", \"sharewar\", \"x11r5\", \"bitmap\", \"onlin\", \"tiff\", \"x11\", \"openwindow\", \"icon\", \"sgi\", \"linux\", \"xlib\", \"readm\", \"x11r4\", \"suno\", \"pixmap\", \"xview\", \"adob\", \"callback\", \"cpsr\", \"login\", \"sparc\", \"cica\", \"font\", \"widget\", \"colormap\", \"binari\", \"pixel\", \"imag\", \"gif\", \"file\", \"viewer\", \"code\", \"visual\", \"display\", \"format\", \"user\", \"applic\", \"librari\", \"unix\", \"plot\", \"version\", \"graphic\", \"window\", \"tool\", \"site\", \"compil\", \"program\", \"resourc\", \"avail\", \"mail\", \"softwar\", \"list\", \"archiv\", \"use\", \"data\", \"send\", \"includ\", \"run\", \"inform\", \"system\", \"comput\", \"set\", \"also\", \"support\", \"process\", \"get\", \"health\", \"diseas\", \"patient\", \"myer\", \"cancer\", \"infect\", \"medicin\", \"clinic\", \"msg\", \"hotel\", \"physician\", \"diet\", \"diagnos\", \"vaccin\", \"mw\", \"therapi\", \"syndrom\", \"voyag\", \"nutrit\", \"protein\", \"doctor\", \"yeast\", \"fortran\", \"dose\", \"dn\", \"headach\", \"chair\", \"diagnosi\", \"rockefel\", \"latch\", \"newslett\", \"medic\", \"1986\", \"treatment\", \"studi\", \"educ\", \"research\", \"1993\", \"food\", \"drug\", \"confer\", \"increas\", \"1992\", \"april\", \"institut\", \"univers\", \"aid\", \"school\", \"1991\", \"age\", \"report\", \"rate\", \"develop\", \"inform\", \"effect\", \"center\", \"nation\", \"number\", \"organ\", \"year\", \"use\", \"new\", \"state\", \"program\", \"may\", \"public\", \"also\", \"includ\", \"caus\", \"sale\", \"jpeg\", \"detector\", \"laser\", \"audio\", \"gateway\", \"amp\", \"cartridg\", \"watt\", \"ink\", \"polygon\", \"micro\", \"filenam\", \"retail\", \"sticker\", \"launcher\", \"2400\", \"drum\", \"deskjet\", \"solder\", \"volt\", \"pitt\", \"dial\", \"polish\", \"9600\", \"quicktim\", \"boe\", \"puls\", \"ham\", \"amplifi\", \"warranti\", \"price\", \"stereo\", \"ship\", \"band\", \"cd\", \"300\", \"offer\", \"sell\", \"printer\", \"gmt\", \"qualiti\", \"500\", \"circuit\", \"turbo\", \"excel\", \"model\", \"brand\", \"100\", \"condit\", \"200\", \"manual\", \"cost\", \"box\", \"purchas\", \"radio\", \"sold\", \"new\", \"use\", \"includ\", \"best\", \"origin\", \"per\", \"phone\", \"old\", \"good\", \"ask\", \"bit\", \"color\", \"one\", \"also\", \"10\", \"2\", \"make\", \"pleas\", \"scsi\", \"ripem\", \"serial\", \"pin\", \"floppi\", \"ide\", \"bio\", \"ethernet\", \"jumper\", \"duo\", \"fpu\", \"reset\", \"irq\", \"com\", \"conductor\", \"adaptec\", \"relax\", \"telecommun\", \"dma\", \"nubu\", \"rsaref\", \"razor\", \"integ\", \"toshiba\", \"defici\", \"redraw\", \"diagnost\", \"esdi\", \"synchron\", \"comm\", \"cach\", \"cpu\", \"connector\", \"interrupt\", \"disk\", \"port\", \"mbyte\", \"drive\", \"modem\", \"socket\", \"norton\", \"do\", \"mac\", \"devic\", \"backup\", \"hd\", \"patent\", \"rom\", \"setup\", \"instal\", \"appl\", \"ram\", \"mous\", \"pc\", \"machin\", \"system\", \"cabl\", \"hard\", \"control\", \"memori\", \"connect\", \"use\", \"chip\", \"run\", \"comput\", \"problem\", \"data\", \"softwar\", \"window\", \"work\", \"card\", \"driver\", \"need\", \"set\", \"h\", \"k\", \"u\", \"cipher\", \"bh\", \"mv\", \"j\", \"mh\", \"s2\", \"s1\", \"m2\", \"m0\", \"b8\", \"mz\", \"hash\", \"l\", \"rh\", \"mx\", \"t5\", \"kk\", \"ch\", \"sq\", \"m8\", \"kh\", \"ar\", \"w0\", \"h8\", \"ho\", \"x8\", \"b9r\", \"e\", \"db\", \"b\", \"v\", \"z\", \"f\", \"w\", \"c\", \"mc\", \"n\", \"8\", \"p\", \"g\", \"9\", \"r\", \"6\", \"5\", \"mp\", \"4\", \"0\", \"ah\", \"2\", \"7\", \"1\", \"3\", \"x\", \"q\", \"pt\", \"tor\", \"cal\", \"det\", \"min\", \"chi\", \"nyi\", \"54\", \"que\", \"sabr\", \"stl\", \"49\", \"57\", \"calgari\", \"nyr\", \"phi\", \"defenseman\", \"sl\", \"bayonet\", \"har\", \"sb\", \"edm\", \"scorer\", \"isl\", \"ott\", \"102\", \"seagat\", \"mfm\", \"ihl\", \"hull\", \"37\", \"mon\", \"bo\", \"25\", \"38\", \"pit\", \"39\", \"33\", \"36\", \"34\", \"31\", \"1\", \"26\", \"nj\", \"2\", \"0\", \"3\", \"35\", \"13\", \"4\", \"11\", \"la\", \"van\", \"5\", \"28\", \"27\", \"6\", \"10\", \"12\", \"18\", \"7\", \"15\", \"8\", \"16\", \"14\", \"9\", \"period\", \"32\", \"17\", \"20\", \"orbit\", \"nasa\", \"satellit\", \"spacecraft\", \"shuttl\", \"atmospher\", \"lunar\", \"astronom\", \"astronomi\", \"venu\", \"sky\", \"planetari\", \"solar\", \"telescop\", \"payload\", \"asteroid\", \"propuls\", \"jupit\", \"astronaut\", \"kilomet\", \"crater\", \"iraqi\", \"delta\", \"pluto\", \"jpl\", \"magellan\", \"pursuant\", \"analyst\", \"flybi\", \"observatori\", \"moon\", \"comet\", \"mission\", \"launch\", \"planet\", \"graviti\", \"mar\", \"space\", \"flight\", \"rocket\", \"earth\", \"probe\", \"energi\", \"surfac\", \"distanc\", \"project\", \"explor\", \"observ\", \"star\", \"system\", \"center\", \"technolog\", \"design\", \"data\", \"first\", \"scienc\", \"develop\", \"engin\", \"car\", \"bike\", \"batteri\", \"dod\", \"wheel\", \"motorcycl\", \"brake\", \"rear\", \"bmw\", \"metal\", \"helmet\", \"outlet\", \"ford\", \"plastic\", \"sink\", \"honda\", \"steer\", \"ride\", \"insul\", \"intellect\", \"garag\", \"interior\", \"chastiti\", \"geb\", \"n3jxp\", \"kuwait\", \"toyota\", \"oscil\", \"ignit\", \"lamp\", \"heat\", \"wire\", \"muscl\", \"auto\", \"oil\", \"tire\", \"gear\", \"water\", \"electr\", \"ground\", \"mile\", \"motor\", \"engin\", \"front\", \"dealer\", \"road\", \"light\", \"hot\", \"power\", \"seat\", \"speed\", \"use\", \"drive\", \"turn\", \"air\", \"new\", \"hockey\", \"nhl\", \"leaf\", \"espn\", \"game\", \"coach\", \"bruin\", \"adl\", \"puck\", \"bullock\", \"season\", \"oiler\", \"goali\", \"goaltend\", \"abc\", \"batter\", \"gerard\", \"skate\", \"obo\", \"rooki\", \"franchis\", \"yank\", \"bullpen\", \"stadium\", \"cbc\", \"basebal\", \"player\", \"ninth\", \"swedish\", \"eagl\", \"team\", \"leagu\", \"playoff\", \"flyer\", \"inning\", \"arena\", \"score\", \"cup\", \"stat\", \"win\", \"fan\", \"play\", \"draft\", \"toronto\", \"goal\", \"wing\", \"boston\", \"tie\", \"trade\", \"divis\", \"blue\", \"san\", \"chicago\", \"year\", \"seri\", \"defens\", \"last\", \"first\", \"final\", \"new\", \"armenian\", \"turkish\", \"turkey\", \"turk\", \"genocid\", \"greec\", \"armenia\", \"azerbaijani\", \"ottoman\", \"azeri\", \"azerbaijan\", \"istanbul\", \"serdar\", \"tartar\", \"argic\", \"undefin\", \"corps\", \"kurd\", \"extermin\", \"refuge\", \"baku\", \"cypru\", \"ankara\", \"mosqu\", \"karabakh\", \"erzurum\", \"1914\", \"agdam\", \"1920\", \"anatolia\", \"massacr\", \"villag\", \"muslim\", \"london\", \"greek\", \"slaughter\", \"russian\", \"nazi\", \"soldier\", \"jew\", \"daughter\", \"popul\", \"republ\", \"armi\", \"histori\", \"jewish\", \"women\", \"kill\", \"war\", \"million\", \"univers\", \"peopl\", \"max\", \"b8f\", \"a86\", \"1d9\", \"2di\", \"giz\", \"7ey\", \"0d\", \"bj\", \"bm\", \"6um\", \"145\", \"uy\", \"interleav\", \"leftov\", \"hut\", \"1f\", \"truelov\", \"vb\", \"verdict\", \"oz\", \"gaug\", \"0t\", \"fr\", \"fc\", \"eo\", \"hv\", \"pizza\", \"vmk\", \"guerilla\", \"wm\", \"q\", \"ax\", \"r\", \"pl\", \"g\", \"p\", \"7\", \"n\", \"lg\", \"04\", \"christma\", \"w\", \"9\", \"d9\", \"mr\", \"3\", \"f\", \"z\", \"v\", \"1\", \"14\", \"2\", \"int\", \"null\", \"char\", \"contest\", \"vat\", \"printf\", \"col\", \"xdm\", \"endif\", \"fprintf\", \"9v\", \"fj\", \"stderr\", \"fg\", \"beep\", \"hostnam\", \"5v\", \"sizeof\", \"unsign\", \"hg\", \"pars\", \"xtermin\", \"aberr\", \"setenv\", \"smartdrv\", \"struct\", \"je\", \"var\", \"malloc\", \"quinn\", \"void\", \"echo\", \"x\", \"entri\", \"static\", \"xor\", \"midi\", \"rs\", \"alloc\", \"dpi\", \"uunet\", \"output\", \"exit\", \"stealth\", \"string\", \"gc\", \"defin\", \"return\", \"error\", \"file\", \"program\", \"0\", \"c\", \"line\", \"link\", \"rule\", \"section\", \"input\", \"build\", \"follow\", \"els\", \"1\", \"encrypt\", \"privaci\", \"pgp\", \"rsa\", \"escrow\", \"wiretap\", \"decrypt\", \"cryptographi\", \"cryptograph\", \"pem\", \"plaintext\", \"rfc\", \"candida\", \"eff\", \"antibiot\", \"cryptosystem\", \"umpir\", \"mime\", \"clipper\", \"testifi\", \"jerk\", \"allah\", \"aaa\", \"ciphertext\", \"tablet\", \"laserwrit\", \"key\", \"attest\", \"ate\", \"sez\", \"oral\", \"de\", \"secur\", \"authent\", \"chip\", \"tap\", \"algorithm\", \"secret\", \"scheme\", \"phone\", \"agenc\", \"messag\", \"block\", \"random\", \"public\", \"privat\", \"use\", \"trust\", \"bit\", \"system\", \"number\", \"standard\", \"govern\", \"attack\", \"comic\", \"chronic\", \"rochest\", \"wolverin\", \"einstein\", \"hors\", \"hulk\", \"tiger\", \"binghamton\", \"grain\", \"liefeld\", \"astro\", \"aveng\", \"sabretooth\", \"trek\", \"abomin\", \"kansa\", \"ezekiel\", \"chromium\", \"mutant\", \"212\", \"batman\", \"hobgoblin\", \"surgeon\", \"reprint\", \"infin\", \"corn\", \"ireland\", \"warrior\", \"oakland\", \"gm\", \"royal\", \"ghost\", \"1st\", \"baltimor\", \"05\", \"art\", \"cub\", \"silver\", \"appear\", \"houston\", \"lost\", \"1\", \"frank\", \"miller\", \"vs\", \"copi\", \"red\", \"cover\", \"san\", \"new\", \"green\", \"3\", \"john\", \"2\", \"10\", \"man\", \"book\", \"4\", \"vga\", \"simm\", \"ati\", \"diamond\", \"svga\", \"vram\", \"xfree86\", \"vlb\", \"1024x768\", \"yassin\", \"cramer\", \"eisa\", \"ultra\", \"sync\", \"maxtor\", \"harley\", \"harddisk\", \"deir\", \"viper\", \"1mb\", \"800x600\", \"speedstar\", \"trident\", \"dram\", \"com3\", \"nextstep\", \"256k\", \"2mb\", \"lciii\", \"hercul\", \"vesa\", \"mhz\", \"video\", \"monitor\", \"card\", \"horizont\", \"slot\", \"acceler\", \"driver\", \"256\", \"bu\", \"isa\", \"board\", \"mode\", \"color\", \"screen\", \"resolut\", \"graphic\", \"support\", \"24\", \"bit\", \"local\", \"memori\", \"window\", \"egg\", \"pascal\", \"sphere\", \"overtim\", \"baptiz\", \"cheat\", \"fertil\", \"motto\", \"defil\", \"rode\", \"mixer\", \"lev\", \"cigarett\", \"gasolin\", \"unrealist\", \"cocain\", \"oort\", \"piti\", \"melt\", \"spout\", \"champ\", \"tomb\", \"odomet\", \"mytholog\", \"iowa\", \"marijuana\", \"sentiment\", \"chronicl\", \"discrep\", \"ks\", \"croat\", \"tobacco\", \"alcohol\", \"needl\", \"mask\", \"survey\", \"cat\"], \"Freq\": [6803.0, 8775.0, 5215.0, 4618.0, 6386.0, 7592.0, 4068.0, 4041.0, 3925.0, 11921.0, 5161.0, 4103.0, 4274.0, 4408.0, 11191.0, 4019.0, 3318.0, 2349.0, 1883.0, 3248.0, 2948.0, 3830.0, 2739.0, 6703.0, 2251.0, 2215.0, 2367.0, 1641.0, 2119.0, 2172.0, 1239.54404638967, 630.2384076617614, 612.060117942446, 588.5832979775013, 507.620901380584, 465.81406061233315, 426.73629833257843, 423.8886627203671, 354.44705615064606, 311.74607922246, 290.03118214952866, 612.5213094381583, 211.10050699978052, 208.45370544135898, 205.37616265519026, 194.80332466352377, 190.52377667648645, 189.84952511487185, 178.98661389214308, 174.86419846879087, 166.51343435318083, 164.42477549540956, 159.64100779481186, 156.9410177281257, 153.48605993725417, 151.02078176017417, 150.5261867795535, 150.43934996010537, 150.4296487189547, 150.20433203765532, 880.4273574875476, 398.83687532772933, 685.5437451074346, 941.9171290552855, 462.5910145105464, 785.8628414922734, 416.7468660528237, 991.2791862598639, 622.3928884697386, 237.69820400158594, 590.650243805, 313.3970958118548, 1865.6294659469766, 455.3803910564166, 478.5169637055465, 564.8181950736309, 559.3342701311851, 807.1579533132682, 312.365244872178, 794.2516301887343, 1435.991058155978, 1795.8444293198645, 740.1073201461355, 1985.4549121803893, 3016.286150421438, 786.2250619662781, 899.1460400025688, 1222.954250749747, 1103.2792502623806, 1930.650672913269, 603.979871559175, 671.3662839626019, 740.5186282882969, 1318.0127037550276, 702.2726632781811, 912.7699489394092, 878.9513610815621, 768.139071752674, 826.3564341209088, 784.5897448617739, 695.6409315515159, 733.5347139649061, 704.8031876575742, 715.3931481868552, 99.12247332023516, 95.9915003006396, 95.57224696679488, 89.59799672652007, 637.4059657975873, 84.66888424367696, 81.27158104301941, 78.44952780533957, 73.88334047456692, 67.28280923311154, 63.90755149761156, 61.94841569485476, 60.03439767511078, 53.75841916267531, 50.03331979482176, 49.302097988810644, 48.54587409004694, 46.8492514090139, 46.35002395437751, 46.17815359888708, 45.51640014830905, 45.27461174672138, 44.30198749410206, 42.810908855300305, 41.602806033876924, 41.29199896752031, 38.66772464115455, 38.291057367292176, 38.01431348352725, 36.770940042374576, 304.77820879805023, 2603.5754121002283, 757.4208832490235, 2015.7352436050846, 5020.650126416354, 1393.0396437941577, 335.2134995636406, 6799.2031888562615, 657.6498356014542, 603.3188185884583, 4732.596557856716, 2704.6732384141005, 4624.941377686889, 379.9360930044512, 711.0679309940219, 1593.0019980306106, 253.23674690528856, 3348.822439651148, 1962.3889854108972, 1690.3937500785073, 2294.938106739021, 2639.703857491413, 1250.8073164713594, 1607.5444983873015, 1083.8063389637373, 524.964320688981, 1497.43053713726, 1286.2670187318795, 1186.6718815740353, 1889.388908218153, 1629.4715001522768, 1880.7228946431758, 1971.0570385277842, 2313.7963910848507, 1484.8586874970254, 2191.7114519027946, 1904.8544145969374, 1889.5689544456395, 3521.7778597645943, 2006.6592821062266, 1643.766649398456, 1605.290577961143, 1959.478785721301, 1744.6557625902196, 1563.2577720488096, 1510.0739973601076, 4273.763282876507, 1254.0947677780937, 1130.61202423312, 1024.549821040847, 878.5241458684208, 867.1187354125553, 848.7323429724601, 816.9098039063667, 729.9247509928008, 670.2571517556105, 667.8645232743703, 392.5140872301198, 360.0687539335468, 336.3151948473969, 332.56135998485286, 330.9403880376391, 325.42817916988923, 269.32031595280773, 255.10496934001287, 247.39469021038954, 232.81708862048856, 230.85581507794885, 217.99459077061906, 451.7878311928618, 182.5078436990952, 179.83471724569335, 179.7173585285557, 177.27330400871804, 176.86789177778195, 166.53396592582854, 1961.4269260793708, 323.30254539679703, 274.2676604389163, 895.5076495151097, 325.60566790958995, 283.72185528926906, 619.8988018580106, 310.5296181712527, 523.8539654564048, 464.8244165993674, 747.2808335086886, 1140.5921089591343, 486.76285654040174, 404.71692768364346, 1572.701392936725, 775.8824149528051, 1039.9529713321624, 692.3789556255225, 761.129113775463, 1684.3913020284263, 593.9182317633014, 716.8319281787835, 1048.463243299167, 1983.1389173708974, 1483.9781060697405, 814.4896128092352, 753.225412779935, 696.5704074596758, 899.2064558568039, 1155.641393946777, 830.6296036987139, 849.0495548325437, 829.6394771671481, 824.1668956041756, 776.3989480457034, 759.705335420539, 406.7674299444478, 278.0725865306845, 219.76775952880809, 192.2474408668006, 160.89933458774533, 131.86447857925293, 125.84572441406429, 738.5638503485651, 112.23066233751953, 102.95457850759948, 98.58194830703036, 98.55071929376994, 97.37741774575605, 96.94310313541213, 96.86719429826286, 93.80018014314241, 93.24742062586348, 93.2467226594113, 172.07084602805443, 90.48202768757814, 87.77691910886254, 83.64102417244905, 80.03205900910915, 78.69458079511845, 76.34873050576408, 75.7627079015641, 72.1618740473921, 69.53591984982843, 69.16299138895378, 69.19001764707714, 144.3307875850019, 289.7486280064268, 307.10410227115574, 342.2322552619296, 246.37126934302867, 707.7546539381876, 167.4895936549286, 147.5387211668176, 588.2780329354586, 302.7152692779467, 222.4798577429948, 492.30050656094215, 501.9362724455694, 129.2927912733463, 342.3882806768399, 424.2916924392125, 1205.58668422595, 366.0985998953809, 612.9562521460862, 1059.15523698077, 1631.00433614582, 1623.5690391240325, 1847.3637260696446, 400.50096748538033, 549.4651953922325, 915.1996163347643, 307.62687914383883, 2344.968338945388, 513.6058328042558, 797.4809135803955, 1023.502073624666, 832.7051665806853, 1531.7302145081621, 708.9042645106247, 1001.3372914340359, 1058.173696730018, 907.3014279618909, 1030.8541730453535, 1008.7116460135987, 1007.6037538931034, 1317.284209874446, 827.2949294813556, 861.1274772597949, 657.7778230504374, 889.5942184890604, 829.02038231874, 927.9217499871361, 964.387346293578, 883.6017577172203, 1077.881637008973, 699.8179378171538, 984.6172219768463, 949.445793537908, 640.7767145356437, 599.6007237429345, 476.8631555686578, 414.30458251658456, 294.73348462069714, 209.38129345844845, 196.52251678548225, 183.6199405684956, 178.9243926952073, 177.91913397136412, 176.3988754738422, 173.79842551905824, 154.67419312729646, 148.95231539817675, 146.70307070605435, 133.0901625597246, 127.95763531673464, 125.90194712308657, 122.71276816218939, 121.51055946168651, 116.89211456949376, 116.5615069302364, 99.38933340556069, 93.93064753105058, 91.0970044634062, 89.72948207851246, 86.37002745785456, 80.51013184125948, 631.0740895998402, 589.6017613516411, 126.61447889439285, 204.13489726576736, 299.566468360493, 2736.473976530177, 378.10421992460283, 3554.904837795861, 184.8373508674975, 1104.7067328541223, 304.9471436957882, 1079.2587242696347, 945.3528642558638, 1196.2544089771175, 1281.6235872598174, 646.4392063965194, 501.05798422652657, 367.07478447736804, 1367.0355391512726, 883.0530241859008, 2117.8703668348944, 648.2291872212053, 644.70734875052, 381.9638278518785, 2049.7182763390156, 470.73840095264694, 1429.1462914600227, 939.1057076708876, 1173.6398757593176, 1064.5109048303038, 416.48678628502154, 3091.2073516511778, 1027.3601315921262, 863.1917855478969, 1189.1867409341576, 1075.3894488754356, 994.3902023964231, 1169.9768922715502, 824.672809256236, 848.375938708664, 980.4716543238801, 798.4529027617227, 697.0568794361964, 673.8681381421928, 606.0347069916335, 508.3010164873247, 504.08127411960083, 337.9244757847149, 268.23506403012505, 257.630578745622, 222.39615517501892, 217.70023291543762, 152.95947343847095, 152.1870465190254, 151.38684964807024, 139.32713972931094, 131.6562404522235, 127.04255771641067, 122.06835679015732, 120.22635420666764, 118.81692653309788, 110.56977876908797, 104.3308867459952, 89.76889746109957, 423.4391530317469, 85.82848209771034, 85.19611455619281, 85.03711179001219, 81.12023637231921, 79.37762792889484, 78.01079355476303, 76.9691198008154, 76.84163314380581, 76.58083165886528, 231.48682621268247, 592.0092686521016, 132.69249657307566, 342.36206711734366, 737.469623569497, 424.52748880822855, 795.349592196414, 780.1703666212986, 352.8394616205978, 618.1347815759186, 435.7588946770232, 533.996813603938, 377.68430179649545, 506.7445502927865, 315.54453403969814, 856.5755027527406, 310.06813538687044, 396.80483712097794, 261.25592098969224, 383.1292063332499, 692.9075606632903, 522.6354725132436, 579.2285810007221, 856.2616172607036, 520.790867413179, 423.2802455689902, 543.204121370355, 665.4923724835143, 428.7970821976698, 707.0041979914868, 1004.4719304808121, 694.3445603504894, 606.2958090489109, 573.030280905166, 594.9758736303722, 433.2541740770292, 479.6784658856842, 446.9365494147543, 428.63808676252177, 839.4409406927949, 466.86942693706374, 205.39956573863236, 201.10461472245197, 196.38010217951552, 181.92594294451263, 154.80190208909457, 130.592497881988, 114.59748456130477, 112.8829410406771, 100.17644563817124, 94.9274574268319, 90.5883951986316, 86.47159886278705, 83.9929140855273, 83.35824034325927, 82.25669628838567, 80.08715902380978, 79.49532949555886, 79.10580756588168, 79.0054994570093, 73.7772998536771, 73.32484010573448, 70.91467777871368, 69.9177779181104, 69.80269021603057, 68.02148168883797, 67.70692175750136, 66.96543885350192, 66.62421660982477, 123.4823511092889, 1330.9440562555349, 126.40684081973869, 558.0173124624961, 177.06680878854053, 444.61784216807445, 213.07309608927673, 855.2086939348202, 777.0249287892888, 441.47312852321517, 122.22876114360324, 380.1098074457658, 175.28515127661876, 256.07237590078296, 120.94065470805481, 295.8206618466123, 487.6582317594386, 179.75649793707285, 343.5493868825999, 389.3736786099087, 170.83389206993726, 343.00876006489915, 447.1909059955915, 377.9689006457678, 259.2256264059718, 271.67962632785117, 213.7217252610028, 729.265057744145, 1143.7213113012665, 614.8601568792662, 439.4863772472087, 406.2106551567845, 296.7827930678474, 326.0103212288506, 367.0520768250752, 485.73303444465563, 408.2211718710572, 369.779837418449, 341.2625415942014, 586.8103464151983, 487.1349000795237, 334.8829729320116, 413.8313652217587, 389.187589815866, 353.3014582092208, 538.5399165329668, 519.300985462406, 474.07489486633636, 448.924846048934, 436.1588129830624, 316.51438069311683, 301.8072616351049, 215.91071062434148, 212.6734403058304, 137.30317211565708, 123.01373444705965, 97.40433823933736, 91.09990481601912, 90.40249156406935, 83.0684067049331, 74.71906976712769, 71.18915291584878, 69.80601437277939, 69.04510706334683, 67.9171925189999, 65.0029469017207, 64.9385367608215, 63.66023185561258, 62.241882014330514, 60.04498236057901, 59.7955918125772, 57.68294024405285, 56.06827477960181, 55.865604485837316, 55.781119482485224, 214.37152200964775, 413.57371349407555, 202.12232846574707, 150.7584473905918, 1286.5176456855859, 677.4309244516378, 136.16688119938186, 2061.683340717833, 487.79837198839283, 132.57564467252234, 109.18499196967063, 758.6147001211792, 810.5768889642, 685.7627347130452, 179.78596141885947, 204.3244245237055, 212.22746562745135, 209.90078222486005, 206.2439878204072, 686.1565452851606, 416.6351589748009, 355.55985654280687, 363.94713723453253, 549.928960397323, 637.0280235727048, 1583.9760382193701, 340.80350063358605, 678.4290131283672, 865.7721994261218, 485.5659925292204, 483.17537282197975, 2150.4552353897607, 564.4584224507164, 881.4087956718818, 682.8172422275105, 886.6748222184538, 642.6212709037436, 603.4382983040354, 709.8877388359477, 791.7143312917592, 540.7166992054877, 504.3521888575707, 519.0863481709086, 478.46990508870016, 2250.82398997612, 2214.1983222241834, 1994.1502778618542, 281.342716630106, 244.25068965396403, 207.00015310315996, 1860.9862748448193, 165.50068520415226, 141.75299481115883, 132.6129602012349, 116.67525696513269, 115.82547645040815, 108.50659465729817, 104.43500105119351, 99.56653379311611, 2097.88225835245, 94.31689925335701, 94.14685107175322, 92.09049483064642, 90.52730613161883, 87.721429607177, 85.94808096076824, 100.67188054388517, 80.2941875381536, 75.96560815001327, 75.2734931555777, 71.57321153719582, 71.0739965373637, 68.9034963295822, 68.90281533116752, 2242.4827377320353, 700.8300093025185, 2682.1844228677974, 1961.5251209096675, 1683.653673804308, 2017.1346457642067, 2211.9826027625145, 2572.819683884259, 144.63922914853296, 2135.235654438452, 1788.5133109373992, 2313.076529676016, 2154.2770607028588, 1516.987311144762, 2091.4132721723886, 1653.5008288432202, 1836.4127827545196, 169.71631477072532, 1857.4822214808985, 2313.8499904106616, 242.20046239858937, 1853.875040019025, 1217.830807786798, 1874.6935643999386, 1292.9854091698523, 1475.4510885144157, 1033.0197315359674, 324.32967159433343, 263.45862014140766, 252.8102440327094, 246.08693129961532, 224.25601416619276, 185.86353805530607, 157.54266835033587, 152.95825927889248, 150.15485184370831, 146.45936188379042, 131.17806584001642, 130.7011929863561, 130.52309126439852, 124.3563990061143, 118.89235068800026, 101.53295708276617, 99.08860483837945, 98.85050734867873, 97.29332109273409, 93.94987383128002, 94.40744674770662, 90.99563547765791, 89.88350094349529, 86.79006461705092, 85.14150558599925, 83.7962212650602, 83.0062094620713, 79.1720513620852, 75.87693575612603, 70.90877193755458, 271.400376792442, 189.03770375182665, 290.2378011984905, 1992.1229094515975, 251.4591860930823, 178.08286614483305, 216.27344480977678, 339.44140557348055, 269.5669684634762, 326.1635474227881, 283.2875797967969, 5427.404274508353, 290.92870310983096, 179.49697418219748, 4450.8838620860415, 3826.740129762432, 2618.101608435803, 326.1861432314186, 393.91640951886393, 2003.8323379836372, 460.8473763468074, 323.41614642637506, 241.59497804376159, 1341.0697818799274, 257.90148488339395, 266.8629202530012, 973.2947906153785, 645.5395009327573, 416.09726560305023, 331.3244612806362, 984.9336578912256, 418.23121377011853, 675.2548281132415, 386.44174719051364, 372.9448811125842, 583.9099159757625, 344.34553754538797, 305.1845390246858, 300.9561308140457, 320.8877221905665, 663.5918005996821, 450.359538800519, 420.21796481529236, 290.2174430397453, 258.57686899448424, 217.8505170219589, 214.82057458614236, 174.88816521995398, 165.021473126949, 164.87784588751836, 163.52363003268178, 141.21857503611508, 308.45534836588195, 131.8859735532685, 117.4805173311059, 116.094422039096, 102.36685343867308, 94.87892069025287, 88.24464004233099, 83.85435109068301, 83.1614983682584, 77.36804259167634, 73.9557795605047, 72.71334923507001, 68.59255156504176, 63.37336580759989, 63.343454469802346, 62.83398710934231, 62.31001994964722, 61.43973646624487, 372.75113028284164, 150.16003405963136, 429.03082457863724, 565.161428866173, 348.78727561749827, 106.24435504113764, 235.28815415718333, 1286.1530678357742, 233.73148186879507, 191.85103139202064, 540.9913576285344, 186.05342562953436, 231.96964936815996, 285.6921726526338, 189.46017420973934, 270.8053432170113, 145.4569430643814, 234.31471837263138, 188.06889772320656, 410.3981675630051, 239.20511206502516, 223.49069998581172, 229.10724060572534, 217.50088699738566, 225.40142895040435, 193.01652349393405, 196.13667153245052, 190.6742211467321, 1600.5691671307052, 724.8264420709878, 318.27224217011855, 249.50187457013777, 220.36969484563215, 215.57425207104893, 214.5724968050349, 194.15079260084502, 188.38182332046645, 175.9484367483618, 167.44359603074608, 161.3505848818576, 151.67020288121154, 149.46366098945484, 118.80118988369364, 118.10978981456832, 110.43255882287333, 440.72267806685727, 94.63220764123709, 90.57916142465038, 88.62389517035228, 93.92074246521057, 83.63102463710273, 82.63950338143587, 81.64982313187024, 79.8818745993661, 74.31232905059862, 72.46314070003857, 70.61522307759552, 67.46369957262303, 336.2143776989342, 559.9104296424175, 108.36871040064563, 164.93383981425083, 252.0575133696675, 278.0458001565764, 161.00593862183098, 374.5173464557983, 222.61207746896216, 457.96828102468965, 317.3115469189681, 156.62492677625602, 463.4477102546034, 304.28929873876973, 230.012004592158, 286.148508113887, 313.54099286080213, 201.43058942693088, 362.79706770826164, 176.8886267867754, 257.21463635971895, 498.6134310521217, 301.11344543936195, 245.8079857088065, 201.7869511803289, 213.83158173006257, 581.7789281480484, 362.3812615835258, 235.62238939301014, 183.5633696555516, 2334.2398012333015, 150.30032770125203, 126.00931297618558, 192.06975921066984, 113.77759530808113, 104.55664078101259, 674.4016934133009, 100.62692452740188, 99.25885029761127, 97.9200569645058, 93.43987572361921, 88.64170825241331, 73.45096496261904, 72.00155490870304, 66.753880896167, 62.442044973214074, 57.95603135859753, 57.535743365934024, 56.03270834811209, 55.23828123247351, 54.28538812583163, 338.8011503013236, 926.748020550873, 41.62705697518744, 41.28297526512783, 38.072194012763646, 1508.2439113669684, 544.0815477504599, 274.9181462647002, 135.30909807063642, 134.4956718133624, 97.7402339431677, 488.0192524335719, 214.27708048568266, 248.38559557876178, 604.8312804577097, 409.98157047046624, 961.1141576563665, 202.98599036858195, 191.4676587280781, 362.4650799923876, 212.34608300092086, 223.84110781851157, 168.5339717016147, 282.79170343211126, 258.7751106764423, 219.94070646959608, 220.09945586068343, 189.6059582318708, 530.4545834525052, 246.12995762970692, 232.41679436218428, 303.94912941970995, 217.45585453255305, 201.22317382970505, 201.22981672767543, 1637.3051529883016, 690.6276963897187, 527.6572971545716, 420.7819405852719, 311.9725466319503, 307.2797692747276, 301.80759172535636, 272.4419007301985, 232.4247705995281, 215.86812192276216, 198.18660401433334, 167.88701022634484, 162.94711671099785, 159.5548318982491, 155.553786559868, 118.33475859914218, 114.87983863104009, 109.73418078661474, 109.15894747837909, 105.30941072668726, 91.98806678715033, 85.99944573785157, 83.85166636446331, 68.54708946912942, 68.15269269295767, 63.04144209560102, 60.14068733407521, 55.90263183048845, 54.93779886434765, 52.411047147898095, 300.9122763205366, 438.44922497030956, 609.5525523371551, 153.2684164603646, 584.2611500194957, 120.80472448789548, 382.9615558268068, 238.04984373887604, 241.44346772721266, 526.2869379065696, 170.8688759835668, 239.61776964825043, 145.0401772889685, 191.31368706219513, 284.97438415861257, 231.91335857359505, 244.48703121687643, 267.71535701708126, 202.293472920777, 183.77525723611805, 188.41611284269052, 194.56158961549016, 4617.271520941728, 1222.1909387354146, 1035.347241373734, 663.0197060416225, 449.9998357247645, 429.9668821402952, 272.56060976409066, 246.90139515541415, 208.8077141645605, 138.8136338800662, 131.2107376513646, 885.2124473845319, 99.72576260834627, 78.72708768197785, 77.91455290313446, 76.22567895097413, 68.89401464301652, 67.33578972034996, 63.71439793245965, 62.95466305184673, 59.07922370434083, 58.434715295679034, 56.5181711457929, 56.47179053703757, 55.881486952029725, 55.08194886271484, 53.47587064419311, 53.43562924331725, 47.641861355114045, 43.004604584808014, 288.1269124095828, 4181.307856930814, 166.19790717608666, 1961.734429929605, 129.73731872540242, 1682.4116204683573, 1675.1004427738899, 1692.5721856892333, 1048.4853450033768, 93.52339181160903, 118.49923443150081, 85.75845482747222, 523.8876374570503, 498.99275648809, 115.54345203829509, 154.52186561544585, 504.39941547150494, 313.8860348339049, 216.81546382237013, 224.72079396506328, 319.0101908710723, 144.60175496190493, 161.56309886102025, 256.46700222796363, 191.28254471954443, 183.1623036027624, 150.66476324262314, 103.63379107580631, 85.24674929404765, 84.42121527166326, 79.66699624044419, 65.60586580415041, 64.92050779846733, 54.76285759128385, 50.82266740016475, 46.61403328726394, 46.26259522053884, 46.21205858337627, 137.32191323825842, 41.831451130213864, 39.35671803529065, 36.73920228080482, 36.19605663470041, 35.66224965083279, 33.22441868421731, 29.79870726664103, 29.192930904367095, 28.749779921748672, 27.9099760019404, 27.651472036943762, 27.642198463292097, 27.62240223504571, 27.618599202000723, 142.28178740281152, 276.41259947883765, 5161.413616472665, 423.33382684219026, 101.36361900609577, 78.988822774776, 93.64516042690248, 75.09176461939774, 117.19193552301596, 108.96450280490728, 96.8132140310887, 330.54368866618887, 111.30305508247312, 76.82855123131573, 153.71286788279883, 77.74379592073682, 223.6374109010963, 218.70416726622742, 178.37986712016473, 314.75776031546525, 221.67255388691083, 244.69204325549464, 198.2651117553485, 162.6966175621993, 105.84806134926636, 115.32281451917565, 112.07008376520214, 104.74890731285487, 111.93226953430384, 109.096440466406, 104.30965234697446, 106.30727681458418, 856.1489959321941, 377.98503658336614, 291.98449655086506, 274.64895869049434, 248.27670100035994, 178.90777801894117, 161.3746091471056, 160.49203547337066, 135.4967153422896, 124.77329865918038, 101.19699367110401, 93.6181492670414, 89.15525270607881, 73.79951738859539, 72.23655468490757, 64.86670572117528, 58.39571907156258, 54.77186435775706, 433.98683085365764, 51.44551736522773, 49.41126213897245, 47.36979184794837, 44.971201117632226, 43.41009692479146, 43.2301919518286, 42.66655221505684, 1835.7137129204086, 37.89925852856023, 36.30263207326045, 35.584300786361865, 74.55130467815928, 425.5925606043193, 625.8769191564928, 142.48106648358467, 669.6415593106706, 99.13365359231767, 315.3777915614516, 204.0819868375974, 133.37425103625384, 329.8315932493068, 203.25543800142137, 371.8962406175535, 184.18848673064772, 125.38120576609788, 281.0664920976175, 178.19600766837127, 501.646597636147, 133.7590133151232, 181.2462899998206, 209.75865381194686, 183.8624331811345, 152.34820938663765, 148.53028908247865, 134.77264850001256, 172.35443401313458, 105.56544328761257, 99.33049702249835, 97.62601271454716, 90.91727188525147, 84.0571814757151, 83.3578405849638, 71.34153392053345, 66.68595897540892, 58.59565221691142, 57.17122827770749, 56.945771370157075, 56.458805910412835, 53.91290966971756, 52.190688836272116, 51.386112279576736, 50.80041244259271, 50.554483839542996, 49.304968762219346, 47.7901158946948, 46.607102268089946, 44.40073530398239, 43.26193412252638, 43.007421293614684, 42.92871940669069, 42.83517922248933, 40.984018793046474, 40.93083814624647, 39.53124113478065, 37.49305556632941, 324.23713044743715, 72.66862788709632, 73.93999802474875, 223.6330961910516, 110.86410930034619, 83.57639118825148, 164.29003773049254, 100.60270875092155, 70.04710945570389, 281.31316076865903, 61.56674115477547, 160.36895061068415, 582.2326513265541, 98.68899445746911, 72.34259562249504, 120.72330310052904, 178.9376831386219, 126.94703516862256, 143.50852110882, 113.07416874396056, 238.40600186552737, 94.62462650893492, 177.80622746661214, 105.06184589026073, 143.59590979048116, 98.67508716998192, 94.07178553160765, 96.7627720211859, 96.9446503066367, 255.94744973425472, 200.15056791954564, 149.27562735351069, 127.23103220235448, 121.02481378178707, 109.24956933149966, 105.09803375390204, 83.68031714304065, 69.98008830970083, 68.03259158207294, 67.19803646426722, 61.0720704567891, 58.7988524681283, 54.82891063857936, 50.9583738119855, 49.82546054783577, 49.51772689663322, 49.060637238430765, 48.576868344604584, 48.26735342699974, 46.84902005416912, 44.59397257322821, 40.560533367686595, 39.78487932238904, 38.960868665518355, 37.2390917898068, 36.6048655256025, 35.567906060753394, 35.51071070986708, 34.252703241366596, 121.93822174622314, 208.57338152780255, 554.2454306246992, 596.2032243475106, 1034.5642340879253, 66.95328727975847, 127.61712964713496, 143.34626862518633, 460.9534476873458, 121.06008126613617, 214.57395910389027, 101.506213430734, 277.2733595566583, 259.60564608715487, 288.723149140665, 197.17869987311704, 128.8674116678237, 203.98189700508354, 198.2655904618056, 123.66382357345034, 154.3168657386459, 137.95839897899657, 123.61448885577238, 121.91986834061373, 71.16937440483795, 56.59649222265422, 53.25164214060682, 39.17514324903795, 38.30784237159667, 33.51663856366436, 33.437421395198015, 28.89341011012865, 28.323859758765522, 27.376684458816094, 25.301343429978676, 25.01689447379405, 24.302336546637807, 22.79479078419476, 22.583906130212227, 22.4411544043721, 22.35184489545441, 22.198117267868653, 21.732434722825236, 21.079526261780035, 21.021613272858993, 20.721606896827858, 20.626059493322998, 18.90673347798332, 18.677599792364056, 18.594100842530175, 18.55050058356696, 18.47624291446363, 18.175775497593648, 17.985162195376454, 27.55001414650558, 34.34953351615571, 36.12859501605614, 24.576693162371097, 38.26983960584657, 31.60416412337484, 21.695098841212783], \"Total\": [6803.0, 8775.0, 5215.0, 4618.0, 6386.0, 7592.0, 4068.0, 4041.0, 3925.0, 11921.0, 5161.0, 4103.0, 4274.0, 4408.0, 11191.0, 4019.0, 3318.0, 2349.0, 1883.0, 3248.0, 2948.0, 3830.0, 2739.0, 6703.0, 2251.0, 2215.0, 2367.0, 1641.0, 2119.0, 2172.0, 1240.5658993997863, 631.2602605642122, 613.0819708448969, 589.6051508799521, 508.6427542857766, 466.8359135147842, 427.7581517361743, 424.91051562281814, 355.4689090530971, 312.76793212491106, 291.0530350519797, 615.2679598591521, 212.1223599022316, 209.47555834986343, 206.39801555764134, 195.82517756597485, 191.54562957893754, 190.87137801732294, 180.00846679459417, 175.88605137124196, 167.5352872556319, 165.44662840448512, 160.66286070021434, 157.9628706305768, 154.50791283970526, 152.04263466262526, 151.5484580985428, 151.46121072227578, 151.4515016252103, 151.2261849401064, 890.5711307528073, 402.01028670177686, 697.8278637902862, 967.9519465836689, 471.48549718760006, 813.8060194155141, 426.18529699389273, 1035.0971289164995, 644.0197650605066, 241.23239274875564, 627.9535938919003, 323.888201048432, 2149.4780131114335, 481.6600137838991, 513.681994416844, 617.9772882390265, 619.530016334205, 946.7868999173479, 328.67377976020225, 951.9908195347107, 1970.602708742062, 2803.4850138579864, 966.1263070109259, 3840.0251760663714, 6928.368650399309, 1086.9951827896082, 1397.1711890371653, 3366.5034089316923, 2848.667801897355, 11191.92982820153, 884.4304042118479, 1169.4452221172276, 1570.919932178683, 11062.583180823216, 1530.9283082400393, 5093.800151950535, 5152.918455374314, 2562.4144303585726, 5792.214813693095, 3943.108649269056, 1823.1864010993847, 3670.103136755371, 4615.405306181321, 11921.67256528364, 100.14341611716914, 97.01244493896988, 96.59318978245564, 90.61893951051914, 644.6849749657824, 85.68982701432087, 82.29252382521908, 79.47628873104657, 74.90428325135132, 68.30375201091466, 64.92849428220418, 62.96935848215537, 61.055340740384906, 54.77936195981577, 51.054262575402134, 50.32304076985834, 49.56681703430479, 47.870194218322645, 47.37096682442233, 47.19909638643836, 46.53734292495928, 46.29555459239599, 45.322930304184304, 43.83185371308254, 42.62374891126656, 42.31294174810045, 39.688667602176665, 39.31200014398947, 39.0398149024119, 37.791882823940504, 322.63456826459833, 2970.372917838332, 847.2314805723171, 2494.72683228239, 6703.0333537593815, 1812.7327025046104, 410.4584403275272, 11191.92982820153, 862.5729212664506, 791.7307491727153, 7713.758987816129, 4158.905722908838, 7608.1286094966235, 486.0855617845337, 985.3018800734894, 2440.0024966244505, 312.11222643652155, 5786.261149881246, 3178.1461875006476, 2705.8390152559, 3885.798626579798, 4615.405306181321, 2008.8367871482112, 2744.3446892063166, 1746.0716569921433, 739.4076561290398, 2589.804462322584, 2169.3269010026243, 1991.8454157081055, 3532.90305558254, 2966.5308793328495, 3551.0507904727815, 3900.7863330850137, 4806.274426467146, 2725.4623522553434, 4855.681721375739, 4078.6092869818044, 4055.776983866634, 11062.583180823216, 5152.918455374314, 3751.590673195238, 3838.3704335281495, 6928.368650399309, 11921.67256528364, 5093.800151950535, 5792.214813693095, 4274.788134396578, 1255.119619298164, 1131.6368757531905, 1025.5746725609174, 879.5489973912327, 868.1435869326257, 849.7571944925304, 817.9346554312539, 730.9496025128711, 671.2820032756808, 668.8893747982452, 393.53893875019014, 361.0936054571968, 337.34004636746727, 333.5862115049232, 331.9652395577094, 326.4530306899596, 270.3451674728781, 256.1298208600833, 248.41954174469112, 233.84194014429477, 231.8806665980193, 219.0194422906895, 454.1228379629779, 183.53269521916565, 180.8595687657638, 180.74221004862616, 178.2981555287885, 177.8927432978524, 167.55881746077384, 1987.1832596216236, 326.58483080445217, 277.7318144259511, 953.1706645270484, 337.4845329369828, 293.18511526109967, 686.9590046017621, 324.1394194546444, 618.7803783501346, 555.7360187723635, 1029.482239923644, 1813.5617050759133, 598.0193068760813, 468.67075099460925, 2967.3679185882233, 1145.1546468579957, 1722.5086551133377, 978.1439982384805, 1256.139907863879, 5093.800151950535, 924.9293211048089, 1303.1525596940696, 2794.806847781045, 11062.583180823216, 6928.368650399309, 1900.130230314653, 1645.886800335005, 1484.766833711984, 3366.5034089316923, 11191.92982820153, 3670.103136755371, 4188.037892629963, 5844.384222181906, 5786.261149881246, 5152.918455374314, 4055.1377598667436, 407.78861628719056, 279.09377287723174, 220.7889458715509, 193.26862721559678, 162.08075533149275, 132.8856649266664, 126.8669107794093, 745.150749428235, 113.25184868026234, 103.97576485977103, 99.60313464977317, 99.57190563651275, 98.39860410877611, 97.96428948749629, 97.88838515379467, 94.82136651888338, 94.26860697327697, 94.26790909058427, 173.99184024729038, 91.50321403917509, 88.7981079393516, 84.66221053870504, 81.05324535185196, 79.7157671695909, 77.3699168605641, 76.78389428512574, 73.18306039801799, 70.55710619637576, 70.18417773774999, 70.21308880698619, 150.78943352183427, 320.266500199766, 344.5011865151768, 390.1050415864016, 279.5484637037322, 902.8673685579585, 187.1006599206111, 163.90684384181455, 838.5429142201355, 385.13457240559063, 273.6489658460229, 733.1998900894814, 769.9697672091223, 141.59377667791162, 489.054048671268, 662.99218371656, 2591.3011084100767, 551.2234573202968, 1089.367626679484, 2257.3024733641064, 4226.452520847394, 4806.274426467146, 5792.214813693095, 678.099444425911, 1073.8066173869354, 2397.6525541140422, 468.44582901973513, 11062.583180823216, 1034.5779195337973, 2117.8239773231326, 3231.953616747321, 2382.979467043855, 7713.758987816129, 1904.813958927095, 3662.0986751946657, 4078.6092869818044, 3137.9212222829524, 4055.1377598667436, 3943.108649269056, 4047.0685921986965, 7608.1286094966235, 2848.667801897355, 3189.2247176855212, 1771.463782253064, 3900.7863330850137, 3510.875448514268, 5093.800151950535, 5786.261149881246, 4615.405306181321, 11191.92982820153, 3840.0251760663714, 985.636439974518, 950.4650115355797, 641.7959325333154, 600.6199417406062, 477.8823735723832, 415.32380051425633, 295.7527027263394, 210.40051147006903, 197.5417347831541, 184.639255975061, 179.94361069287916, 178.9383519854652, 177.41809347151406, 174.8176436522237, 155.69341112496832, 149.9715333958486, 147.7222887037262, 134.1093805703036, 128.97685332651378, 126.92116512075842, 123.73198615986124, 122.52977745935836, 117.9113325671656, 117.58072492790825, 100.40855682694308, 94.94986552872243, 92.11622249646193, 90.7487000761843, 87.3892454555264, 81.52934984669703, 639.3808456047265, 598.7757628668325, 128.4118587496625, 208.07860789060354, 307.58624393996104, 2939.547725902838, 392.5841669157831, 4019.4016967319308, 189.6492008181885, 1302.9545554543845, 327.11282100615045, 1279.6559231377382, 1120.5925115838033, 1464.0425618448496, 1589.4262039227349, 749.3771139136509, 578.0042169384237, 409.8050264025332, 1817.506312953982, 1120.6617047349264, 3069.7905518394086, 792.8728441153775, 823.1290089644926, 441.76223964026076, 3490.474372501009, 575.8270110127086, 2311.1816279688783, 1397.6502561457426, 1872.512665741711, 1969.2242559474173, 498.25521194350415, 11921.67256528364, 2192.5806210954233, 1645.1717413837462, 3203.5001215739035, 3137.9212222829524, 2687.775076028844, 4371.654769990135, 1990.0462447201237, 2325.727152742452, 5844.384222181906, 2351.805036836713, 1205.3034087125689, 7713.758987816129, 607.0587233822929, 509.3250328779842, 505.1052905102603, 338.94849218352175, 269.2590804207845, 258.6545951362815, 223.42017156567846, 218.72424930844824, 153.9834898291305, 153.21106290968493, 152.41086603872978, 140.35115611997048, 132.6802568475537, 128.06657410707018, 123.09237442099659, 121.25037059732715, 119.8409429237574, 111.5938266094435, 105.35490313665471, 90.79291385175908, 428.4333203086526, 86.85249848836985, 86.22013096130266, 86.0611281806717, 82.14425294007894, 80.40164434109904, 79.03480996356623, 77.99313619147492, 77.86564955899934, 77.60484809963148, 235.00902694823154, 617.9198713113021, 138.72048838625787, 387.38251783588635, 939.1772499725841, 508.91509557504264, 1023.4169261917058, 1017.9835072108195, 433.0916521639231, 825.703544353816, 587.2403731126428, 790.145628543165, 534.616170362451, 796.0447315094683, 434.57981220838883, 1682.5921271196958, 440.2687579662862, 625.4133136612825, 348.38049832093816, 630.5844492055296, 1578.651325675677, 1027.550574712889, 1329.8982215333199, 2687.775076028844, 1328.228062244634, 860.7146340332334, 1530.9283082400393, 2773.5862308808205, 936.8603080625545, 4226.452520847394, 11921.67256528364, 4212.847441535653, 2803.4850138579864, 3490.474372501009, 4188.037892629963, 1585.048640537317, 5844.384222181906, 3203.5001215739035, 1449.0721834839744, 840.6878924974026, 467.89100612033366, 206.42114331309833, 202.12619229691794, 197.40167975398148, 182.9475205431364, 155.82347966356053, 131.61407545645397, 115.6190621357707, 113.90451861514303, 101.19802322337418, 95.94904487869297, 91.60997295007532, 87.5024859735242, 85.01449188500126, 84.37981794423729, 83.27827386799306, 81.10873663047396, 80.5169070700248, 80.12738514937192, 80.02707703752863, 74.798877504757, 74.34652221679866, 71.93625540010787, 70.93935551365786, 70.8242677904965, 69.0430592948146, 68.7284993380207, 67.98701988047142, 67.64579418429071, 126.2076231724673, 1438.9702035937748, 130.11385068642844, 622.6580426319592, 192.98135441578466, 538.1198935006264, 240.36421970808286, 1117.1365149189216, 1010.5378834451454, 546.191884026904, 131.26343508794673, 507.14228413920654, 216.1553476321631, 363.36268518740326, 137.5924154024055, 453.66097305977365, 935.5388722971715, 240.70185736981196, 626.6391684625019, 777.8961586845332, 228.90472820675356, 696.8284612475397, 1094.3243202083543, 855.8034509416436, 473.7363112892507, 515.0829451211888, 340.7226778389345, 4212.847441535653, 11921.67256528364, 3203.5001215739035, 1597.2605842129399, 1372.3649392714801, 687.2983493992283, 918.1115554972038, 1377.5016268603274, 4078.6092869818044, 2278.7831015023767, 1613.143840051697, 1241.2537964994126, 11062.583180823216, 5844.384222181906, 1601.908225280691, 7592.587658390226, 5152.918455374314, 2744.3446892063166, 539.5621447527678, 520.3232137171816, 475.09712308887913, 449.94707426873515, 437.1810412028635, 317.536608912918, 302.8352680094206, 216.93293884414265, 213.6956685256316, 138.32540033545826, 124.0359626668608, 98.42656646519191, 92.12213303582027, 91.42471978682188, 84.09063494708941, 75.74129798692884, 72.21138120658891, 70.82824260263752, 70.06733528314798, 68.93942073880105, 66.0251751482716, 65.96076509275372, 64.68246008592351, 63.26411023413167, 61.06721063502711, 60.81782005417101, 58.705168641051245, 57.090502999402965, 56.88783543675182, 56.80334770228638, 219.05567410532694, 432.1364641323586, 210.72196200161514, 156.25681207670362, 1404.7184854203629, 732.9838040729285, 141.9085562662834, 2471.739289021218, 549.211065923124, 139.78830595053105, 114.2754027126886, 925.0439749121821, 1006.9292955533929, 840.2764071387995, 200.2689020112499, 231.43064767769977, 244.52047488051846, 243.58934041224393, 240.13991178578203, 1018.3321981067648, 559.1997225865108, 466.1401081316584, 516.0995082612005, 936.488995070026, 1187.1592740667832, 4371.654769990135, 495.0802842001989, 1356.124201985733, 2024.3126029961434, 869.083719479768, 877.0296096366999, 11921.67256528364, 1235.0774122694565, 3137.9212222829524, 1990.0462447201237, 3751.590673195238, 2192.5806210954233, 1872.512665741711, 3069.7905518394086, 4855.681721375739, 1641.557160267909, 1177.3713322929798, 4055.776983866634, 2325.727152742452, 2251.8295769377955, 2215.2039059786493, 1995.1558616163195, 282.34830043136037, 245.25627340842965, 208.00573685762558, 1870.8400836074372, 166.50626898833784, 142.7585785765909, 133.61854397180844, 117.68084071959831, 116.83106020487376, 109.51217841176378, 105.44058481007069, 100.57211765048045, 2119.6364038472893, 95.32248306966473, 95.15243483564758, 93.09607858511204, 91.53288988608445, 88.7270134354047, 86.95366471523386, 101.90426014546142, 81.29977129261921, 76.97119190914957, 76.27907691609694, 72.57879529166144, 72.07958029697076, 69.90908008404782, 69.90839908563314, 2367.8362010100923, 728.9280750345428, 2948.5829658145453, 2212.1472933950404, 1901.4043659722017, 2331.955908943635, 2739.996913990806, 3248.078671890722, 152.6479705367544, 3318.596204200923, 2944.048791381292, 4041.667407510974, 3925.162001096653, 2699.116073648238, 4068.539173899658, 3173.433646393971, 3830.8148103877065, 191.60699410181203, 4408.273756026842, 6386.177374301151, 323.75744700155724, 7592.587658390226, 4103.84699551751, 8775.229434399014, 5161.844519338573, 6803.310322880377, 5215.26282640198, 325.3443399123376, 264.47328846415724, 253.82491235156542, 247.10159961293618, 225.27068251555156, 186.87820636862693, 158.55733666365674, 153.9729275968967, 151.16952016169984, 147.4740302081816, 132.19273415333728, 131.7158613139933, 131.53775958129899, 125.37106732983892, 119.9070190013211, 102.54762539608701, 100.10327316277062, 99.86517574745012, 98.30798948865312, 94.96454216703302, 95.42901431543557, 92.01030379097875, 90.89816926235129, 87.80473294631071, 86.1561738993201, 84.8108921917638, 84.02087779773225, 80.1867196908304, 76.89160408538582, 71.92344025999017, 279.1775921396116, 193.74400030628786, 301.31549715988723, 2172.2630416609104, 262.78629412703316, 185.4926054617751, 227.43302604286825, 366.38355794908495, 288.42584583281115, 357.30013436645845, 315.1147586562222, 8775.229434399014, 332.01391556422067, 196.31389298211076, 7592.587658390226, 6386.177374301151, 5161.844519338573, 420.98931727715296, 541.2020732764253, 4408.273756026842, 669.2342120594577, 426.95191948117775, 300.07654053818305, 3830.8148103877065, 333.30287642652763, 359.2328095177556, 3173.433646393971, 1601.908225280691, 785.2364970938802, 526.1113864759668, 4103.84699551751, 868.2402552430401, 2944.048791381292, 808.0882567839888, 771.5877472144771, 2699.116073648238, 825.9271499705262, 493.3509390617672, 497.9261872782081, 993.1260214688313, 664.6145082661906, 451.3822464670274, 421.2406724818008, 291.24015070625376, 259.5995766609927, 218.87322469400252, 215.84328225265082, 175.91087288646244, 166.04418079345746, 165.90055355402683, 164.546337706825, 142.24128270262355, 310.83202882299804, 132.90868121977698, 118.50322499761435, 117.11712970560446, 103.38956110518153, 95.90162835676132, 89.26734770883944, 84.87705875719146, 84.18420603476686, 78.39075026659123, 74.97848722701315, 73.73605690157846, 69.61525923155021, 64.39607347410835, 64.36616219887193, 63.85669482028309, 63.332727616155665, 62.46244413275331, 379.86402997008014, 153.8228703522541, 447.4279944719664, 599.8783347799997, 377.1063952422145, 110.60249126479962, 257.9442034920818, 1632.38934695957, 259.5439965758329, 222.72531017840544, 825.2767530888317, 229.02208052059552, 305.16419570699605, 409.7349768370296, 258.9618444583774, 677.1931273007186, 188.97228184863843, 573.9766076387273, 377.3535871999775, 4371.654769990135, 860.7146340332334, 891.3767134305442, 1192.4132967007472, 2192.5806210954233, 3662.0986751946657, 751.56946572805, 1329.8982215333199, 877.9815750008421, 1601.5931889239669, 725.8504638642496, 319.2962639633804, 250.561889368198, 221.393716638894, 216.59827386431078, 215.59651859829674, 195.1748144034482, 189.4058451137283, 176.97245854457503, 168.46761785180206, 162.37460667511945, 152.694224677215, 150.48768278566808, 119.82521169716745, 119.13381160783015, 111.45658061613517, 445.1380256689331, 95.65622943449893, 91.60318321791222, 89.64791696361412, 95.0136284182917, 84.65504643036456, 83.66352517469771, 82.67384492513207, 80.90589640103438, 75.33635084386046, 73.4871624933004, 71.63924488007636, 68.4877213696894, 352.39702490742474, 648.2268210534753, 113.65824542199086, 181.1957075369035, 313.6572153137545, 354.2728265857762, 186.76897594088817, 522.9225798033274, 285.5572137333192, 764.4628293860092, 479.5366487298399, 187.38870104753434, 877.9815750008421, 548.5297281908003, 368.2882339190379, 604.2879338134001, 779.7865362680341, 331.1021771840201, 1997.989229640929, 250.80811041464693, 936.1875697453575, 11921.67256528364, 2471.739289021218, 1184.5388943387204, 534.2327144347364, 4212.847441535653, 582.8031863786618, 363.40551981413927, 236.64664763123267, 184.5876278861651, 2349.566571325858, 151.32458593186553, 127.03357121060358, 193.63268187615728, 114.80185353869462, 105.58089901162607, 681.1678611779886, 101.65118275801537, 100.28310852822476, 98.94431519511929, 94.46413396883885, 89.66596650235525, 74.47522319323252, 73.02581313931653, 67.77814150445658, 63.46630320382754, 58.980289589211, 58.560001638466595, 57.05696657872556, 56.26253946308698, 55.30964678542229, 345.4767033116886, 947.7911673421795, 42.65131523524906, 42.30723352830678, 39.09645230269379, 1584.8378246982872, 568.1934080095294, 288.5829999931227, 140.44968105146702, 141.49353638357937, 101.60065797286597, 548.1411928938036, 240.815874139622, 304.0938380232, 859.0568656271195, 551.2605930611239, 1495.5167199734476, 250.53446349573662, 246.39581686142228, 585.0477794968612, 291.17866462428606, 325.7375772273885, 232.48550651496498, 556.4345571197739, 503.03876436015366, 427.22267657623524, 431.2528827537655, 319.84432869214413, 4226.452520847394, 635.5300238392713, 607.1996427937258, 2117.8239773231326, 3662.0986751946657, 914.2169261262645, 4212.847441535653, 1638.3215821940526, 691.6441255954699, 528.6737263603227, 421.79836979102305, 312.98897583770145, 308.2961984804787, 302.8240209311075, 273.45833200929223, 233.44119980527924, 216.8845511285133, 199.20303322008448, 168.90343943209598, 163.96354591674898, 160.57126110400023, 156.57021576561914, 119.3511880049198, 115.89626783679122, 110.75060999236588, 110.17537668413023, 106.3258399324384, 93.00449599290147, 87.01587494360271, 84.86809557021445, 69.5637539600438, 69.16912189870881, 64.05787130135214, 61.15711653982633, 56.919061036239576, 55.95422807009877, 53.42747635364922, 317.1780570639994, 474.0851349548666, 689.2349411617433, 166.82362669925112, 714.8955586842962, 131.46311361241916, 532.5987062831173, 327.8718525508624, 359.4234666976385, 1122.9550204208983, 228.52587655998838, 499.11686107514686, 192.68019679700407, 349.82885250331856, 864.1540052722312, 582.8497023476743, 662.8470201219866, 1397.1711890371653, 966.1263070109259, 636.2491742506442, 1682.5921271196958, 6928.368650399309, 4618.275505750231, 1223.1949235439176, 1036.351226182237, 664.0236908501257, 451.00382053326774, 430.9708669487984, 273.5645945725939, 247.90537996391737, 209.81169897774708, 139.81761870277938, 132.21472245986783, 893.483164406948, 100.72974741684948, 79.73107256880243, 78.91853771163767, 77.22966390317671, 69.8979994562031, 68.33977452885317, 64.71838275032958, 63.9586479312264, 60.08320856343496, 59.43870029305957, 57.5221559542961, 57.475775363974854, 56.88547178063847, 56.08593369269202, 54.47985548767463, 54.43961411115861, 48.64584616830061, 44.008589474776535, 305.71286611655137, 5215.26282640198, 189.3718653111678, 4068.539173899658, 161.0110744025744, 3925.162001096653, 4041.667407510974, 4103.84699551751, 3318.596204200923, 118.79887508616785, 178.33667741972482, 108.69833219956233, 2739.996913990806, 2699.116073648238, 186.36011921146303, 336.6317489185459, 5161.844519338573, 2331.955908943635, 1901.4043659722017, 2212.1472933950404, 8775.229434399014, 771.5877472144771, 7592.587658390226, 257.4722297246112, 192.28777221619205, 184.16753109941, 151.66999074480592, 104.63901859483238, 86.25197679069527, 85.42644278918033, 80.67222373709181, 66.61109330079803, 65.92573529511495, 55.76808566768591, 51.82789503813907, 47.61926078391156, 47.267822762068924, 47.217286085165334, 140.35349304294792, 42.836678650464584, 40.36194553193826, 37.74442977745243, 37.201284183691456, 36.667477147480405, 34.22964618474777, 30.803934917543128, 30.198158401014712, 29.755007432562046, 28.915203498588017, 28.656699681221166, 28.647425963822567, 28.627629731693325, 28.62382674260632, 152.1566544038811, 307.8827146020412, 6803.310322880377, 513.5131572286854, 120.1240513881812, 91.83228929256656, 114.3230989628801, 91.11705595928434, 160.80771206741682, 148.7780659300834, 128.27813053758615, 672.6873097628018, 162.32594170165967, 105.18023456121585, 301.4727499242115, 116.3144909606014, 792.4630065513633, 895.2053773620127, 794.0787244923839, 4019.4016967319308, 3490.474372501009, 6386.177374301151, 3248.078671890722, 1945.4447211315924, 349.4556443437952, 853.1141770955686, 888.7269222930948, 529.5513208932956, 1106.8127491262812, 2315.7650666411073, 1162.6670219760913, 8775.229434399014, 857.1785384379078, 379.0145790965514, 293.01403905657884, 275.6785011962081, 249.3062435060737, 179.93732052465495, 162.40415165281937, 161.52157797908444, 136.52625784800338, 125.80284116489416, 102.22653617681779, 94.64769177275518, 90.18479521537219, 74.82905990835926, 73.26609719420095, 65.89624822688906, 59.425261591484656, 55.80140687466591, 442.5190683175358, 52.47505990863993, 50.440804671800926, 48.39933438020291, 46.00074364798513, 44.43963943050523, 44.25973447408344, 43.69609472979491, 1883.6517355760177, 38.92880107639029, 37.332174604683026, 36.61384331644441, 78.50380744624074, 542.3297021844586, 929.6408502606636, 174.93192686730094, 1235.0774122694565, 121.31673517974406, 529.2136356641922, 376.1631129918826, 215.68555543682083, 918.1115554972038, 459.86700142357586, 1225.7603358344957, 455.9450377133063, 249.82771919435208, 1585.048640537317, 651.5758684710711, 11921.67256528364, 345.5343603715022, 1613.143840051697, 4371.654769990135, 2773.5862308808205, 1252.5229505714822, 2149.4780131114335, 884.4304042118479, 173.37600521418045, 106.58701448158651, 100.35206822939158, 98.64758390136188, 91.93884310575643, 85.07875267756417, 84.37941177177852, 72.36310510734818, 67.7075301677588, 59.61722342004628, 58.19279946452222, 57.9673425569718, 57.480377132432196, 54.93448085653228, 53.21226002308684, 52.40768348226739, 51.821983649150894, 51.5760550293091, 50.32653994903407, 48.811687081509525, 47.628673482508496, 45.42230649079711, 44.2835053093411, 44.028992516099066, 43.95029061550153, 43.856750409304055, 42.0055899798612, 41.95240933679695, 40.5528123253999, 38.514626753144135, 385.00843435947155, 78.04394857780534, 80.90870943847311, 365.94777833110743, 149.9301791070627, 110.01503220095815, 310.44222651988616, 160.65167178213827, 93.6008314766995, 1110.3340316042613, 77.59782121899258, 574.4603683690447, 8775.229434399014, 217.06028281577082, 112.88143552323079, 385.33130190341626, 1143.1581504414119, 503.3751422420053, 863.3782515710305, 431.2528827537655, 4212.847441535653, 256.3779374225318, 5161.844519338573, 912.7834830628877, 7592.587658390226, 1601.908225280691, 1197.3117810048923, 1900.130230314653, 4408.273756026842, 256.9751735880739, 201.1782917733649, 150.30335120732994, 128.25875605617372, 122.05253763560631, 110.2772931853189, 106.12575760772128, 84.70804099685989, 71.00781216352007, 69.06031544056285, 68.22576032477359, 62.09979431060833, 59.826576321947535, 55.85663449239859, 51.98609773695997, 50.85318441615663, 50.545451604002, 50.08836109692067, 49.604592201375205, 49.29507728081897, 47.87674390798835, 45.62169642704744, 41.58825722150583, 40.81260317894989, 39.98859252962049, 38.26681564362603, 37.63258937942173, 36.595629947084376, 36.53843456368631, 35.280427104127014, 129.25914158457587, 230.90412190234963, 669.9695202372686, 724.8185315940303, 1641.557160267909, 76.2738103175976, 191.36479798756548, 229.73616056654987, 1177.3713322929798, 197.06738556874475, 501.0528259327567, 161.5379713928722, 828.6752990532652, 756.379461553997, 1241.2537964994126, 673.767930176694, 326.85283117245916, 1120.6617047349264, 2351.805036836713, 652.6980753033848, 1613.143840051697, 1101.5405181003564, 869.083719479768, 3069.7905518394086, 72.21024602182774, 57.63736383414011, 54.29251374108812, 40.216014895340145, 39.348713972077974, 34.55751016781875, 34.4782930072025, 29.93428170765857, 29.364731364115453, 28.41755607193871, 26.342215027508598, 26.05776608041584, 25.34320814416773, 23.835662387778072, 23.62477773619038, 23.48202600190202, 23.39271649298433, 23.238988879001475, 22.7733063992911, 22.120397886109835, 22.06248488526375, 21.762478503211927, 21.66693109690631, 19.94760508436739, 19.718471393698497, 19.634972440060096, 19.59137219835746, 19.517114532414205, 19.21664712579643, 19.026033849101765, 31.466547457064465, 49.64914877221744, 88.09163219432614, 37.14759663330292, 135.6513303311198, 190.56365164393122, 67.5905860686388], \"Category\": [\"Default\", \"Default\", \"Default\", \"Default\", \"Default\", \"Default\", \"Default\", \"Default\", \"Default\", \"Default\", \"Default\", \"Default\", \"Default\", \"Default\", \"Default\", \"Default\", \"Default\", \"Default\", \"Default\", \"Default\", \"Default\", \"Default\", \"Default\", \"Default\", \"Default\", \"Default\", \"Default\", \"Default\", \"Default\", \"Default\", \"Topic1\", \"Topic1\", \"Topic1\", \"Topic1\", \"Topic1\", \"Topic1\", \"Topic1\", \"Topic1\", \"Topic1\", \"Topic1\", \"Topic1\", \"Topic1\", \"Topic1\", \"Topic1\", \"Topic1\", \"Topic1\", \"Topic1\", \"Topic1\", \"Topic1\", \"Topic1\", \"Topic1\", \"Topic1\", \"Topic1\", \"Topic1\", \"Topic1\", \"Topic1\", \"Topic1\", \"Topic1\", \"Topic1\", \"Topic1\", \"Topic1\", \"Topic1\", \"Topic1\", \"Topic1\", \"Topic1\", \"Topic1\", \"Topic1\", \"Topic1\", \"Topic1\", \"Topic1\", \"Topic1\", \"Topic1\", \"Topic1\", \"Topic1\", \"Topic1\", \"Topic1\", \"Topic1\", \"Topic1\", \"Topic1\", \"Topic1\", \"Topic1\", \"Topic1\", \"Topic1\", \"Topic1\", \"Topic1\", \"Topic1\", \"Topic1\", \"Topic1\", \"Topic1\", \"Topic1\", \"Topic1\", \"Topic1\", \"Topic1\", \"Topic1\", \"Topic1\", \"Topic1\", \"Topic1\", \"Topic1\", \"Topic1\", \"Topic1\", \"Topic1\", \"Topic1\", \"Topic1\", \"Topic1\", \"Topic2\", \"Topic2\", \"Topic2\", \"Topic2\", \"Topic2\", \"Topic2\", \"Topic2\", \"Topic2\", \"Topic2\", \"Topic2\", \"Topic2\", \"Topic2\", \"Topic2\", \"Topic2\", \"Topic2\", \"Topic2\", \"Topic2\", \"Topic2\", \"Topic2\", \"Topic2\", \"Topic2\", \"Topic2\", \"Topic2\", \"Topic2\", \"Topic2\", \"Topic2\", \"Topic2\", \"Topic2\", \"Topic2\", \"Topic2\", \"Topic2\", \"Topic2\", \"Topic2\", \"Topic2\", \"Topic2\", \"Topic2\", \"Topic2\", \"Topic2\", \"Topic2\", \"Topic2\", \"Topic2\", \"Topic2\", \"Topic2\", \"Topic2\", \"Topic2\", \"Topic2\", \"Topic2\", \"Topic2\", \"Topic2\", \"Topic2\", \"Topic2\", \"Topic2\", \"Topic2\", \"Topic2\", \"Topic2\", \"Topic2\", \"Topic2\", \"Topic2\", \"Topic2\", \"Topic2\", \"Topic2\", \"Topic2\", \"Topic2\", \"Topic2\", \"Topic2\", \"Topic2\", \"Topic2\", \"Topic2\", \"Topic2\", \"Topic2\", \"Topic2\", \"Topic2\", \"Topic2\", \"Topic2\", \"Topic2\", \"Topic2\", \"Topic3\", \"Topic3\", \"Topic3\", \"Topic3\", \"Topic3\", \"Topic3\", \"Topic3\", \"Topic3\", \"Topic3\", \"Topic3\", \"Topic3\", \"Topic3\", \"Topic3\", \"Topic3\", \"Topic3\", \"Topic3\", \"Topic3\", \"Topic3\", \"Topic3\", \"Topic3\", \"Topic3\", \"Topic3\", \"Topic3\", \"Topic3\", \"Topic3\", \"Topic3\", \"Topic3\", \"Topic3\", \"Topic3\", \"Topic3\", \"Topic3\", \"Topic3\", \"Topic3\", \"Topic3\", \"Topic3\", \"Topic3\", \"Topic3\", \"Topic3\", \"Topic3\", \"Topic3\", \"Topic3\", \"Topic3\", \"Topic3\", \"Topic3\", \"Topic3\", \"Topic3\", \"Topic3\", \"Topic3\", \"Topic3\", \"Topic3\", \"Topic3\", \"Topic3\", \"Topic3\", \"Topic3\", \"Topic3\", \"Topic3\", \"Topic3\", \"Topic3\", \"Topic3\", \"Topic3\", \"Topic3\", \"Topic3\", \"Topic3\", \"Topic3\", \"Topic3\", \"Topic3\", \"Topic4\", \"Topic4\", \"Topic4\", \"Topic4\", \"Topic4\", \"Topic4\", \"Topic4\", \"Topic4\", \"Topic4\", \"Topic4\", \"Topic4\", \"Topic4\", \"Topic4\", \"Topic4\", \"Topic4\", \"Topic4\", \"Topic4\", \"Topic4\", \"Topic4\", \"Topic4\", \"Topic4\", \"Topic4\", \"Topic4\", \"Topic4\", \"Topic4\", \"Topic4\", \"Topic4\", \"Topic4\", \"Topic4\", \"Topic4\", \"Topic4\", \"Topic4\", \"Topic4\", \"Topic4\", \"Topic4\", \"Topic4\", \"Topic4\", \"Topic4\", \"Topic4\", \"Topic4\", \"Topic4\", \"Topic4\", \"Topic4\", \"Topic4\", \"Topic4\", \"Topic4\", \"Topic4\", \"Topic4\", \"Topic4\", \"Topic4\", \"Topic4\", \"Topic4\", \"Topic4\", \"Topic4\", \"Topic4\", \"Topic4\", \"Topic4\", \"Topic4\", \"Topic4\", \"Topic4\", \"Topic4\", \"Topic4\", \"Topic4\", \"Topic4\", \"Topic4\", \"Topic4\", \"Topic4\", \"Topic4\", \"Topic4\", \"Topic4\", \"Topic4\", \"Topic4\", \"Topic4\", \"Topic4\", \"Topic4\", \"Topic4\", \"Topic4\", \"Topic4\", \"Topic4\", \"Topic4\", \"Topic4\", \"Topic5\", \"Topic5\", \"Topic5\", \"Topic5\", \"Topic5\", \"Topic5\", \"Topic5\", \"Topic5\", \"Topic5\", \"Topic5\", \"Topic5\", \"Topic5\", \"Topic5\", \"Topic5\", \"Topic5\", \"Topic5\", \"Topic5\", \"Topic5\", \"Topic5\", \"Topic5\", \"Topic5\", \"Topic5\", \"Topic5\", \"Topic5\", \"Topic5\", \"Topic5\", \"Topic5\", \"Topic5\", \"Topic5\", \"Topic5\", \"Topic5\", \"Topic5\", \"Topic5\", \"Topic5\", \"Topic5\", \"Topic5\", \"Topic5\", \"Topic5\", \"Topic5\", \"Topic5\", \"Topic5\", \"Topic5\", \"Topic5\", \"Topic5\", \"Topic5\", \"Topic5\", \"Topic5\", \"Topic5\", \"Topic5\", \"Topic5\", \"Topic5\", \"Topic5\", \"Topic5\", \"Topic5\", \"Topic5\", \"Topic5\", \"Topic5\", \"Topic5\", \"Topic5\", \"Topic5\", \"Topic5\", \"Topic5\", \"Topic5\", \"Topic5\", \"Topic5\", \"Topic5\", \"Topic5\", \"Topic5\", \"Topic5\", \"Topic5\", \"Topic5\", \"Topic5\", \"Topic5\", \"Topic5\", \"Topic6\", \"Topic6\", \"Topic6\", \"Topic6\", \"Topic6\", \"Topic6\", \"Topic6\", \"Topic6\", \"Topic6\", \"Topic6\", \"Topic6\", \"Topic6\", \"Topic6\", \"Topic6\", \"Topic6\", \"Topic6\", \"Topic6\", \"Topic6\", \"Topic6\", \"Topic6\", \"Topic6\", \"Topic6\", \"Topic6\", \"Topic6\", \"Topic6\", \"Topic6\", \"Topic6\", \"Topic6\", \"Topic6\", \"Topic6\", \"Topic6\", \"Topic6\", \"Topic6\", \"Topic6\", \"Topic6\", \"Topic6\", \"Topic6\", \"Topic6\", \"Topic6\", \"Topic6\", \"Topic6\", \"Topic6\", \"Topic6\", \"Topic6\", \"Topic6\", \"Topic6\", \"Topic6\", \"Topic6\", \"Topic6\", \"Topic6\", \"Topic6\", \"Topic6\", \"Topic6\", \"Topic6\", \"Topic6\", \"Topic6\", \"Topic6\", \"Topic6\", \"Topic6\", \"Topic6\", \"Topic6\", \"Topic6\", \"Topic6\", \"Topic6\", \"Topic6\", \"Topic6\", \"Topic6\", \"Topic6\", \"Topic6\", \"Topic7\", \"Topic7\", \"Topic7\", \"Topic7\", \"Topic7\", \"Topic7\", \"Topic7\", \"Topic7\", \"Topic7\", \"Topic7\", \"Topic7\", \"Topic7\", \"Topic7\", \"Topic7\", \"Topic7\", \"Topic7\", \"Topic7\", \"Topic7\", \"Topic7\", \"Topic7\", \"Topic7\", \"Topic7\", \"Topic7\", \"Topic7\", \"Topic7\", \"Topic7\", \"Topic7\", \"Topic7\", \"Topic7\", \"Topic7\", \"Topic7\", \"Topic7\", \"Topic7\", \"Topic7\", \"Topic7\", \"Topic7\", \"Topic7\", \"Topic7\", \"Topic7\", \"Topic7\", \"Topic7\", \"Topic7\", \"Topic7\", \"Topic7\", \"Topic7\", \"Topic7\", \"Topic7\", \"Topic7\", \"Topic7\", \"Topic7\", \"Topic7\", \"Topic7\", \"Topic7\", \"Topic7\", \"Topic7\", \"Topic7\", \"Topic7\", \"Topic7\", \"Topic7\", \"Topic7\", \"Topic7\", \"Topic7\", \"Topic7\", \"Topic7\", \"Topic7\", \"Topic7\", \"Topic7\", \"Topic7\", \"Topic7\", \"Topic7\", \"Topic7\", \"Topic7\", \"Topic7\", \"Topic7\", \"Topic7\", \"Topic8\", \"Topic8\", \"Topic8\", \"Topic8\", \"Topic8\", \"Topic8\", \"Topic8\", \"Topic8\", \"Topic8\", \"Topic8\", \"Topic8\", \"Topic8\", \"Topic8\", \"Topic8\", \"Topic8\", \"Topic8\", \"Topic8\", \"Topic8\", \"Topic8\", \"Topic8\", \"Topic8\", \"Topic8\", \"Topic8\", \"Topic8\", \"Topic8\", \"Topic8\", \"Topic8\", \"Topic8\", \"Topic8\", \"Topic8\", \"Topic8\", \"Topic8\", \"Topic8\", \"Topic8\", \"Topic8\", \"Topic8\", \"Topic8\", \"Topic8\", \"Topic8\", \"Topic8\", \"Topic8\", \"Topic8\", \"Topic8\", \"Topic8\", \"Topic8\", \"Topic8\", \"Topic8\", \"Topic8\", \"Topic8\", \"Topic8\", \"Topic8\", \"Topic8\", \"Topic8\", \"Topic8\", \"Topic8\", \"Topic8\", \"Topic8\", \"Topic8\", \"Topic8\", \"Topic8\", \"Topic8\", \"Topic8\", \"Topic8\", \"Topic8\", \"Topic8\", \"Topic8\", \"Topic8\", \"Topic8\", \"Topic8\", \"Topic8\", \"Topic8\", \"Topic8\", \"Topic8\", \"Topic8\", \"Topic9\", \"Topic9\", \"Topic9\", \"Topic9\", \"Topic9\", \"Topic9\", \"Topic9\", \"Topic9\", \"Topic9\", \"Topic9\", \"Topic9\", \"Topic9\", \"Topic9\", \"Topic9\", \"Topic9\", \"Topic9\", \"Topic9\", \"Topic9\", \"Topic9\", \"Topic9\", \"Topic9\", \"Topic9\", \"Topic9\", \"Topic9\", \"Topic9\", \"Topic9\", \"Topic9\", \"Topic9\", \"Topic9\", \"Topic9\", \"Topic9\", \"Topic9\", \"Topic9\", \"Topic9\", \"Topic9\", \"Topic9\", \"Topic9\", \"Topic9\", \"Topic9\", \"Topic9\", \"Topic9\", \"Topic9\", \"Topic9\", \"Topic9\", \"Topic9\", \"Topic9\", \"Topic9\", \"Topic9\", \"Topic9\", \"Topic9\", \"Topic9\", \"Topic9\", \"Topic9\", \"Topic9\", \"Topic9\", \"Topic9\", \"Topic9\", \"Topic10\", \"Topic10\", \"Topic10\", \"Topic10\", \"Topic10\", \"Topic10\", \"Topic10\", \"Topic10\", \"Topic10\", \"Topic10\", \"Topic10\", \"Topic10\", \"Topic10\", \"Topic10\", \"Topic10\", \"Topic10\", \"Topic10\", \"Topic10\", \"Topic10\", \"Topic10\", \"Topic10\", \"Topic10\", \"Topic10\", \"Topic10\", \"Topic10\", \"Topic10\", \"Topic10\", \"Topic10\", \"Topic10\", \"Topic10\", \"Topic10\", \"Topic10\", \"Topic10\", \"Topic10\", \"Topic10\", \"Topic10\", \"Topic10\", \"Topic10\", \"Topic10\", \"Topic10\", \"Topic10\", \"Topic10\", \"Topic10\", \"Topic10\", \"Topic10\", \"Topic10\", \"Topic10\", \"Topic10\", \"Topic10\", \"Topic10\", \"Topic10\", \"Topic10\", \"Topic10\", \"Topic10\", \"Topic10\", \"Topic10\", \"Topic10\", \"Topic10\", \"Topic10\", \"Topic10\", \"Topic10\", \"Topic10\", \"Topic10\", \"Topic10\", \"Topic10\", \"Topic10\", \"Topic10\", \"Topic10\", \"Topic10\", \"Topic10\", \"Topic11\", \"Topic11\", \"Topic11\", \"Topic11\", \"Topic11\", \"Topic11\", \"Topic11\", \"Topic11\", \"Topic11\", \"Topic11\", \"Topic11\", \"Topic11\", \"Topic11\", \"Topic11\", \"Topic11\", \"Topic11\", \"Topic11\", \"Topic11\", \"Topic11\", \"Topic11\", \"Topic11\", \"Topic11\", \"Topic11\", \"Topic11\", \"Topic11\", \"Topic11\", \"Topic11\", \"Topic11\", \"Topic11\", \"Topic11\", \"Topic11\", \"Topic11\", \"Topic11\", \"Topic11\", \"Topic11\", \"Topic11\", \"Topic11\", \"Topic11\", \"Topic11\", \"Topic11\", \"Topic11\", \"Topic11\", \"Topic11\", \"Topic11\", \"Topic11\", \"Topic11\", \"Topic11\", \"Topic11\", \"Topic11\", \"Topic11\", \"Topic11\", \"Topic11\", \"Topic11\", \"Topic11\", \"Topic11\", \"Topic11\", \"Topic11\", \"Topic11\", \"Topic12\", \"Topic12\", \"Topic12\", \"Topic12\", \"Topic12\", \"Topic12\", \"Topic12\", \"Topic12\", \"Topic12\", \"Topic12\", \"Topic12\", \"Topic12\", \"Topic12\", \"Topic12\", \"Topic12\", \"Topic12\", \"Topic12\", \"Topic12\", \"Topic12\", \"Topic12\", \"Topic12\", \"Topic12\", \"Topic12\", \"Topic12\", \"Topic12\", \"Topic12\", \"Topic12\", \"Topic12\", \"Topic12\", \"Topic12\", \"Topic12\", \"Topic12\", \"Topic12\", \"Topic12\", \"Topic12\", \"Topic12\", \"Topic12\", \"Topic12\", \"Topic12\", \"Topic12\", \"Topic12\", \"Topic12\", \"Topic12\", \"Topic12\", \"Topic12\", \"Topic12\", \"Topic12\", \"Topic12\", \"Topic12\", \"Topic12\", \"Topic12\", \"Topic12\", \"Topic12\", \"Topic12\", \"Topic12\", \"Topic12\", \"Topic13\", \"Topic13\", \"Topic13\", \"Topic13\", \"Topic13\", \"Topic13\", \"Topic13\", \"Topic13\", \"Topic13\", \"Topic13\", \"Topic13\", \"Topic13\", \"Topic13\", \"Topic13\", \"Topic13\", \"Topic13\", \"Topic13\", \"Topic13\", \"Topic13\", \"Topic13\", \"Topic13\", \"Topic13\", \"Topic13\", \"Topic13\", \"Topic13\", \"Topic13\", \"Topic13\", \"Topic13\", \"Topic13\", \"Topic13\", \"Topic13\", \"Topic13\", \"Topic13\", \"Topic13\", \"Topic13\", \"Topic13\", \"Topic13\", \"Topic13\", \"Topic13\", \"Topic13\", \"Topic13\", \"Topic13\", \"Topic13\", \"Topic13\", \"Topic13\", \"Topic13\", \"Topic13\", \"Topic13\", \"Topic13\", \"Topic13\", \"Topic13\", \"Topic13\", \"Topic13\", \"Topic13\", \"Topic13\", \"Topic13\", \"Topic13\", \"Topic13\", \"Topic13\", \"Topic13\", \"Topic14\", \"Topic14\", \"Topic14\", \"Topic14\", \"Topic14\", \"Topic14\", \"Topic14\", \"Topic14\", \"Topic14\", \"Topic14\", \"Topic14\", \"Topic14\", \"Topic14\", \"Topic14\", \"Topic14\", \"Topic14\", \"Topic14\", \"Topic14\", \"Topic14\", \"Topic14\", \"Topic14\", \"Topic14\", \"Topic14\", \"Topic14\", \"Topic14\", \"Topic14\", \"Topic14\", \"Topic14\", \"Topic14\", \"Topic14\", \"Topic14\", \"Topic14\", \"Topic14\", \"Topic14\", \"Topic14\", \"Topic14\", \"Topic14\", \"Topic14\", \"Topic14\", \"Topic14\", \"Topic14\", \"Topic14\", \"Topic14\", \"Topic14\", \"Topic14\", \"Topic14\", \"Topic14\", \"Topic14\", \"Topic14\", \"Topic14\", \"Topic14\", \"Topic14\", \"Topic15\", \"Topic15\", \"Topic15\", \"Topic15\", \"Topic15\", \"Topic15\", \"Topic15\", \"Topic15\", \"Topic15\", \"Topic15\", \"Topic15\", \"Topic15\", \"Topic15\", \"Topic15\", \"Topic15\", \"Topic15\", \"Topic15\", \"Topic15\", \"Topic15\", \"Topic15\", \"Topic15\", \"Topic15\", \"Topic15\", \"Topic15\", \"Topic15\", \"Topic15\", \"Topic15\", \"Topic15\", \"Topic15\", \"Topic15\", \"Topic15\", \"Topic15\", \"Topic15\", \"Topic15\", \"Topic15\", \"Topic15\", \"Topic15\", \"Topic15\", \"Topic15\", \"Topic15\", \"Topic15\", \"Topic15\", \"Topic15\", \"Topic15\", \"Topic15\", \"Topic15\", \"Topic15\", \"Topic15\", \"Topic15\", \"Topic15\", \"Topic15\", \"Topic15\", \"Topic15\", \"Topic16\", \"Topic16\", \"Topic16\", \"Topic16\", \"Topic16\", \"Topic16\", \"Topic16\", \"Topic16\", \"Topic16\", \"Topic16\", \"Topic16\", \"Topic16\", \"Topic16\", \"Topic16\", \"Topic16\", \"Topic16\", \"Topic16\", \"Topic16\", \"Topic16\", \"Topic16\", \"Topic16\", \"Topic16\", \"Topic16\", \"Topic16\", \"Topic16\", \"Topic16\", \"Topic16\", \"Topic16\", \"Topic16\", \"Topic16\", \"Topic16\", \"Topic16\", \"Topic16\", \"Topic16\", \"Topic16\", \"Topic16\", \"Topic16\", \"Topic16\", \"Topic16\", \"Topic16\", \"Topic16\", \"Topic16\", \"Topic16\", \"Topic16\", \"Topic16\", \"Topic16\", \"Topic16\", \"Topic16\", \"Topic16\", \"Topic16\", \"Topic16\", \"Topic16\", \"Topic16\", \"Topic16\", \"Topic16\", \"Topic16\", \"Topic16\", \"Topic16\", \"Topic16\", \"Topic16\", \"Topic16\", \"Topic16\", \"Topic17\", \"Topic17\", \"Topic17\", \"Topic17\", \"Topic17\", \"Topic17\", \"Topic17\", \"Topic17\", \"Topic17\", \"Topic17\", \"Topic17\", \"Topic17\", \"Topic17\", \"Topic17\", \"Topic17\", \"Topic17\", \"Topic17\", \"Topic17\", \"Topic17\", \"Topic17\", \"Topic17\", \"Topic17\", \"Topic17\", \"Topic17\", \"Topic17\", \"Topic17\", \"Topic17\", \"Topic17\", \"Topic17\", \"Topic17\", \"Topic17\", \"Topic17\", \"Topic17\", \"Topic17\", \"Topic17\", \"Topic17\", \"Topic17\", \"Topic17\", \"Topic17\", \"Topic17\", \"Topic17\", \"Topic17\", \"Topic17\", \"Topic17\", \"Topic17\", \"Topic17\", \"Topic17\", \"Topic17\", \"Topic17\", \"Topic17\", \"Topic17\", \"Topic17\", \"Topic17\", \"Topic17\", \"Topic18\", \"Topic18\", \"Topic18\", \"Topic18\", \"Topic18\", \"Topic18\", \"Topic18\", \"Topic18\", \"Topic18\", \"Topic18\", \"Topic18\", \"Topic18\", \"Topic18\", \"Topic18\", \"Topic18\", \"Topic18\", \"Topic18\", \"Topic18\", \"Topic18\", \"Topic18\", \"Topic18\", \"Topic18\", \"Topic18\", \"Topic18\", \"Topic18\", \"Topic18\", \"Topic18\", \"Topic18\", \"Topic18\", \"Topic18\", \"Topic18\", \"Topic18\", \"Topic18\", \"Topic18\", \"Topic18\", \"Topic18\", \"Topic18\", \"Topic18\", \"Topic18\", \"Topic18\", \"Topic18\", \"Topic18\", \"Topic18\", \"Topic18\", \"Topic18\", \"Topic18\", \"Topic18\", \"Topic18\", \"Topic18\", \"Topic18\", \"Topic18\", \"Topic18\", \"Topic18\", \"Topic18\", \"Topic18\", \"Topic18\", \"Topic18\", \"Topic18\", \"Topic18\", \"Topic19\", \"Topic19\", \"Topic19\", \"Topic19\", \"Topic19\", \"Topic19\", \"Topic19\", \"Topic19\", \"Topic19\", \"Topic19\", \"Topic19\", \"Topic19\", \"Topic19\", \"Topic19\", \"Topic19\", \"Topic19\", \"Topic19\", \"Topic19\", \"Topic19\", \"Topic19\", \"Topic19\", \"Topic19\", \"Topic19\", \"Topic19\", \"Topic19\", \"Topic19\", \"Topic19\", \"Topic19\", \"Topic19\", \"Topic19\", \"Topic19\", \"Topic19\", \"Topic19\", \"Topic19\", \"Topic19\", \"Topic19\", \"Topic19\", \"Topic19\", \"Topic19\", \"Topic19\", \"Topic19\", \"Topic19\", \"Topic19\", \"Topic19\", \"Topic19\", \"Topic19\", \"Topic19\", \"Topic19\", \"Topic19\", \"Topic19\", \"Topic19\", \"Topic19\", \"Topic19\", \"Topic19\", \"Topic20\", \"Topic20\", \"Topic20\", \"Topic20\", \"Topic20\", \"Topic20\", \"Topic20\", \"Topic20\", \"Topic20\", \"Topic20\", \"Topic20\", \"Topic20\", \"Topic20\", \"Topic20\", \"Topic20\", \"Topic20\", \"Topic20\", \"Topic20\", \"Topic20\", \"Topic20\", \"Topic20\", \"Topic20\", \"Topic20\", \"Topic20\", \"Topic20\", \"Topic20\", \"Topic20\", \"Topic20\", \"Topic20\", \"Topic20\", \"Topic20\", \"Topic20\", \"Topic20\", \"Topic20\", \"Topic20\", \"Topic20\", \"Topic20\"], \"logprob\": [30.0, 29.0, 28.0, 27.0, 26.0, 25.0, 24.0, 23.0, 22.0, 21.0, 20.0, 19.0, 18.0, 17.0, 16.0, 15.0, 14.0, 13.0, 12.0, 11.0, 10.0, 9.0, 8.0, 7.0, 6.0, 5.0, 4.0, 3.0, 2.0, 1.0, -5.357, -6.0334, -6.0626, -6.1017, -6.2497, -6.3357, -6.4233, -6.43, -6.6089, -6.7373, -6.8095, -6.0619, -7.1271, -7.1397, -7.1546, -7.2075, -7.2297, -7.2332, -7.2921, -7.3154, -7.3644, -7.377, -7.4065, -7.4236, -7.4458, -7.462, -7.4653, -7.4659, -7.466, -7.4675, -5.699, -6.4909, -5.9492, -5.6315, -6.3426, -5.8127, -6.447, -5.5805, -6.0459, -7.0085, -6.0982, -6.732, -4.9481, -6.3583, -6.3088, -6.1429, -6.1527, -5.7859, -6.7353, -5.8021, -5.2098, -4.9862, -5.8727, -4.8859, -4.4677, -5.8122, -5.678, -5.3704, -5.4734, -4.9138, -6.0759, -5.9701, -5.8721, -5.2956, -5.9251, -5.663, -5.7007, -5.8355, -5.7624, -5.8143, -5.9346, -5.8816, -5.9215, -5.9066, -7.8058, -7.8379, -7.8423, -7.9068, -5.9448, -7.9634, -8.0044, -8.0397, -8.0997, -8.1933, -8.2447, -8.2759, -8.3072, -8.4177, -8.4895, -8.5042, -8.5197, -8.5552, -8.5659, -8.5697, -8.5841, -8.5894, -8.6111, -8.6454, -8.674, -8.6815, -8.7472, -8.7569, -8.7642, -8.7975, -6.6826, -4.5375, -5.7722, -4.7934, -3.8808, -5.1629, -6.5874, -3.5776, -5.9135, -5.9997, -3.9399, -4.4994, -3.9629, -6.4622, -5.8354, -5.0288, -6.8678, -4.2858, -4.8202, -4.9694, -4.6637, -4.5237, -5.2706, -5.0197, -5.4139, -6.1388, -5.0907, -5.2427, -5.3233, -4.8582, -5.0061, -4.8627, -4.8158, -4.6555, -5.0991, -4.7097, -4.85, -4.8581, -4.2354, -4.7979, -4.9974, -5.0211, -4.8217, -4.9378, -5.0476, -5.0822, -3.8835, -5.1096, -5.2133, -5.3118, -5.4655, -5.4786, -5.5, -5.5382, -5.6508, -5.7361, -5.7397, -6.2712, -6.3575, -6.4257, -6.437, -6.4418, -6.4586, -6.6479, -6.7021, -6.7328, -6.7935, -6.802, -6.8593, -6.1306, -7.037, -7.0517, -7.0524, -7.0661, -7.0684, -7.1286, -4.6624, -6.4652, -6.6297, -5.4464, -6.4581, -6.5958, -5.8142, -6.5055, -5.9826, -6.1021, -5.6273, -5.2045, -6.056, -6.2406, -4.8832, -5.5898, -5.2968, -5.7036, -5.609, -4.8146, -5.857, -5.6689, -5.2887, -4.6513, -4.9413, -5.5412, -5.6194, -5.6976, -5.4423, -5.1914, -5.5216, -5.4997, -5.5228, -5.5294, -5.5891, -5.6108, -6.0429, -6.4233, -6.6586, -6.7924, -6.9704, -7.1694, -7.2161, -5.4465, -7.3306, -7.4169, -7.4603, -7.4606, -7.4726, -7.477, -7.4778, -7.51, -7.5159, -7.5159, -6.9033, -7.546, -7.5764, -7.6246, -7.6687, -7.6856, -7.7159, -7.7236, -7.7723, -7.8093, -7.8147, -7.8143, -7.0791, -6.3822, -6.324, -6.2157, -6.5443, -5.4891, -6.9302, -7.0571, -5.674, -6.3384, -6.6463, -5.8521, -5.8327, -7.1891, -6.2152, -6.0007, -4.9564, -6.1483, -5.6329, -5.0859, -4.6542, -4.6588, -4.5297, -6.0585, -5.7422, -5.232, -6.3223, -4.2911, -5.8097, -5.3697, -5.1202, -5.3265, -4.717, -5.4874, -5.1421, -5.0869, -5.2407, -5.113, -5.1347, -5.1358, -4.8678, -5.333, -5.2929, -5.5623, -5.2604, -5.3309, -5.2182, -5.1797, -5.2672, -5.0684, -5.5003, -5.1482, -5.1846, -5.5778, -5.6442, -5.8732, -6.0139, -6.3544, -6.6963, -6.7597, -6.8276, -6.8535, -6.8591, -6.8677, -6.8826, -6.9991, -7.0368, -7.0521, -7.1494, -7.1888, -7.205, -7.2306, -7.2405, -7.2792, -7.282, -7.4414, -7.4979, -7.5285, -7.5437, -7.5818, -7.6521, -5.593, -5.661, -7.1993, -6.7217, -6.3381, -4.126, -6.1053, -3.8644, -6.821, -5.0331, -6.3203, -5.0564, -5.1889, -4.9535, -4.8846, -5.569, -5.8237, -6.1349, -4.8201, -5.2571, -4.3823, -5.5662, -5.5717, -6.0951, -4.415, -5.8862, -4.7756, -5.1955, -4.9726, -5.0702, -6.0086, -4.0041, -5.1057, -5.2798, -4.9594, -5.06, -5.1383, -4.9757, -5.3255, -5.2971, -5.1524, -5.3578, -5.4936, -5.5274, -5.3367, -5.5125, -5.5209, -5.9208, -6.1517, -6.1921, -6.3391, -6.3605, -6.7134, -6.7185, -6.7238, -6.8068, -6.8634, -6.8991, -6.939, -6.9542, -6.966, -7.038, -7.096, -7.2464, -5.6952, -7.2913, -7.2987, -7.3005, -7.3477, -7.3694, -7.3868, -7.4002, -7.4019, -7.4053, -6.2991, -5.3601, -6.8556, -5.9077, -5.1404, -5.6926, -5.0648, -5.0841, -5.8776, -5.3169, -5.6665, -5.4632, -5.8096, -5.5156, -5.9893, -4.9907, -6.0068, -5.7602, -6.1781, -5.7952, -5.2027, -5.4847, -5.3819, -4.991, -5.4883, -5.6956, -5.4461, -5.2431, -5.6826, -5.1826, -4.8314, -5.2006, -5.3362, -5.3927, -5.3551, -5.6723, -5.5705, -5.6412, -5.683, -4.8353, -5.422, -6.2431, -6.2642, -6.288, -6.3644, -6.5259, -6.6959, -6.8266, -6.8417, -6.9611, -7.0149, -7.0617, -7.1082, -7.1373, -7.1449, -7.1582, -7.1849, -7.1923, -7.1972, -7.1985, -7.267, -7.2731, -7.3065, -7.3207, -7.3224, -7.3482, -7.3528, -7.3638, -7.369, -6.7519, -4.3744, -6.7285, -5.2436, -6.3915, -5.4708, -6.2064, -4.8167, -4.9126, -5.4779, -6.7621, -5.6276, -6.4016, -6.0226, -6.7727, -5.8783, -5.3784, -6.3764, -5.7287, -5.6035, -6.4273, -5.7303, -5.465, -5.6332, -6.0103, -5.9634, -6.2033, -4.976, -4.526, -5.1466, -5.4824, -5.5612, -5.875, -5.7811, -5.6625, -5.3824, -5.5562, -5.6551, -5.7354, -5.1933, -5.3795, -5.7542, -5.5426, -5.604, -5.7007, -5.1237, -5.1601, -5.2512, -5.3057, -5.3345, -5.6552, -5.7028, -6.0377, -6.0528, -6.4904, -6.6002, -6.8337, -6.9006, -6.9083, -6.9929, -7.0988, -7.1472, -7.1668, -7.1778, -7.1943, -7.2381, -7.2391, -7.259, -7.2815, -7.3175, -7.3216, -7.3576, -7.386, -7.3896, -7.3911, -6.0448, -5.3877, -6.1037, -6.3969, -4.2529, -4.8942, -6.4987, -3.7813, -5.2226, -6.5254, -6.7195, -4.7811, -4.7148, -4.882, -6.2208, -6.0928, -6.0549, -6.0659, -6.0835, -4.8814, -5.3803, -5.5389, -5.5155, -5.1028, -4.9557, -4.0449, -5.5812, -4.8928, -4.6489, -5.2272, -5.2322, -3.7391, -5.0767, -4.631, -4.8863, -4.6251, -4.947, -5.0099, -4.8474, -4.7383, -5.1197, -5.1893, -5.1605, -5.242, -3.6002, -3.6166, -3.7213, -5.6797, -5.821, -5.9865, -3.7904, -6.2103, -6.3651, -6.4318, -6.5598, -6.5671, -6.6324, -6.6707, -6.7184, -3.6705, -6.7726, -6.7744, -6.7965, -6.8136, -6.8451, -6.8655, -6.7074, -6.9335, -6.9889, -6.9981, -7.0485, -7.0555, -7.0865, -7.0865, -3.6039, -4.767, -3.4248, -3.7377, -3.8905, -3.7098, -3.6176, -3.4665, -6.345, -3.6529, -3.8301, -3.5729, -3.644, -3.9947, -3.6736, -3.9086, -3.8037, -6.1851, -3.7922, -3.5726, -5.8295, -3.7942, -4.2144, -3.783, -4.1545, -4.0225, -4.379, -5.3296, -5.5375, -5.5788, -5.6057, -5.6986, -5.8864, -6.0517, -6.0812, -6.0997, -6.1247, -6.2348, -6.2385, -6.2398, -6.2882, -6.3332, -6.491, -6.5154, -6.5178, -6.5337, -6.5686, -6.5638, -6.6006, -6.6129, -6.6479, -6.6671, -6.683, -6.6925, -6.7398, -6.7823, -6.85, -5.5078, -5.8695, -5.4407, -3.5144, -5.5841, -5.9292, -5.7349, -5.2841, -5.5146, -5.324, -5.4649, -2.5122, -5.4383, -5.9212, -2.7105, -2.8616, -3.2412, -5.3239, -5.1353, -3.5086, -4.9783, -5.3325, -5.6241, -3.9102, -5.5588, -5.5247, -4.2307, -4.6413, -5.0805, -5.3083, -4.2188, -5.0754, -4.5963, -5.1544, -5.19, -4.7417, -5.2698, -5.3905, -5.4044, -5.3403, -4.3993, -4.7869, -4.8562, -5.2263, -5.3418, -5.5132, -5.5272, -5.7328, -5.7909, -5.7918, -5.8, -5.9467, -5.1654, -6.015, -6.1307, -6.1426, -6.2684, -6.3444, -6.4169, -6.4679, -6.4762, -6.5484, -6.5935, -6.6104, -6.6688, -6.7479, -6.7484, -6.7565, -6.7648, -6.7789, -4.9761, -5.8853, -4.8354, -4.5599, -5.0425, -6.2312, -5.4362, -3.7376, -5.4428, -5.6402, -4.6036, -5.6709, -5.4504, -5.2421, -5.6528, -5.2956, -5.9171, -5.4403, -5.6602, -4.8798, -5.4196, -5.4876, -5.4628, -5.5148, -5.4791, -5.6342, -5.6182, -5.6464, -3.5046, -4.2967, -5.1198, -5.3632, -5.4874, -5.5094, -5.514, -5.614, -5.6442, -5.7125, -5.762, -5.7991, -5.861, -5.8756, -6.1052, -6.1111, -6.1783, -4.7943, -6.3327, -6.3765, -6.3983, -6.3402, -6.4563, -6.4682, -6.4802, -6.5021, -6.5744, -6.5996, -6.6254, -6.6711, -5.0649, -4.5549, -6.1971, -5.7771, -5.353, -5.2549, -5.8012, -4.957, -5.4773, -4.7559, -5.1228, -5.8288, -4.744, -5.1647, -5.4446, -5.2262, -5.1348, -5.5772, -4.9888, -5.7072, -5.3328, -4.6709, -5.1752, -5.3781, -5.5755, -5.5175, -4.4271, -4.9005, -5.331, -5.5806, -3.0377, -5.7805, -5.9568, -5.5353, -6.0589, -6.1435, -4.2794, -6.1818, -6.1955, -6.209, -6.2559, -6.3086, -6.4966, -6.5165, -6.5922, -6.6589, -6.7335, -6.7408, -6.7672, -6.7815, -6.7989, -4.9678, -3.9615, -7.0644, -7.0727, -7.1537, -3.4745, -4.4941, -5.1767, -5.8856, -5.8917, -6.2109, -4.6028, -5.4259, -5.2782, -4.3882, -4.7771, -3.9251, -5.48, -5.5385, -4.9003, -5.435, -5.3822, -5.666, -5.1485, -5.2372, -5.3998, -5.3991, -5.5482, -4.5194, -5.2873, -5.3447, -5.0763, -5.4112, -5.4888, -5.4887, -3.2226, -4.0858, -4.3549, -4.5813, -4.8805, -4.8956, -4.9136, -5.0159, -5.1748, -5.2487, -5.3342, -5.5001, -5.5299, -5.551, -5.5764, -5.8498, -5.8795, -5.9253, -5.9306, -5.9665, -6.1017, -6.169, -6.1943, -6.3958, -6.4016, -6.4796, -6.5267, -6.5998, -6.6172, -6.6642, -4.9165, -4.5401, -4.2106, -5.5912, -4.253, -5.8292, -4.6754, -5.1509, -5.1367, -4.3575, -5.4825, -5.1443, -5.6464, -5.3695, -4.971, -5.177, -5.1242, -5.0334, -5.3136, -5.4097, -5.3847, -5.3526, -2.1287, -3.4579, -3.6238, -4.0695, -4.457, -4.5026, -4.9584, -5.0573, -5.2249, -5.6332, -5.6895, -3.7805, -5.9639, -6.2003, -6.2107, -6.2326, -6.3337, -6.3566, -6.4119, -6.4239, -6.4874, -6.4984, -6.5317, -6.5326, -6.5431, -6.5575, -6.5871, -6.5878, -6.7026, -6.805, -4.9029, -2.2279, -5.4531, -2.9847, -5.7008, -3.1383, -3.1427, -3.1323, -3.6112, -6.0281, -5.7914, -6.1148, -4.305, -4.3537, -5.8166, -5.526, -4.3429, -4.8173, -5.1872, -5.1514, -4.8011, -5.5923, -5.4814, -4.6426, -4.9358, -4.9792, -5.1745, -5.5487, -5.744, -5.7538, -5.8117, -6.0059, -6.0164, -6.1866, -6.2612, -6.3477, -6.3552, -6.3563, -5.2672, -6.4559, -6.5169, -6.5857, -6.6006, -6.6155, -6.6863, -6.7951, -6.8156, -6.8309, -6.8606, -6.8699, -6.8702, -6.8709, -6.8711, -5.2318, -4.5677, -1.6406, -4.1414, -5.5709, -5.8203, -5.6501, -5.8709, -5.4258, -5.4986, -5.6168, -4.3888, -5.4773, -5.848, -5.1545, -5.8362, -4.7795, -4.8019, -5.0057, -4.4378, -4.7884, -4.6896, -4.9, -5.0977, -5.5276, -5.4418, -5.4704, -5.538, -5.4717, -5.4973, -5.5422, -5.5232, -3.3382, -4.1558, -4.4139, -4.4751, -4.5761, -4.9037, -5.0069, -5.0124, -5.1817, -5.2641, -5.4735, -5.5514, -5.6002, -5.7893, -5.8107, -5.9183, -6.0234, -6.0874, -4.0176, -6.1501, -6.1904, -6.2326, -6.2846, -6.3199, -6.3241, -6.3372, -2.5754, -6.4557, -6.4987, -6.5187, -5.7791, -4.0371, -3.6515, -5.1314, -3.5839, -5.4941, -4.3368, -4.7721, -5.1975, -4.292, -4.7761, -4.172, -4.8747, -5.2593, -4.452, -4.9077, -3.8727, -5.1946, -4.8908, -4.7447, -4.8764, -5.0644, -5.0898, -5.187, -4.8758, -5.366, -5.4269, -5.4442, -5.5154, -5.5938, -5.6022, -5.7578, -5.8253, -5.9547, -5.9793, -5.9832, -5.9918, -6.0379, -6.0704, -6.086, -6.0974, -6.1023, -6.1273, -6.1585, -6.1836, -6.2321, -6.258, -6.2639, -6.2658, -6.268, -6.3121, -6.3134, -6.3482, -6.4012, -4.2438, -5.7394, -5.7221, -4.6153, -5.317, -5.5996, -4.9237, -5.4141, -5.7762, -4.3859, -5.9052, -4.9478, -3.6584, -5.4333, -5.7439, -5.2318, -4.8383, -5.1815, -5.0589, -5.2973, -4.5513, -5.4754, -4.8446, -5.3708, -5.0583, -5.4335, -5.4813, -5.4531, -5.4512, -4.2005, -4.4464, -4.7397, -4.8995, -4.9495, -5.0519, -5.0906, -5.3185, -5.4973, -5.5255, -5.5378, -5.6334, -5.6714, -5.7413, -5.8145, -5.837, -5.8432, -5.8524, -5.8623, -5.8687, -5.8986, -5.9479, -6.0427, -6.062, -6.0829, -6.1281, -6.1453, -6.174, -6.1757, -6.2117, -4.942, -4.4052, -3.4279, -3.3549, -2.8038, -5.5415, -4.8965, -4.7802, -3.6122, -4.9492, -4.3768, -5.1254, -4.1205, -4.1863, -4.08, -4.4614, -4.8867, -4.4275, -4.4559, -4.9279, -4.7065, -4.8185, -4.9283, -4.9421, -4.2856, -4.5147, -4.5756, -4.8826, -4.905, -5.0386, -5.041, -5.187, -5.2069, -5.241, -5.3198, -5.3311, -5.3601, -5.4241, -5.4334, -5.4398, -5.4437, -5.4506, -5.4718, -5.5023, -5.5051, -5.5195, -5.5241, -5.6111, -5.6233, -5.6278, -5.6302, -5.6342, -5.6506, -5.6611, -5.2346, -5.0141, -4.9636, -5.3489, -4.906, -5.0974, -5.4736], \"loglift\": [30.0, 29.0, 28.0, 27.0, 26.0, 25.0, 24.0, 23.0, 22.0, 21.0, 20.0, 19.0, 18.0, 17.0, 16.0, 15.0, 14.0, 13.0, 12.0, 11.0, 10.0, 9.0, 8.0, 7.0, 6.0, 5.0, 4.0, 3.0, 2.0, 1.0, 1.9544, 1.9536, 1.9536, 1.9535, 1.9533, 1.9531, 1.9529, 1.9529, 1.9524, 1.952, 1.9517, 1.9508, 1.9504, 1.9504, 1.9503, 1.95, 1.9499, 1.9499, 1.9496, 1.9494, 1.9491, 1.9491, 1.9489, 1.9488, 1.9486, 1.9485, 1.9485, 1.9485, 1.9485, 1.9485, 1.9438, 1.9473, 1.9375, 1.928, 1.9362, 1.9203, 1.9329, 1.912, 1.9211, 1.9405, 1.894, 1.9223, 1.8136, 1.8992, 1.8844, 1.8653, 1.8531, 1.7957, 1.9044, 1.7741, 1.6388, 1.5099, 1.6888, 1.2956, 1.1237, 1.6313, 1.5145, 0.9427, 1.0067, 0.1979, 1.5739, 1.4003, 1.2032, -0.1722, 1.176, 0.236, 0.1867, 0.7505, 0.008, 0.3407, 0.9918, 0.3452, 0.076, -0.858, 2.0223, 2.022, 2.0219, 2.0212, 2.0212, 2.0206, 2.0201, 2.0196, 2.0188, 2.0175, 2.0167, 2.0162, 2.0157, 2.0137, 2.0124, 2.0121, 2.0117, 2.011, 2.0108, 2.0107, 2.0104, 2.0103, 2.0098, 2.009, 2.0083, 2.0081, 2.0065, 2.0062, 2.0059, 2.0052, 1.9756, 1.9008, 1.9205, 1.8194, 1.7436, 1.7692, 1.8301, 1.5342, 1.7613, 1.7608, 1.544, 1.6023, 1.5348, 1.7862, 1.7064, 1.6062, 1.8235, 1.4857, 1.5504, 1.5621, 1.5059, 1.4738, 1.5588, 1.4977, 1.5557, 1.69, 1.4847, 1.5099, 1.5147, 1.4067, 1.4334, 1.397, 1.35, 1.3015, 1.4252, 1.2371, 1.2712, 1.2688, 0.888, 1.0895, 1.2074, 1.1608, 0.7696, 0.1108, 0.8513, 0.6882, 2.1907, 2.1901, 2.19, 2.1899, 2.1898, 2.1898, 2.1897, 2.1897, 2.1895, 2.1894, 2.1894, 2.1883, 2.1881, 2.1879, 2.1879, 2.1879, 2.1878, 2.1871, 2.1869, 2.1868, 2.1865, 2.1865, 2.1863, 2.1858, 2.1853, 2.1853, 2.1853, 2.1852, 2.1852, 2.1848, 2.1779, 2.1808, 2.1784, 2.1285, 2.1551, 2.1581, 2.0882, 2.148, 2.0244, 2.0123, 1.8706, 1.7272, 1.9851, 2.0442, 1.5561, 1.8016, 1.6863, 1.8454, 1.6899, 1.0843, 1.748, 1.5932, 1.2105, 0.4721, 0.65, 1.3438, 1.4093, 1.4341, 0.8708, -0.0796, 0.7052, 0.5951, 0.2387, 0.2421, 0.2983, 0.5161, 2.381, 2.3799, 2.3789, 2.3783, 2.3762, 2.3758, 2.3755, 2.3747, 2.3745, 2.3737, 2.3732, 2.3732, 2.3731, 2.3731, 2.3731, 2.3727, 2.3727, 2.3727, 2.3724, 2.3723, 2.372, 2.3714, 2.3709, 2.3707, 2.3703, 2.3702, 2.3695, 2.369, 2.3689, 2.3689, 2.3398, 2.2834, 2.2686, 2.2526, 2.2572, 2.1401, 2.2728, 2.2783, 2.0291, 2.1428, 2.1765, 1.9852, 1.9557, 2.2927, 2.027, 1.9372, 1.6184, 1.9743, 1.8085, 1.6269, 1.4314, 1.2983, 1.2408, 1.857, 1.7135, 1.4204, 1.963, 0.8323, 1.6833, 1.4069, 1.2337, 1.3321, 0.7669, 1.3951, 1.0869, 1.0343, 1.1427, 1.014, 1.0203, 0.9931, 0.6299, 1.1471, 1.0743, 1.3929, 0.9054, 0.9402, 0.6807, 0.5918, 0.7304, 0.0434, 0.6811, 2.3932, 2.3932, 2.3927, 2.3926, 2.3921, 2.3918, 2.3908, 2.3894, 2.3891, 2.3887, 2.3886, 2.3885, 2.3885, 2.3884, 2.3877, 2.3874, 2.3873, 2.3866, 2.3863, 2.3862, 2.386, 2.3859, 2.3856, 2.3856, 2.3841, 2.3835, 2.3831, 2.383, 2.3825, 2.3817, 2.3812, 2.3788, 2.3802, 2.3751, 2.3678, 2.3227, 2.3567, 2.2715, 2.3686, 2.2292, 2.3241, 2.2239, 2.2242, 2.1923, 2.179, 2.2465, 2.2514, 2.2841, 2.1094, 2.156, 2.0231, 2.1928, 2.1499, 2.2488, 1.8619, 2.1928, 1.9136, 1.9966, 1.9271, 1.7791, 2.215, 1.0445, 1.6362, 1.7493, 1.4033, 1.3234, 1.3999, 1.0761, 1.5133, 1.3858, 0.6091, 1.314, 1.8466, -0.0435, 2.6894, 2.6891, 2.6891, 2.6881, 2.6873, 2.6871, 2.6865, 2.6864, 2.6844, 2.6844, 2.6844, 2.6838, 2.6834, 2.6831, 2.6828, 2.6826, 2.6825, 2.6819, 2.6813, 2.6798, 2.6794, 2.6793, 2.6792, 2.6791, 2.6786, 2.6783, 2.6781, 2.6779, 2.6779, 2.6778, 2.676, 2.6483, 2.6467, 2.5676, 2.4493, 2.5098, 2.439, 2.425, 2.4862, 2.4016, 2.3928, 2.2993, 2.3436, 2.2395, 2.371, 2.016, 2.3405, 2.2361, 2.4033, 2.1928, 1.8677, 2.0151, 1.86, 1.5472, 1.7549, 1.9814, 1.655, 1.2637, 1.9096, 0.903, 0.2172, 0.8882, 1.1599, 0.8843, 0.7396, 1.3941, 0.191, 0.7215, 1.473, 2.8652, 2.8645, 2.8617, 2.8616, 2.8615, 2.8611, 2.8601, 2.8589, 2.8578, 2.8577, 2.8566, 2.856, 2.8555, 2.8548, 2.8546, 2.8545, 2.8544, 2.854, 2.8539, 2.8539, 2.8539, 2.8529, 2.8529, 2.8524, 2.8522, 2.8522, 2.8518, 2.8517, 2.8516, 2.8515, 2.8449, 2.7887, 2.8378, 2.7571, 2.7806, 2.6758, 2.7462, 2.5995, 2.6039, 2.6538, 2.7954, 2.5784, 2.6571, 2.5168, 2.7377, 2.4391, 2.2152, 2.5747, 2.2657, 2.1746, 2.5741, 2.1579, 1.9718, 2.0495, 2.2637, 2.227, 2.4003, 1.1128, 0.5226, 1.2161, 1.5763, 1.6493, 2.0269, 1.8313, 1.5442, 0.7388, 1.1471, 1.3937, 1.5755, -0.0699, 0.382, 1.3015, -0.0428, 0.2834, 0.8167, 3.0203, 3.0202, 3.02, 3.0199, 3.0198, 3.019, 3.0188, 3.0175, 3.0174, 3.0148, 3.0139, 3.0117, 3.011, 3.0109, 3.0099, 3.0086, 3.0079, 3.0076, 3.0075, 3.0072, 3.0066, 3.0066, 3.0062, 3.0059, 3.0053, 3.0052, 3.0046, 3.0041, 3.004, 3.004, 3.0006, 2.9783, 2.9805, 2.9864, 2.9343, 2.9434, 2.9809, 2.8408, 2.9036, 2.9692, 2.9766, 2.8238, 2.8053, 2.819, 2.9143, 2.8976, 2.8805, 2.8733, 2.87, 2.6274, 2.7279, 2.7514, 2.6729, 2.4898, 2.3997, 2.007, 2.6488, 2.3296, 2.1728, 2.4401, 2.426, 1.3095, 2.2392, 1.7524, 1.9525, 1.5797, 1.7949, 1.8898, 1.5579, 1.2085, 1.9117, 2.1744, 0.9663, 1.441, 3.115, 3.115, 3.115, 3.1119, 3.1114, 3.1106, 3.1102, 3.1094, 3.1084, 3.1079, 3.1069, 3.1068, 3.1063, 3.1059, 3.1054, 3.1052, 3.1049, 3.1049, 3.1046, 3.1044, 3.1041, 3.1039, 3.1033, 3.103, 3.1023, 3.1022, 3.1015, 3.1014, 3.101, 3.101, 3.0611, 3.0762, 3.0208, 2.9953, 2.9939, 2.9705, 2.9014, 2.8824, 3.0616, 2.6745, 2.6171, 2.5574, 2.5155, 2.5393, 2.4501, 2.4636, 2.3802, 2.9942, 2.2512, 2.1003, 2.8253, 1.7056, 1.9006, 1.572, 1.7312, 1.587, 1.4964, 3.3202, 3.3195, 3.3193, 3.3192, 3.3188, 3.3179, 3.3169, 3.3167, 3.3166, 3.3164, 3.3156, 3.3156, 3.3156, 3.3152, 3.3148, 3.3134, 3.3131, 3.3131, 3.3129, 3.3126, 3.3126, 3.3122, 3.3121, 3.3117, 3.3115, 3.3113, 3.3112, 3.3106, 3.31, 3.3091, 3.2951, 3.2987, 3.2859, 3.2368, 3.2793, 3.2826, 3.273, 3.2469, 3.2557, 3.2321, 3.2168, 2.8428, 3.1912, 3.2338, 2.7893, 2.8112, 2.6445, 3.0682, 3.0057, 2.5349, 2.9503, 3.0456, 3.1065, 2.2737, 3.0668, 3.0261, 2.1414, 2.4145, 2.6883, 2.8609, 1.8962, 2.5929, 1.8509, 2.5856, 2.5963, 1.7924, 2.4485, 2.843, 2.8198, 2.1936, 3.5362, 3.5355, 3.5353, 3.5342, 3.5338, 3.5331, 3.533, 3.5319, 3.5316, 3.5316, 3.5315, 3.5305, 3.5301, 3.53, 3.5291, 3.529, 3.5278, 3.527, 3.5262, 3.5256, 3.5255, 3.5246, 3.524, 3.5238, 3.523, 3.5217, 3.5217, 3.5216, 3.5215, 3.5212, 3.5189, 3.5137, 3.4958, 3.4781, 3.4597, 3.4976, 3.4458, 3.2994, 3.433, 3.3885, 3.1154, 3.33, 3.2635, 3.1772, 3.2253, 2.6212, 3.276, 2.6418, 2.8414, 1.172, 2.2573, 2.1544, 1.8882, 1.2271, 0.7498, 2.1784, 1.6237, 2.0107, 3.5514, 3.5506, 3.5488, 3.5478, 3.5474, 3.5473, 3.5473, 3.5468, 3.5466, 3.5462, 3.5459, 3.5457, 3.5453, 3.5452, 3.5435, 3.5434, 3.5428, 3.5421, 3.5413, 3.5408, 3.5406, 3.5405, 3.5399, 3.5397, 3.5396, 3.5393, 3.5384, 3.538, 3.5376, 3.537, 3.505, 3.4056, 3.5044, 3.458, 3.3334, 3.3098, 3.4036, 3.2182, 3.303, 3.0397, 3.1391, 3.3727, 2.9131, 2.9628, 3.0813, 2.8045, 2.6409, 3.0551, 1.846, 3.2029, 2.2601, 0.3778, 1.4468, 1.9795, 2.5784, 0.5713, 3.6398, 3.6387, 3.6372, 3.636, 3.635, 3.6347, 3.6334, 3.6334, 3.6326, 3.6318, 3.6316, 3.6314, 3.6313, 3.6311, 3.6306, 3.63, 3.6277, 3.6274, 3.6263, 3.6253, 3.624, 3.6239, 3.6234, 3.6232, 3.6228, 3.622, 3.6191, 3.6172, 3.617, 3.615, 3.592, 3.5982, 3.593, 3.6043, 3.5908, 3.6028, 3.5254, 3.5248, 3.4392, 3.2907, 3.3454, 3.1994, 3.4311, 3.3893, 3.1628, 3.3258, 3.2664, 3.3198, 2.9647, 2.9768, 2.9776, 2.9689, 3.1187, 1.5662, 2.6929, 2.6812, 1.7003, 0.8177, 2.1279, 0.6001, 3.8107, 3.8099, 3.8094, 3.8089, 3.8081, 3.8081, 3.808, 3.8076, 3.807, 3.8067, 3.8062, 3.8053, 3.8051, 3.805, 3.8048, 3.8028, 3.8025, 3.8021, 3.8021, 3.8017, 3.8004, 3.7996, 3.7993, 3.7966, 3.7966, 3.7954, 3.7946, 3.7933, 3.793, 3.7921, 3.7587, 3.7332, 3.6885, 3.7266, 3.6096, 3.7268, 3.4815, 3.4912, 3.4135, 3.0535, 3.5206, 3.0776, 3.5273, 3.2078, 2.702, 2.8898, 2.814, 2.1591, 2.2478, 2.5695, 1.6219, 0.2387, 3.8682, 3.8676, 3.8675, 3.8669, 3.8662, 3.8661, 3.8648, 3.8644, 3.8636, 3.8612, 3.8608, 3.8591, 3.8584, 3.8558, 3.8556, 3.8553, 3.854, 3.8536, 3.8528, 3.8526, 3.8516, 3.8514, 3.8508, 3.8508, 3.8506, 3.8504, 3.8498, 3.8498, 3.8476, 3.8453, 3.8092, 3.6475, 3.7379, 3.139, 3.6525, 3.0212, 2.9876, 2.9828, 2.7162, 3.6292, 3.4597, 3.6314, 2.214, 2.1803, 3.3904, 3.0898, 1.5427, 1.863, 1.6971, 1.5816, 0.554, 2.194, 0.0184, 4.2412, 4.2399, 4.2397, 4.2385, 4.2355, 4.2334, 4.2333, 4.2326, 4.2299, 4.2298, 4.227, 4.2256, 4.2238, 4.2237, 4.2236, 4.2233, 4.2214, 4.2199, 4.2182, 4.2178, 4.2173, 4.2153, 4.212, 4.2113, 4.2108, 4.2098, 4.2094, 4.2094, 4.2094, 4.2094, 4.178, 4.1373, 3.9689, 4.052, 4.0753, 4.0945, 4.0456, 4.0517, 3.9288, 3.9337, 3.9637, 3.5346, 3.8678, 3.931, 3.5716, 3.8423, 2.98, 2.8358, 2.7519, 1.6981, 1.4886, 0.9833, 1.4489, 1.7638, 3.0508, 2.244, 2.1745, 2.6247, 1.9538, 1.1899, 1.834, -0.1682, 4.3429, 4.3414, 4.3406, 4.3404, 4.34, 4.3384, 4.3377, 4.3377, 4.3365, 4.3359, 4.334, 4.3332, 4.3326, 4.3303, 4.33, 4.3284, 4.3266, 4.3255, 4.3246, 4.3243, 4.3235, 4.3226, 4.3215, 4.3207, 4.3206, 4.3203, 4.3183, 4.3173, 4.3161, 4.3156, 4.2924, 4.1017, 3.9485, 4.1389, 3.732, 4.1422, 3.8265, 3.7326, 3.8634, 3.3204, 3.5276, 3.1514, 3.4377, 3.6547, 2.6143, 3.0476, 1.1759, 3.3951, 2.158, 1.3072, 1.6304, 2.2374, 1.6719, 2.4628, 4.4035, 4.3998, 4.3992, 4.399, 4.3982, 4.3973, 4.3972, 4.3952, 4.3942, 4.3921, 4.3917, 4.3916, 4.3915, 4.3906, 4.39, 4.3897, 4.3895, 4.3894, 4.3889, 4.3883, 4.3877, 4.3867, 4.3861, 4.3859, 4.3859, 4.3858, 4.3848, 4.3847, 4.3839, 4.3825, 4.2376, 4.338, 4.3193, 3.9169, 4.1075, 4.1345, 3.773, 3.9413, 4.1195, 3.0365, 4.178, 3.1334, 1.6966, 3.6212, 3.9645, 3.2488, 2.5549, 3.0318, 2.6149, 3.0708, 1.5375, 3.4127, 1.041, 2.2475, 0.4415, 1.6223, 1.8656, 1.432, 0.5923, 4.6852, 4.6841, 4.6824, 4.6812, 4.6808, 4.6799, 4.6795, 4.677, 4.6747, 4.6742, 4.6741, 4.6725, 4.6719, 4.6707, 4.6693, 4.6688, 4.6687, 4.6685, 4.6683, 4.6682, 4.6675, 4.6665, 4.6642, 4.6637, 4.6632, 4.662, 4.6615, 4.6607, 4.6607, 4.6597, 4.6309, 4.5875, 4.4996, 4.4939, 4.2276, 4.5589, 4.2841, 4.2176, 3.7515, 4.202, 3.8412, 4.2246, 3.5944, 3.6199, 3.2308, 3.4605, 3.7585, 2.9856, 2.2159, 3.0257, 2.3423, 2.6117, 2.739, 1.4632, 5.8696, 5.8658, 5.8647, 5.8578, 5.8573, 5.8535, 5.8534, 5.8487, 5.848, 5.8468, 5.8438, 5.8433, 5.8421, 5.8394, 5.839, 5.8387, 5.8386, 5.8382, 5.8373, 5.8359, 5.8357, 5.8351, 5.8348, 5.8305, 5.8298, 5.8296, 5.8295, 5.8293, 5.8284, 5.8278, 5.7511, 5.5157, 4.9928, 5.471, 4.6186, 4.0874, 4.7477]}, \"token.table\": {\"Topic\": [9, 10, 16, 15, 18, 15, 18, 15, 15, 3, 5, 6, 7, 8, 9, 10, 11, 15, 16, 18, 4, 6, 7, 8, 9, 10, 11, 14, 18, 1, 2, 4, 5, 6, 7, 10, 12, 13, 18, 10, 19, 5, 6, 7, 10, 11, 14, 16, 18, 1, 3, 4, 6, 7, 8, 10, 11, 12, 14, 15, 16, 6, 7, 10, 11, 14, 15, 18, 3, 6, 7, 9, 10, 14, 15, 19, 10, 15, 3, 4, 6, 7, 8, 10, 11, 14, 19, 6, 7, 8, 9, 10, 14, 19, 1, 6, 7, 9, 10, 14, 16, 19, 1, 6, 7, 10, 14, 15, 16, 18, 14, 14, 6, 11, 4, 5, 6, 12, 14, 18, 4, 5, 6, 11, 13, 14, 5, 6, 7, 10, 11, 16, 18, 15, 15, 19, 3, 4, 10, 18, 3, 4, 5, 7, 8, 9, 10, 11, 12, 15, 16, 18, 19, 1, 3, 4, 6, 7, 8, 10, 14, 1, 4, 6, 7, 14, 18, 2, 5, 6, 7, 9, 10, 14, 19, 7, 6, 7, 10, 14, 15, 16, 5, 7, 16, 19, 19, 2, 1, 9, 10, 1, 6, 9, 10, 11, 18, 1, 6, 9, 10, 14, 15, 19, 4, 5, 6, 7, 8, 9, 10, 11, 12, 15, 18, 7, 11, 12, 14, 18, 6, 7, 10, 14, 5, 7, 8, 9, 10, 14, 19, 10, 15, 19, 7, 9, 10, 4, 6, 7, 9, 10, 12, 9, 10, 6, 10, 9, 10, 9, 10, 2, 6, 7, 8, 9, 10, 12, 16, 18, 10, 2, 4, 6, 7, 8, 9, 10, 11, 12, 16, 18, 1, 6, 7, 12, 10, 10, 16, 6, 7, 8, 9, 10, 11, 12, 14, 16, 18, 15, 5, 7, 8, 9, 10, 11, 13, 15, 18, 15, 1, 5, 7, 8, 9, 10, 16, 19, 19, 3, 7, 9, 10, 11, 15, 18, 7, 16, 15, 17, 13, 16, 18, 8, 11, 12, 19, 8, 1, 13, 5, 2, 6, 12, 14, 1, 3, 4, 6, 7, 1, 6, 11, 17, 1, 2, 3, 4, 9, 1, 3, 6, 14, 18, 1, 9, 11, 12, 13, 1, 6, 12, 20, 5, 17, 17, 5, 6, 16, 1, 2, 3, 4, 5, 6, 7, 8, 11, 12, 13, 14, 19, 1, 1, 6, 12, 13, 18, 7, 7, 11, 14, 4, 14, 5, 17, 1, 2, 1, 2, 3, 4, 5, 8, 1, 2, 3, 4, 5, 8, 16, 2, 3, 4, 7, 1, 4, 1, 3, 4, 5, 6, 7, 8, 11, 13, 18, 7, 8, 16, 19, 3, 5, 6, 7, 8, 11, 2, 5, 8, 1, 6, 7, 10, 11, 13, 14, 18, 9, 1, 1, 5, 14, 6, 13, 14, 1, 3, 4, 5, 16, 14, 14, 1, 6, 12, 14, 1, 2, 3, 4, 5, 7, 8, 11, 12, 1, 3, 5, 6, 7, 18, 1, 2, 3, 4, 5, 7, 4, 1, 11, 18, 11, 11, 11, 17, 1, 3, 3, 19, 11, 1, 14, 17, 17, 1, 7, 1, 3, 17, 7, 12, 1, 2, 3, 5, 6, 7, 8, 11, 12, 13, 17, 19, 18, 4, 6, 7, 10, 1, 2, 3, 4, 7, 14, 17, 9, 15, 14, 14, 14, 3, 4, 6, 7, 9, 10, 13, 15, 16, 9, 15, 9, 1, 2, 3, 4, 5, 7, 8, 11, 12, 13, 16, 18, 4, 8, 14, 4, 12, 11, 13, 14, 18, 1, 1, 7, 4, 20, 4, 13, 4, 1, 18, 13, 12, 10, 16, 3, 1, 2, 3, 4, 8, 1, 2, 3, 4, 5, 6, 7, 12, 13, 16, 19, 1, 2, 3, 4, 5, 7, 8, 12, 9, 3, 3, 12, 2, 5, 16, 18, 8, 1, 2, 3, 4, 5, 7, 8, 16, 17, 19, 5, 15, 1, 4, 5, 6, 8, 12, 14, 17, 4, 5, 8, 10, 12, 13, 18, 15, 12, 9, 10, 1, 2, 6, 8, 13, 18, 19, 7, 4, 5, 2, 3, 5, 6, 7, 11, 14, 18, 6, 10, 13, 14, 18, 4, 5, 6, 7, 8, 10, 12, 13, 14, 1, 3, 4, 13, 12, 2, 3, 7, 8, 2, 13, 1, 8, 9, 11, 19, 1, 2, 4, 5, 6, 7, 8, 11, 12, 16, 19, 13, 13, 2, 5, 6, 8, 9, 10, 16, 7, 8, 12, 13, 18, 8, 19, 10, 10, 5, 1, 2, 3, 4, 7, 8, 13, 14, 2, 6, 17, 2, 12, 8, 18, 19, 7, 4, 5, 20, 4, 8, 13, 4, 3, 1, 2, 3, 4, 5, 6, 8, 12, 13, 5, 7, 8, 9, 18, 1, 5, 6, 7, 11, 13, 14, 9, 6, 20, 16, 12, 20, 10, 6, 10, 13, 18, 8, 17, 2, 2, 3, 3, 10, 14, 6, 7, 15, 18, 18, 20, 3, 5, 20, 9, 17, 7, 8, 12, 1, 1, 14, 1, 2, 3, 4, 7, 8, 14, 18, 5, 6, 1, 17, 18, 4, 13, 20, 3, 5, 7, 8, 16, 17, 16, 4, 5, 7, 19, 5, 16, 8, 19, 1, 2, 3, 4, 5, 7, 8, 12, 13, 19, 11, 18, 18, 8, 1, 5, 16, 2, 5, 6, 7, 8, 11, 18, 1, 3, 6, 7, 12, 14, 18, 8, 1, 5, 6, 13, 14, 1, 2, 3, 5, 6, 7, 8, 12, 7, 8, 1, 14, 16, 3, 1, 5, 6, 7, 8, 11, 12, 13, 2, 3, 5, 7, 8, 14, 18, 2, 18, 14, 2, 1, 2, 6, 7, 8, 11, 12, 18, 1, 2, 3, 4, 6, 8, 11, 17, 1, 6, 16, 1, 5, 1, 2, 3, 5, 6, 7, 8, 11, 12, 13, 14, 18, 5, 7, 8, 19, 19, 11, 1, 14, 1, 1, 20, 2, 17, 17, 17, 2, 13, 18, 3, 12, 13, 14, 9, 15, 5, 6, 7, 8, 11, 5, 1, 14, 1, 1, 2, 3, 4, 5, 6, 7, 11, 12, 14, 7, 9, 6, 9, 11, 14, 17, 1, 7, 8, 12, 2, 17, 1, 4, 11, 13, 10, 8, 20, 1, 3, 4, 5, 6, 8, 16, 19, 11, 1, 2, 3, 5, 6, 7, 8, 11, 12, 7, 10, 7, 1, 3, 4, 5, 6, 8, 11, 1, 5, 7, 8, 11, 6, 6, 8, 7, 19, 6, 5, 20, 6, 5, 7, 8, 2, 3, 5, 7, 14, 16, 19, 1, 4, 7, 11, 3, 1, 3, 5, 6, 13, 14, 8, 6, 5, 8, 1, 6, 3, 7, 12, 4, 6, 7, 16, 1, 13, 17, 1, 4, 2, 19, 1, 4, 7, 8, 12, 14, 7, 8, 10, 12, 19, 1, 6, 7, 8, 9, 15, 13, 1, 3, 11, 2, 3, 5, 16, 1, 10, 1, 3, 5, 6, 17, 1, 2, 3, 4, 5, 6, 7, 8, 12, 17, 20, 18, 19, 1, 13, 6, 11, 12, 1, 2, 3, 4, 5, 16, 17, 16, 3, 6, 11, 12, 2, 5, 6, 7, 8, 11, 12, 5, 13, 16, 15, 3, 4, 5, 7, 8, 16, 14, 17, 8, 13, 3, 18, 8, 1, 2, 3, 4, 5, 6, 7, 8, 12, 17, 1, 3, 4, 6, 3, 4, 5, 6, 7, 12, 13, 1, 2, 3, 5, 8, 11, 14, 16, 18, 1, 5, 8, 16, 5, 6, 11, 14, 1, 3, 4, 7, 14, 18, 9, 15, 1, 3, 4, 11, 14, 3, 7, 12, 13, 1, 17, 15, 1, 6, 20, 16, 4, 5, 8, 14, 16, 7, 1, 2, 3, 4, 5, 6, 7, 8, 10, 11, 13, 14, 16, 1, 4, 11, 12, 13, 1, 1, 2, 3, 4, 5, 6, 7, 8, 10, 11, 12, 13, 14, 16, 17, 18, 16, 11, 18, 8, 11, 6, 13, 1, 2, 5, 17, 1, 2, 3, 4, 5, 6, 7, 8, 11, 12, 13, 14, 16, 18, 5, 7, 1, 3, 6, 12, 14, 1, 3, 4, 7, 11, 12, 14, 12, 5, 6, 8, 11, 6, 16, 8, 15, 13, 3, 4, 10, 18, 1, 4, 7, 12, 13, 14, 5, 2, 9, 10, 15, 7, 10, 13, 16, 2, 4, 12, 20, 7, 15, 9, 16, 2, 12, 12, 14, 13, 1, 2, 3, 4, 5, 6, 7, 8, 12, 13, 16, 7, 18, 5, 7, 15, 4, 9, 13, 18, 7, 11, 1, 2, 3, 4, 7, 8, 12, 13, 1, 3, 6, 10, 11, 13, 16, 13, 13, 3, 1, 2, 3, 4, 5, 6, 7, 12, 13, 4, 1, 11, 14, 17, 18, 5, 7, 19, 11, 12, 1, 2, 5, 6, 8, 14, 3, 14, 4, 5, 7, 8, 12, 13, 18, 2, 1, 3, 4, 8, 11, 12, 15, 1, 2, 3, 4, 17, 1, 1, 2, 4, 8, 10, 13, 9, 9, 7, 1, 10, 1, 2, 3, 4, 7, 8, 12, 19, 19, 9, 8, 9, 6, 6, 11, 12, 3, 14, 12, 1, 2, 3, 4, 5, 6, 8, 14, 18, 4, 19, 16, 1, 3, 4, 6, 11, 13, 14, 4, 13, 16, 4, 9, 18, 13, 3, 3, 12, 8, 19, 18, 5, 16, 4, 7, 12, 14, 6, 1, 6, 7, 12, 14, 11, 18, 4, 18, 10, 1, 3, 5, 6, 11, 14, 18, 4, 15, 15, 5, 8, 12, 10, 1, 8, 12, 3, 5, 7, 11, 1, 3, 5, 6, 7, 8, 11, 13, 14, 16, 18, 1, 4, 6, 8, 11, 14, 6, 18, 1, 2, 3, 5, 6, 8, 11, 14, 16, 7, 4, 13, 5, 6, 7, 8, 16, 5, 7, 8, 12, 1, 3, 5, 6, 11, 14, 12, 16, 8, 12, 12, 15, 1, 3, 5, 4, 8, 20, 1, 11, 18, 8, 3, 8, 11, 19, 2, 10, 1, 1, 3, 1, 3, 5, 6, 7, 8, 17, 18, 14, 6, 9, 16, 17, 3, 1, 3, 14, 1, 3, 14, 2, 3, 4, 5, 6, 7, 10, 11, 13, 14, 18, 7, 11, 8, 2, 11, 9, 18, 14, 5, 17, 9, 2, 1, 3, 4, 14, 11, 4, 3, 9, 1, 2, 3, 4, 5, 8, 18, 1, 20, 14, 12, 1, 9, 10, 1, 2, 6, 10, 13, 14, 12, 7, 17, 1, 2, 3, 4, 5, 6, 7, 8, 11, 13, 14, 16, 18, 6, 1, 5, 11, 7, 1, 3, 6, 17, 1, 19, 13, 13, 18, 1, 2, 3, 4, 5, 7, 8, 12, 13, 14, 18, 15, 4, 1, 7, 12, 2, 20, 9, 15, 1, 5, 6, 11, 14, 18, 1, 2, 3, 4, 6, 11, 12, 1, 2, 3, 4, 7, 8, 11, 12, 2, 1, 2, 3, 4, 5, 6, 7, 8, 12, 14, 1, 2, 3, 4, 5, 7, 8, 12, 13, 14, 16, 1, 3, 5, 6, 8, 11, 16, 5, 1, 2, 3, 4, 5, 6, 7, 10, 11, 12, 13, 14, 18, 1, 2, 3, 4, 6, 12, 14, 2, 1, 2, 5, 6, 7, 8, 11, 12, 13, 14, 19, 5, 6, 14, 1, 2, 3, 4, 5, 7, 8, 12, 16, 18, 3, 1, 2, 3, 4, 7, 8, 13, 18, 1, 2, 3, 4, 5, 7, 8, 12, 2, 3, 4, 12, 11, 9, 9, 9, 5, 7, 8, 17, 1, 2, 4, 5, 7, 8, 11, 2, 5, 7, 10, 1, 2, 3, 4, 5, 6, 7, 8, 12, 13, 16, 17, 16, 1, 3, 4, 5, 11, 16, 18, 1, 2, 3, 4, 5, 6, 7, 8, 12, 13, 14, 5, 7, 8, 12, 5, 11, 20, 3, 1, 5, 7, 20, 1, 14, 18, 3, 15, 19, 1, 2, 3, 4, 5, 6, 7, 8, 10, 11, 12, 13, 16, 17, 18, 7, 8, 1, 8, 9, 1, 2, 3, 4, 5, 7, 8, 11, 12, 17, 4, 1, 6, 6, 20, 2, 3, 4, 5, 6, 7, 8, 13, 19, 2, 3, 5, 8, 17, 12, 10, 9, 8, 19, 7, 7, 16, 11, 12, 14, 18, 1, 11, 1, 10, 18, 1, 2, 6, 7, 11, 13, 14, 19, 17, 10, 1, 2, 3, 6, 7, 12, 3, 11, 20, 3, 5, 7, 8, 16, 19, 2, 3, 5, 6, 7, 8, 11, 12, 7, 8, 10, 16, 1, 2, 6, 7, 11, 12, 13, 5, 6, 7, 19, 11, 18, 1, 3, 3, 4, 14, 5, 6, 11, 12, 12, 20, 5, 8, 18, 7, 9, 14, 1, 3, 9, 14, 15, 18, 6, 1, 2, 3, 4, 5, 6, 7, 8, 11, 12, 1, 12, 1, 3, 14, 18, 9, 6, 9, 6, 20, 9, 5, 9, 15, 16, 12, 11, 1, 3, 6, 11, 13, 14, 18, 1, 3, 4, 5, 6, 7, 11, 1, 14, 1, 2, 3, 4, 5, 6, 7, 8, 12, 16, 6, 20, 2, 1, 2, 3, 5, 6, 7, 8, 10, 11, 12, 13, 14, 18, 5, 6, 19, 13, 13, 7, 10, 8, 10, 1, 8, 8, 16, 1, 2, 3, 4, 5, 6, 7, 8, 13, 14, 16, 17, 6, 10, 10, 18, 13, 1, 3, 4, 5, 6, 11, 14, 11, 20, 1, 2, 3, 5, 6, 7, 14, 18, 1, 6, 12, 13, 1, 2, 3, 4, 7, 8, 12, 14, 18, 1, 2, 3, 4, 5, 6, 7, 8, 11, 12, 14, 16, 17, 18, 5, 20, 5, 14, 17, 11, 1, 3, 5, 6, 7, 8, 11, 14, 16, 1, 2, 3, 5, 7, 8, 11, 14, 16, 18, 12, 10, 14, 4, 12, 5, 7, 16, 20, 15, 9, 15, 16, 1, 16, 1, 2, 6, 7, 8, 20, 3, 7, 8, 6, 11, 5, 7, 8, 9, 19, 17, 1, 2, 3, 4, 5, 6, 14, 1, 2, 4, 5, 6, 7, 8, 11, 16, 1, 2, 3, 4, 5, 6, 10, 11, 12, 13, 1, 2, 3, 4, 5, 6, 7, 8, 14, 16, 17, 4, 10, 1, 2, 5, 6, 7, 8, 17, 6, 8, 3, 10, 4, 4, 13, 20, 7, 5, 7, 5, 15, 9, 15, 17, 3, 11, 11, 12, 1, 3, 4, 5, 6, 7, 8, 10, 13, 4, 10, 13, 10, 13, 1, 2, 3, 5, 6, 7, 8, 16, 18, 3, 5, 11, 11, 1, 12, 7, 1, 14, 7, 1, 3, 6, 14, 5, 8, 1, 2, 3, 5, 6, 11, 13, 16, 18, 1, 3, 4, 7, 8, 10, 11, 12, 13, 14, 18, 2, 3, 3, 1, 6, 1, 2, 7, 8, 14, 18, 4, 7, 8, 16, 1, 17, 1, 3, 6, 17, 11, 12, 1, 2, 3, 4, 5, 6, 7, 8, 12, 16, 1, 3, 5, 6, 7, 8, 11, 16, 2, 5, 6, 8, 11, 16, 2, 3, 5, 6, 7, 11, 2, 3, 11, 6, 3, 10, 1, 5, 6, 11, 14, 17, 13, 7, 1, 2, 7, 8, 10, 11, 9, 15, 2, 3, 4, 6, 7, 10, 1, 2, 3, 5, 6, 8, 12, 14, 16, 7, 16, 9, 15, 16, 1, 2, 7, 11, 12, 13, 7, 8, 18, 19, 1, 3, 4, 5, 6, 7, 8, 17, 1, 2, 4, 6, 7, 8, 19, 8, 5, 1, 2, 3, 4, 7, 12, 12, 3, 4, 5, 11, 12, 13, 18, 8, 14, 8, 1, 3, 14, 1, 3, 14, 1, 5, 6, 8, 11, 12, 13, 14, 19, 18, 1, 10, 14, 1, 3, 5, 6, 11, 8, 1, 5, 7, 11, 19, 1, 5, 6, 7, 1, 2, 3, 4, 5, 7, 8, 11, 13, 14, 16, 18, 3, 17, 9, 12, 18, 1, 2, 3, 4, 5, 7, 8, 12, 13, 16, 8, 3, 4, 5, 6, 7, 12, 14, 18, 18, 6, 1, 11, 18, 20, 3, 8, 13, 13, 18, 7, 16, 17, 8, 1, 2, 3, 4, 6, 7, 13, 16, 1, 2, 4, 5, 7, 8, 12, 19, 4, 1, 11, 13, 14, 9, 9, 10, 18, 1, 2, 3, 4, 6, 13, 14, 7, 5, 6, 10, 13, 18, 3, 11, 1, 2, 3, 4, 14, 1, 2, 3, 4, 8, 10, 1, 5, 7, 8, 11, 17, 1, 2, 4, 6, 3, 5, 6, 11, 10, 13, 18, 10, 2, 5, 7, 8, 19, 3, 8, 10, 4, 13, 1, 6, 12, 13, 1, 3, 6, 17, 1, 3, 5, 6, 7, 11, 12, 14, 16, 1, 17, 1, 2, 3, 4, 5, 7, 8, 12, 13, 1, 2, 3, 4, 5, 7, 8, 1, 2, 7, 8, 18, 1, 2, 3, 5, 7, 8, 10, 11, 13, 16, 20, 1, 14, 1, 2, 5, 6, 7, 8, 10, 11, 13, 18, 8, 5, 1, 2, 3, 4, 5, 6, 7, 8, 12, 13, 16, 18, 16, 5, 8, 1, 3, 17, 5, 5, 4, 18, 1, 7, 8, 18, 4, 11, 3, 7, 18, 19, 3, 12, 1, 5, 6, 11, 16, 13, 11, 10, 1, 14, 8, 13, 19, 16, 7, 8, 5, 7, 8, 11, 18, 1, 2, 7, 8, 12, 13, 7, 1, 14, 1, 2, 3, 4, 8, 1, 2, 3, 4, 5, 8, 16, 4, 5, 7, 8, 11, 16, 18, 11, 5, 4, 7, 8, 11, 12, 19, 19, 20, 1, 3, 20, 9, 13, 1, 3, 5, 6, 7, 8, 12, 17, 19, 11, 13, 18, 1, 2, 3, 4, 5, 8, 11, 12, 13, 16, 4, 13, 16, 1, 2, 3, 5, 6, 7, 8, 14, 7, 16, 1, 2, 3, 4, 6, 7, 17, 16, 12, 16, 12, 7, 19, 7, 1, 2, 3, 4, 5, 7, 8, 11, 12, 10, 4, 5, 16, 17, 16, 3, 6, 11, 14, 2, 4, 2, 1, 5, 1, 3, 4, 5, 6, 7, 8, 11, 13, 19, 1, 2, 3, 4, 5, 7, 8, 12, 16, 5, 6, 11, 12, 18, 1, 3, 11, 20, 19, 13, 19, 8, 6, 1, 2, 3, 5, 6, 7, 8, 11, 12, 17, 19, 9, 17, 1, 2, 3, 4, 5, 6, 7, 8, 12, 17, 18, 12, 17, 14, 3, 6, 10, 11, 13, 18, 5, 6, 7, 8, 11, 8, 11, 1, 2, 3, 4, 5, 1, 17, 2, 5, 8, 14, 19, 6, 1, 2, 3, 4, 5, 7, 8, 12, 1, 2, 3, 4, 8, 13, 1, 2, 4, 7, 1, 3, 10, 13, 18, 5, 18, 1, 2, 3, 4, 5, 6, 7, 8, 11, 12, 13, 14, 16, 1, 3, 4, 12, 1, 20, 20, 1, 2, 3, 4, 8, 12, 13, 14, 1, 3, 5, 8, 12, 5, 2, 10, 10, 13, 14, 18, 8, 12, 1, 4, 7, 13, 18, 1, 3, 6, 14, 18, 1, 2, 3, 4, 5, 7, 8, 12, 16, 18, 19, 1, 2, 3, 4, 5, 7, 8, 13, 16, 19, 15, 1, 3, 4, 8, 17, 1, 3, 5, 7, 19, 14, 14, 14, 1, 2, 3, 4, 5, 7, 8, 12, 14, 1, 2, 3, 4, 5, 6, 7, 8, 11, 12, 13, 14, 17, 4, 9, 19, 17, 14, 3, 5, 6, 7, 8, 11, 14, 5, 8, 20, 16, 1, 2, 3, 4, 5, 6, 7, 9, 11, 1, 2, 3, 4, 5, 6, 7, 8, 11, 12, 16, 17, 5, 6, 8, 17, 6, 12, 16, 15, 5, 9, 11, 15, 2, 6, 10, 11, 14, 16, 16, 15, 4, 11, 15, 3, 3, 4, 5, 7, 8, 14, 19, 7, 19, 19, 1, 5, 19, 5, 7, 1, 14, 1, 19, 5, 6, 7, 19, 15, 7, 16, 7, 6, 19, 8, 10, 13, 18, 9, 10, 15, 9, 1, 1, 3, 4, 6, 1, 2, 3, 4, 5, 7, 8, 12, 1, 7, 14, 18, 7, 16, 18, 1, 2, 4, 12, 13, 16, 1, 3, 4, 6, 11, 12, 7, 1, 2, 3, 4, 5, 7, 8, 12, 16, 17, 1, 18, 1, 2, 3, 4, 5, 6, 7, 8, 11, 12, 13, 14, 1, 2, 4, 12, 13, 12, 5, 16, 4, 7, 8, 10, 13, 16, 1, 4, 5, 8, 14, 19, 1, 11, 13, 15, 7, 8, 12, 17, 9, 15, 18, 1, 3, 6, 14, 1, 2, 3, 4, 18, 1, 2, 3, 4, 5, 7, 8, 1, 2, 3, 4, 5, 6, 7, 8, 11, 12, 14, 18, 3, 1, 2, 3, 4, 7, 8, 11, 12, 13, 16, 17, 5, 9, 16, 5, 5, 5, 9, 16, 19, 5, 11, 16, 16, 5, 13, 19, 1, 2, 3, 4, 6, 7, 11, 12, 13, 14, 16, 6, 9, 15], \"Freq\": [0.36234508758116424, 0.5992630294611563, 0.038364108235689386, 0.6616698354331271, 0.33083491771656354, 0.2272416732500149, 0.7635320221200501, 0.9963478809372788, 0.9909225246231907, 0.014130684664940881, 0.01356089899296746, 0.0005697856719734226, 0.020740198459832583, 0.0038745425694192742, 0.2136696269900335, 0.618445368359953, 0.00011395713439468453, 0.036352325871904366, 0.01207945624583656, 0.0663230522177064, 0.06741959264306538, 0.1841553687935582, 0.20912558829098984, 0.051188949969734825, 0.004994043899486324, 0.40326904488352067, 0.01186085426128002, 0.006866810361793696, 0.061801293256143267, 0.1053237705551268, 0.04308699704527915, 0.02074559116994922, 0.004787444116142127, 0.12606936172507602, 0.548960258650964, 0.07659910585827404, 0.028724664696852767, 0.017553961759187803, 0.028724664696852767, 0.9904388201702877, 0.9858070241454667, 0.056781317086377396, 0.1927576290563864, 0.008965471118901695, 0.6888470309689468, 0.011953961491868925, 0.02390792298373785, 0.007471225932418078, 0.01045971630538531, 0.0038205050466997466, 0.012735016822332489, 0.08787161607409416, 0.09805962953196015, 0.16046121196138935, 0.008914511775632742, 0.5297766998090315, 0.0012735016822332489, 0.02419653196243173, 0.05985457906496269, 0.0050940067289329954, 0.006367508411166244, 0.07021406952480586, 0.08684371757015462, 0.7280090366519345, 0.03325929609069751, 0.04619346679263543, 0.003695477343410835, 0.02956381874728668, 0.015552346500215196, 0.16200360937724162, 0.06220938600086078, 0.02592057750035866, 0.483418770381689, 0.028512635250394526, 0.1879241868776003, 0.034992779625484194, 0.007834506881443333, 0.9905055128681929, 0.008062284555143715, 0.05873950175890422, 0.1508798966748324, 0.1934948293234492, 0.02533860860188025, 0.48143356343572474, 0.01497281417383833, 0.03570440302992217, 0.028793873411227557, 0.0606369410626125, 0.07424931558687245, 0.21037306082947194, 0.0395996349796653, 0.47767059694221276, 0.01732484030360357, 0.11756141634588137, 0.10644147938816305, 0.05422490459396986, 0.010041648998883306, 0.06627488339262982, 0.604507269732775, 0.034141606596203244, 0.0040166595995533225, 0.11648312838704636, 0.08743395634928217, 0.1007391236198251, 0.03231254908560428, 0.6291443380785303, 0.013305167270542938, 0.07983100362325762, 0.001900738181506134, 0.05702214544518402, 0.9810796092867982, 0.982946274070597, 0.9587624838060723, 0.03604370239872452, 0.05166764525211133, 0.13778038733896356, 0.7491808561556142, 0.014352123681142036, 0.025833822626055665, 0.017222548417370444, 0.06733803052682312, 0.0841725381585289, 0.7070493205316428, 0.043021519503248104, 0.05424452459105196, 0.043021519503248104, 0.011788010232974096, 0.7662206651433162, 0.09233941349163041, 0.06090471953703283, 0.03339936232675994, 0.020629017907704668, 0.013752678605136445, 0.9984583519169096, 0.9871527159119087, 0.9737280606450556, 0.019128412343212643, 0.07924627970759524, 0.2869261851481897, 0.6121091949828046, 0.013829277279923035, 0.011458544031936229, 0.012380495850597766, 0.05452686470369654, 0.028448798975841672, 0.24418552454264103, 0.5862296492660708, 0.0031609776639824083, 0.0007902444159956021, 0.021336599231881255, 0.0034243924693142754, 0.01896586598389445, 0.0014487814293252703, 0.010069215571665338, 0.005034607785832669, 0.09867831260232031, 0.23461272281980236, 0.2628065264204653, 0.035242254500828685, 0.32322181985045734, 0.02920072515782948, 0.017474518902847132, 0.12232163231992992, 0.08300396478852387, 0.7470356830967149, 0.026211778354270698, 0.9868005250505376, 0.004596305877883201, 0.06741248620895361, 0.06588038424965922, 0.12869656458072964, 0.11643974890637443, 0.4136675290094881, 0.013788917633649605, 0.18998064295250566, 0.9846505720085014, 0.03130375957969034, 0.029922711362939294, 0.9170160159226934, 0.0055241928670041775, 0.013810482167510444, 0.001841397622334726, 0.11163694051406363, 0.2587947257371475, 0.010148812774005785, 0.61400317282735, 0.9831903839237902, 0.9745949291778625, 0.10541726825070388, 0.015059609750100554, 0.8764692874558523, 0.033404521196460715, 0.05845791209380625, 0.13918550498525298, 0.7432505966212508, 0.011134840398820237, 0.013918550498525297, 0.009000822411628097, 0.03900356378372175, 0.11701069135116526, 0.7740707274000164, 0.060005482744187315, 0.997774252705707, 0.9837240143715075, 0.02034156581172159, 0.029253108929237718, 0.0007749167928274893, 0.04881975794813182, 0.006005605144413042, 0.2504918532814859, 0.5071830409055917, 0.003293396369516829, 0.0015498335856549785, 0.09763951589626364, 0.03448379728082327, 0.8861551867357126, 0.04160352989369542, 0.004160352989369543, 0.01664141195747817, 0.04992423587243451, 0.047601705689591045, 0.012693788183890945, 0.8980855140102844, 0.03808136455167283, 0.04256604850076269, 0.008107818762050037, 0.17026419400305076, 0.05067386726281273, 0.6182211806063153, 0.014188682833587563, 0.09323991576357542, 0.9252598612711481, 0.0109175204869752, 0.06004636267836359, 0.008396302468006083, 0.07556672221205474, 0.9123982015233276, 0.0285042862313296, 0.03800571497510614, 0.10451571618154187, 0.04750714371888267, 0.7743664426177875, 0.004750714371888267, 0.062407721984921824, 0.9361158297738273, 0.02507364558291422, 0.9707082789956791, 0.03805373500630864, 0.9551487486583469, 0.043968988031294655, 0.9497301414759646, 0.0049906156508366445, 0.0009073846637884808, 0.05580415682299157, 0.028809463075284265, 0.42125333016380223, 0.4545997165580289, 0.005671154148678005, 0.005671154148678005, 0.02200407809687066, 0.9945651092673891, 0.0005220821415268533, 0.029497640996267206, 0.004698739273741679, 0.08170585514895252, 0.021927449944127837, 0.47927140592165124, 0.3500560758937551, 0.002610410707634266, 0.0070481089106125185, 0.0007831232122902798, 0.02166640887336441, 0.05088932622069092, 0.018505209534796698, 0.8096029171473555, 0.11565755959247936, 0.9936811775155445, 0.9959117474479515, 0.9804681717438541, 0.07216158442771185, 0.04222555595333357, 0.02520928713631855, 0.5212020115433861, 0.30660795479547437, 0.0037813930704477827, 0.002520928713631855, 0.002836044802835837, 0.0012604643568159275, 0.022058126244278733, 0.9908125022897012, 0.005360823642799022, 0.012427363899215916, 0.01876288274979658, 0.29679469076950954, 0.24001869491622896, 0.002436738019454101, 0.003898780831126562, 0.41253974669357935, 0.0075538878603077135, 0.99793615627243, 0.007133033957004224, 0.028532135828016895, 0.05842294479070126, 0.04653455486236088, 0.6076665594800265, 0.22927609147513575, 0.005774360822336753, 0.016643745899676522, 0.9816874783783686, 0.0011114749859368125, 0.015560649803115376, 0.5620358512220482, 0.2163671305956995, 0.011485241521347063, 0.1848753393274898, 0.008521308225515563, 0.986758330311064, 0.9862271466110057, 0.998696169649729, 0.9782450550007801, 0.9845006363015848, 0.9739015512240522, 0.9731397499615931, 0.047881012605386186, 0.06964510924419809, 0.25681634033798045, 0.6224531638700205, 0.9902127636226042, 0.005164417443949754, 0.9915681492383528, 0.9859717451235678, 0.9453419751037467, 0.02479585508468844, 0.027895336970274496, 0.9838531940002591, 0.06660487751151428, 0.11259395960279796, 0.18871381961595712, 0.6073730496883326, 0.023787456254112244, 0.35445030736150474, 0.0782835034663446, 0.12394888048837896, 0.4414319778796654, 0.03706478448955116, 0.10192815734626569, 0.05250844469353081, 0.05868590877512267, 0.747473153872615, 0.18170719260103857, 0.0635975174103635, 0.7041153713290245, 0.04088411833523368, 0.006814019722538946, 0.1516193183446373, 0.23023674267148625, 0.2208775254897185, 0.3781123741434164, 0.018718434363535468, 0.0794627120151244, 0.3405544800648189, 0.1589254240302488, 0.4086653760777827, 0.40248396043815704, 0.5952227583944576, 0.9710877350252303, 0.2114326456292462, 0.04974885779511676, 0.7275770452535826, 0.10488701233457687, 0.20327205653095812, 0.1420166724921677, 0.07066612739670514, 0.1676823361955715, 0.08213012385089216, 0.08332785482371767, 0.06433526368319886, 0.028916647772501615, 0.02600787255278252, 0.013859458399838053, 0.010779578755429597, 0.002053253096272304, 0.995867686271044, 0.5737763405328083, 0.32750572045315285, 0.013681701115536413, 0.04104510334660924, 0.04275531598605129, 0.994715304360174, 0.9904532988033027, 0.9865841033161182, 0.9732819805262668, 0.99102100882918, 0.9897712377733722, 0.9989678302408515, 0.9827191942428023, 0.009306871158767828, 0.9880794880225178, 0.01582292907323028, 0.8766576022700351, 0.04544883882736357, 0.011109716157799984, 0.014812954877066645, 0.03602241299650298, 0.12886069085365862, 0.6208221728238486, 0.11855183558536592, 0.10881569449864505, 0.006299855997289976, 0.014890568720867216, 0.0011454283631436321, 0.7100278116519505, 0.04868762137041946, 0.22450403187471196, 0.014876773196517057, 0.10449891439899014, 0.8911435200136104, 0.10177117586563787, 0.19993983223160716, 0.1314919617379038, 0.1900329036075185, 0.01621133774850869, 0.013509448123757239, 0.05043527299536036, 0.04052834437127172, 0.002701889624751448, 0.253076994851719, 0.19849795255008873, 0.745708524444928, 0.012517888899555145, 0.04291847622704621, 0.013841473071038826, 0.8065803853214443, 0.061657470952809317, 0.034603682677597065, 0.08179052269250216, 0.0012583157337308023, 0.8934984326699423, 0.06019606349559717, 0.044851968879072404, 0.03391769197291504, 0.6368988826025157, 0.007537264882870008, 0.17586951393363354, 0.030149059531480032, 0.048992221738655056, 0.04522358929722005, 0.01884316220717502, 0.9873823974260931, 0.9980035800715765, 0.0040140071835852165, 0.8349134941857249, 0.15855328375161604, 0.02952736783260987, 0.9645606825319223, 0.9963580827756363, 0.1544465691917064, 0.7256074665799037, 0.048568103519404535, 0.05342491387134499, 0.017484517266985633, 0.9972788785758347, 0.9991933316337793, 0.4259225587991961, 0.008575621989245559, 0.014292703315409265, 0.5459812666486339, 0.08524024115691956, 0.2777364148953935, 0.03048326504949441, 0.3714442296771726, 0.03217677977446632, 0.12193306019797764, 0.011854603074803382, 0.027096235599550586, 0.04064435339932588, 0.9931424849027458, 0.028990901466245868, 0.17394540879747522, 0.2383696342780216, 0.028990901466245868, 0.5282786489404803, 0.20493394026492123, 0.4221551403315936, 0.13384336569764663, 0.034667625869226504, 0.02501335031070773, 0.1790429285398027, 0.9909245090477393, 0.9947089033765751, 0.990461432000489, 0.9833122838774079, 0.9858027852135464, 0.9948219636937943, 0.9937114279556938, 0.9643156441115563, 0.9902405461830965, 0.9955888742033654, 0.9987008645881924, 0.9913285286265369, 0.9960103630984405, 0.6829254140558964, 0.1639473262220281, 0.1526406140687848, 0.9761410305298717, 0.9954347371178729, 0.9928993524486297, 0.051448584378923454, 0.12576320625959067, 0.8117443313119035, 0.08278341801747705, 0.9106175981922475, 0.0047594701631766875, 0.02379735081588344, 0.009951619432096711, 0.6182984421072261, 0.14797625416422067, 0.09475672415779042, 0.03158557471926347, 0.02725878366183012, 0.006490186586150029, 0.006490186586150029, 0.021201276181423426, 0.007355544797636699, 0.9742455215799738, 0.6639775487408732, 0.12154780263835657, 0.17415804557137657, 0.03809707246873863, 0.13435430756403186, 0.1797834619202153, 0.13145457430725419, 0.4968209646612401, 0.002899733256777666, 0.05316177637425721, 0.001933155504518444, 0.11617354016052245, 0.8765821666657603, 0.9939607685654297, 0.9946670778009328, 0.9959215576955079, 0.026453384864635315, 0.0061046272764543035, 0.004069751517636202, 0.005765481316651286, 0.9095894641916912, 0.004069751517636202, 0.006782919196060337, 0.03561032577931677, 0.0013565838392120674, 0.9953230917401898, 0.9990231127345953, 0.9870058662833859, 0.11577195680824161, 0.22614122229876527, 0.030100708770142818, 0.46540326636913126, 0.007332223931188635, 0.02662755006589557, 0.030872521815531094, 0.01466444786237727, 0.0698490806076391, 0.005402691317717942, 0.0019295326134706934, 0.005402691317717942, 0.09986572952238246, 0.8987915657014421, 0.9891994899582259, 0.9054958911378889, 0.0936719887384023, 0.040018627575409596, 0.18675359535191147, 0.03334885631284133, 0.7403446101450776, 0.9971514381187555, 0.07772771646986168, 0.9171870543443679, 0.9835720083173087, 0.9657240647550762, 0.017367307093314504, 0.9812528507722695, 0.9964266966879316, 0.9963819822329232, 0.9686870482659158, 0.9925728062905812, 0.9959402470066826, 0.9866949828243198, 0.9742194821835011, 0.9993758194337541, 0.19478541787126738, 0.19781840880697915, 0.530099415763847, 0.07683577037136499, 0.00033699899285686397, 0.042572890530262114, 0.3011405933096482, 0.09516293177352708, 0.1289708154299117, 0.014399654149941597, 0.015025726069504275, 0.2748455726880157, 0.006260719195626782, 0.10643222632565529, 0.009391078793440172, 0.005008575356501425, 0.022574383077400468, 0.4436128767535673, 0.06877312053812701, 0.37221482795062627, 0.0015749569588884046, 0.08242274751515984, 0.005249856529628016, 0.002624928264814008, 0.9948777114200966, 0.9994396580021985, 0.9970975459248308, 0.998828320836606, 0.9879274827539986, 0.9803987159855094, 0.014417628176257491, 0.9895501997192077, 0.9972418403744355, 0.009918520346881926, 0.29321625775469695, 0.029755561040645778, 0.07252918003657409, 0.12274168929266384, 0.22936578302164454, 0.020456948215443974, 0.013637965476962648, 0.1122032614241018, 0.09546575833873854, 0.9947560755880925, 0.9961312978175103, 0.18861922575430232, 0.13817454909908192, 0.11404883417702, 0.024125714922061923, 0.07018389795508923, 0.048251429844123846, 0.010966234055482691, 0.4035574132417631, 0.09362798885246497, 0.04213259498360924, 0.037451195540985985, 0.039791895262297615, 0.1451233827213207, 0.5149539386885573, 0.12405708522951608, 0.9941522484049921, 0.9925776043876356, 0.03318780512206345, 0.96244634853984, 0.018101179095282575, 0.02051466964132025, 0.12670825366697802, 0.43684178883281943, 0.04344282982867818, 0.018101179095282575, 0.3342684406262182, 0.9848926263484252, 0.9549740763443404, 0.0331588220952896, 0.1515685585152279, 0.4283916896923456, 0.0894675519013498, 0.11630781747175475, 0.11315013916935418, 0.022103748116804073, 0.02736654528747171, 0.05104913255547607, 0.06753902999850214, 0.15349779545114123, 0.6876701236211127, 0.04911929454436519, 0.03990942681729672, 0.029212315015197016, 0.18462183089604514, 0.042065733621883705, 0.4416902030297789, 0.18579032349665303, 0.0023369852012157613, 0.0666040782346492, 0.04089724102127582, 0.005842463003039404, 0.09135791879464666, 0.08770360204286079, 0.8112583188964624, 0.007308633503571733, 0.9972331714715292, 0.170335204090295, 0.020772585864670123, 0.7478130911281244, 0.06231775759401037, 0.9814247902787404, 0.9918637947374551, 0.1197478527105488, 0.3871847237641078, 0.03792015335834045, 0.025945368087285575, 0.4290964722127999, 0.3089953565044991, 0.16624311578019835, 0.15630466864116474, 0.10932291852936957, 0.004517475972287998, 0.02981534141710079, 0.0009034951944575997, 0.09306000502913277, 0.017166408694694393, 0.10119146177925117, 0.010841942333491197, 0.9944980671971536, 0.9814752405866655, 0.9885645867897368, 0.11237412540489106, 0.01231497264711135, 0.018472458970667023, 0.7921606155254375, 0.003386617477955621, 0.06095911460320118, 0.07069560456551491, 0.688777175909731, 0.1636098277087631, 0.010099372080787844, 0.06463598131704221, 0.9769205973505345, 0.0182601980813184, 0.9967500733323494, 0.9890639255209356, 0.989996136135284, 0.10337056803590387, 0.07170751116004143, 0.15179641972839938, 0.5112652419073084, 0.04004445428417898, 0.06705117926653224, 0.01396899568052755, 0.04004445428417898, 0.9827150135010736, 0.9953239072984394, 0.9868625835148513, 0.9689706814544656, 0.9996296257201459, 0.32956513065418114, 0.03959654989375559, 0.6304989098467236, 0.9953342721564978, 0.4734387118274686, 0.19233447667990913, 0.32548911438138467, 0.9029519239772188, 0.042707185593517105, 0.04880821210687669, 0.9942563554161503, 0.9960276095829799, 0.15941234855851794, 0.07246015843568998, 0.1870162184387808, 0.09868383482193968, 0.020012805663190563, 0.296051504465819, 0.07315025518269655, 0.09316306084588712, 0.9763215485627099, 0.07061623340627485, 0.8269532596261134, 0.024158185112672977, 0.057607979884066324, 0.018583219317440752, 0.058091262798338136, 0.04647301023867051, 0.4914520832739407, 0.0034854757679002885, 0.2776762361760563, 0.10107879726910836, 0.02091285460740173, 0.9918061770902051, 0.9869069089424867, 0.9518420118681455, 0.9936604943746582, 0.9922621691442413, 0.9838671777824456, 0.9953006485577316, 0.10630171289585567, 0.11880779676595635, 0.5940389838297817, 0.1813382161164597, 0.45665153811180886, 0.542476117969702, 0.9790462193262607, 0.9737090456057895, 0.9986827214416613, 0.9868239330746933, 0.0010064497022689376, 0.011070946724958314, 0.15639614385977166, 0.045998865841109314, 0.7911804924670801, 0.9736413441023868, 0.9944926266633736, 0.9222674781205712, 0.9994372083776728, 0.9935072480316305, 0.9469992853104179, 0.9952246908187494, 0.96760461045692, 0.7045302405445643, 0.005504142504254408, 0.28621541022122926, 0.9987363345287811, 0.9925119162336012, 0.0049749970738526385, 0.36758299530493704, 0.12273019016792938, 0.4575041247349051, 0.022480282357492016, 0.012759079175873848, 0.004860601590809085, 0.00546817678966022, 0.006683327187362491, 0.9981535758145105, 0.9966887562273588, 0.9982276159247998, 0.9807486977907518, 0.018078317009967777, 0.9934359381867933, 0.9912467235663746, 0.9368867915493332, 0.02609454017998582, 0.8480725558495392, 0.036839350842332926, 0.007674864758819359, 0.026862026655867757, 0.05372405331173551, 0.9833020930919414, 0.018529651280716857, 0.47290892616438235, 0.2747222211619325, 0.23282909652726833, 0.9890052307986997, 0.007787442762194486, 0.9844164708391346, 0.9752781364113224, 0.1605405844124925, 0.23391264838226447, 0.20255706548919952, 0.2699715687092892, 0.012542233157225977, 0.06741450322008963, 0.04170292524777637, 0.002194890802514546, 0.005016893262890391, 0.003762669947167793, 0.9751475814779704, 0.01950295162955941, 0.9920634622277713, 0.9858573880804203, 0.009054644424243481, 0.8647185425152525, 0.12450136083334788, 0.021607538073090075, 0.414563230472077, 0.0874351540632017, 0.11406770099049876, 0.3432081047423377, 0.01658252921888308, 0.002512504427103497, 0.1542622349529619, 0.06813248710422484, 0.14397808595609776, 0.5000667449725181, 0.10412700859324928, 0.0038565558738240476, 0.0244248538675523, 0.9870302448331416, 0.056195046374425676, 0.020434562317972974, 0.7424557642196846, 0.15666497777112612, 0.025543202897466217, 0.03762700784260852, 0.01140212358866925, 0.0592910426610801, 0.17901334034210722, 0.0273650966128062, 0.0228042471773385, 0.5507225693327248, 0.11174081116895865, 0.03796471864635866, 0.9586091458205562, 0.9784476445839839, 0.018771177833745496, 0.9955825754223641, 0.9963995331899178, 0.30775879134374334, 0.026181727032453285, 0.09879896993378598, 0.11263082572451602, 0.4277995398132933, 0.004939948496689299, 0.018277809437750404, 0.0034579639476825094, 0.21169424362373276, 0.006123387212256733, 0.48112328096302903, 0.0026243088052528857, 0.1303406706608933, 0.012246774424513466, 0.15658375871342217, 0.9708110156314812, 0.9760605676448465, 0.9922666376275949, 0.9710589224513035, 0.0027414176442947134, 0.30795258204243947, 0.11605334694180952, 0.4084712289999123, 0.025586564680083992, 0.1297604351632831, 0.005482835288589427, 0.0027414176442947134, 0.15274931522391055, 0.5719974357320906, 0.05524975231503147, 0.19153247469210913, 0.0017333255628245168, 0.009099959204828714, 0.005199976688473551, 0.012349944635124684, 0.957398076291972, 0.03960980941268502, 0.0019321858250090252, 0.9820026337221063, 0.016967648098870088, 0.1945844705889937, 0.04980435854361148, 0.06717797198905735, 0.042854913165433134, 0.16447020728355422, 0.05675380392178983, 0.0011582408963630578, 0.0521208403363376, 0.16331196638719114, 0.008107686274541405, 0.034747226890891734, 0.1667866890762803, 0.9878824547271812, 0.01619858674517219, 0.9580307017858979, 0.02314083820738884, 0.9820337608706942, 0.9859331566983265, 0.9830504564176579, 0.015763199738475564, 0.998209406151959, 0.09533934423830405, 0.8898338795575045, 0.9793501556536031, 0.9888207743179881, 0.9905797231668857, 0.9863991008440547, 0.9895637622615655, 0.36725419253657465, 0.6286893804439667, 0.037372951563740826, 0.07059335295373267, 0.8886457371822819, 0.9883254067805314, 0.3756168449354281, 0.6224507716072808, 0.46839782770993665, 0.13773723852814107, 0.001368250713855706, 0.2932617363364063, 0.0994262185401813, 0.9974549590945382, 0.24942470786251383, 0.7482741235875415, 0.9949623556596209, 0.1830957530717853, 0.1472273367524834, 0.13429802389320014, 0.3816232666530377, 0.0025024476501838535, 0.11386136808336535, 0.0004170746083639756, 0.022939103460018657, 0.007507342950551561, 0.005839044517095659, 0.03704069156441877, 0.9616861032095392, 0.0792875622094818, 0.020282864751262786, 0.02212676154683213, 0.09219483977846721, 0.7855000349125406, 0.21722116709703704, 0.021722116709703705, 0.13304796484693518, 0.6245108554039815, 0.966625963085471, 0.9913539670105165, 0.375494292043671, 0.19927547954949207, 0.04117261974163059, 0.38208191120233187, 0.988978650468535, 0.9825239989852267, 0.9535248135869823, 0.16783117811238757, 0.2321874945314234, 0.02776154825919193, 0.25868715423337935, 0.008833219900651976, 0.021452105473011945, 0.28266303682086324, 0.978271177713028, 0.9869497603485841, 0.10734533098059153, 0.008386353982858714, 0.005031812389715228, 0.12076349735316547, 0.10147488319259043, 0.2566224318754766, 0.10482942478573391, 0.19204750620746452, 0.10315215398916218, 0.9811603907151382, 0.9955419163021941, 0.9931153209875272, 0.01804649379283247, 0.010527121379152274, 0.029325552413352766, 0.2872400262025835, 0.4353716627520834, 0.07068210068859385, 0.14737969930813186, 0.07973566725280283, 0.06783482139417554, 0.022611607131391848, 0.816398025901832, 0.013090930444490018, 0.9948729610288946, 0.9872663641959885, 0.9879879632854315, 0.981888564835997, 0.9901858080112486, 0.9903730317774118, 0.9987598354975955, 0.9366878562200789, 0.9973984532617669, 0.03630620692283281, 0.04698450307660717, 0.9161978099938398, 0.9857727083351667, 0.010158980836132715, 0.8431954093990153, 0.0648611853383858, 0.003125840257271604, 0.013284821093404318, 0.06564264540270369, 0.07723145485710568, 0.06564673662853983, 0.11970875502851382, 0.7298372483996487, 0.9949815642768651, 0.13120261235523173, 0.03777044901135459, 0.04969795922546656, 0.26240522471046346, 0.5148708575758336, 0.003975836738037325, 0.9847670062114565, 0.9860702009072548, 0.1783698985939172, 0.820501533532019, 0.009336341993938086, 0.9873181658589526, 0.9890232782838629, 0.006123983147268502, 0.9977574827136927, 0.9960809843015993, 0.9876700642542818, 0.2621354146270971, 0.7326348767782971, 0.14369280576287907, 0.8102677658295682, 0.04390613509421305, 0.005747395961665353, 0.9885521054064408, 0.9856997410386787, 0.980089405829202, 0.01618293651667428, 0.01618293651667428, 0.0052594543679191415, 0.8342303774345593, 0.12177659728797398, 0.006068601193752856, 0.050960982618073004, 0.42807225399181326, 0.011041546233915818, 0.11721026002156791, 0.39155021644886095, 0.25069530270939466, 0.7484526428715261, 0.9863302441076689, 0.9904182432709829, 0.946856036343894, 0.05236848729109851, 0.9719551970034314, 0.03150458304161319, 0.3126224009513924, 0.6555376702120282, 0.03247990070805262, 0.01948794042483157, 0.04547186099127367, 0.8964452595422523, 0.9963809720968183, 0.9890196668269472, 0.12575771588713427, 0.029474464661047098, 0.007859857242945892, 0.835109832063001, 0.9889206157424058, 0.18445627446386217, 0.1106737646783173, 0.06775944776223508, 0.07528827529137232, 0.05044314444521945, 0.39225191426804973, 0.03990278590442733, 0.006023062023309785, 0.04743161343356456, 0.025598013599066587, 0.9832399681693106, 0.9897883954807165, 0.9822898880291386, 0.9866005028929834, 0.012436140792768698, 0.03852117709158228, 0.17859818469733602, 0.780929317402077, 0.06536695250100835, 0.6433484272467664, 0.1066513435542768, 0.09288987986985399, 0.0017201829605528515, 0.08944951394874828, 0.9986250957238668, 0.9908259529979714, 0.02293847082480496, 0.14746159815946044, 0.7602464616221073, 0.06881541247441487, 0.04100313836308635, 0.06719958787283596, 0.10136886984207458, 0.04328109049436892, 0.002277952131282575, 0.2175444285374859, 0.527345918391916, 0.12268429564686674, 0.050631614076484685, 0.8237374136289624, 0.980638038431488, 0.16748969075455392, 0.04785419735844398, 0.28082857923507915, 0.0012593209831169468, 0.2757912953026113, 0.22415913499481652, 0.9834856937974802, 0.994760486188779, 0.980898696944142, 0.9968165369862844, 0.9686712770089991, 0.027286514845323916, 0.9956994136108904, 0.19908150391582982, 0.2880975649023983, 0.18386508323436512, 0.2558894744599647, 0.007354603329374604, 0.003296891147650685, 0.027389557226636458, 0.023839059067628027, 0.007354603329374604, 0.0040577121817239195, 0.2628465952837594, 0.677637734020589, 0.013098667539057777, 0.04628195863800415, 0.06172009862596394, 0.08155870175573807, 0.06172009862596394, 0.06612867709924708, 0.6524696140459045, 0.002204289236641569, 0.07274154480917179, 0.10565984644531423, 0.0905655826674122, 0.6037705511160814, 0.07953515913740687, 0.06153815232529291, 0.02438304148738021, 0.014513715171059647, 0.010449874923162947, 0.009869326316320561, 0.08624622690149383, 0.024641779114712523, 0.20329467769637832, 0.6838093704332725, 0.04762603230461466, 0.1746287851169204, 0.7673082982410139, 0.9893317661395431, 0.08792484208407753, 0.08996960585347467, 0.6993092091338259, 0.07156673192890031, 0.05111909423492879, 0.988830959851781, 0.8649391664157541, 0.13465091633839701, 0.2454641832043101, 0.06883387148057372, 0.651973650627321, 0.007792513752517781, 0.025975045841725938, 0.9980902165268472, 0.01995426507619114, 0.23400910862078697, 0.7437498801125788, 0.9658088675920717, 0.03260769488654904, 0.9844341313709585, 0.9446497259042551, 0.051903831093640385, 0.9571239502230088, 0.9731778895666353, 0.9921041801966026, 0.8844599938569156, 0.031099155902141903, 0.0059710379332112455, 0.0783698728733976, 0.9933416315884327, 0.12907221101231586, 0.1246968818254577, 0.09406957751745054, 0.19251448422175926, 0.009844490670430871, 0.022970478231005367, 0.05906694402258523, 0.02515814282443445, 0.024064310527719908, 0.03172113660472169, 0.21986029163962278, 0.042659459571867106, 0.021876645934290825, 0.852356533524544, 0.021124077658600842, 0.010562038829300421, 0.100339368878354, 0.014786854361020589, 0.9989736336613597, 0.16602501841862047, 0.11414220016280158, 0.10403870397614211, 0.2733405319688143, 0.06608232641004301, 0.01747631772827584, 0.01228803590269395, 0.02757981391493531, 0.026760611521422378, 0.06144017951346974, 0.016110980405754288, 0.05925563979743527, 0.02812594884394393, 0.01037656365116378, 0.009011226328642229, 0.00709975407711206, 0.9840260724937828, 0.9015812466755726, 0.09632278276448425, 0.9972985077312273, 0.9789567311196037, 0.028479950755703188, 0.9611983380049826, 0.16323211662193385, 0.8161605831096692, 0.012181501240442824, 0.00487260049617713, 0.1792064341837297, 0.011659213790266751, 0.25563905791992286, 0.003454581863782741, 0.1792064341837297, 0.08118267379889442, 0.07643262373619314, 0.0729780418724104, 0.022454782114587818, 0.01295468198918528, 0.026773009444316244, 0.023318427580533502, 0.047068677894039845, 0.006909163727565482, 0.986892247926508, 0.010948091498392322, 0.027707761024814346, 0.09235920341604782, 0.8150699701466221, 0.02539878093941315, 0.039252661451820325, 0.7230942808622668, 0.04875826575788822, 0.12879541898310096, 0.012879541898310096, 0.041398527530282454, 0.01563944373366226, 0.028518985631972357, 0.9954534974804545, 0.843303868472557, 0.02141724110406494, 0.12939583167039234, 0.005354310276016235, 0.9858486533516136, 0.9859579071667397, 0.9916478846571037, 0.974323524047666, 0.9833793696836931, 0.1474244831200183, 0.2718138907525337, 0.12438940763251542, 0.4560944946525566, 0.082037486187708, 0.20418218784496214, 0.0601608232043192, 0.5542087955791829, 0.03463804972369893, 0.06380693370155066, 0.9993542852630992, 0.9842935449644944, 0.5487671590110658, 0.022419456821250596, 0.4285173451516307, 0.00170244165405486, 0.0029792728945960047, 0.9933747051410108, 0.001276831240541145, 0.9938588860789088, 0.9870055128911888, 0.9927726489855074, 0.9649406685586147, 0.9948208068613152, 0.9757952262420589, 0.32670047976112915, 0.6705957216149493, 0.13385520734403142, 0.8620275352955623, 0.9920691224364238, 0.9968402214964457, 0.9801917586818784, 0.030853958540307088, 0.6135789318120732, 0.0006481924063089724, 0.19860615329306916, 0.08737633637044948, 0.00038891544378538343, 0.025927696252358898, 0.026186973214882486, 0.013352763569964832, 0.0023334926627123008, 0.0006481924063089724, 0.07415765300968853, 0.9146110537861585, 0.9628508530276217, 0.03566114270472673, 0.9977472561993065, 0.9831275684075863, 0.05714160531729863, 0.09869913645715218, 0.8415400055820343, 0.9294286708119424, 0.06094614234832409, 0.14002529616160284, 0.4814539900712466, 0.020181952047066087, 0.33789165076737443, 0.003953165864889233, 0.00020806136130995965, 0.004369288587509152, 0.01165143623335774, 0.12819465798930083, 0.052987125302244344, 0.023929669491336153, 0.0923001537522966, 0.07520753268705649, 0.618752882561692, 0.008546310532620055, 0.9872051380630704, 0.9904560944885303, 0.9998156319396893, 0.02574406926771371, 0.46707097099994876, 0.10886063576061797, 0.2594021455737248, 0.0004903632241469279, 0.002206634508661175, 0.11915826346770346, 0.013975351888187442, 0.003677724181101959, 0.9921782040122576, 0.8681177423624397, 0.012561189198170349, 0.050244756792681394, 0.06931915520471785, 0.989646894225558, 0.7879273435232257, 0.029446888263042408, 0.18203530926244396, 0.9583870922601504, 0.027124162988494824, 0.019223854408088367, 0.8106058608743929, 0.035243733081495345, 0.022427830142769764, 0.11213915071384882, 0.9957956066702496, 0.1818447442018717, 0.8169025431837929, 0.07020884940787447, 0.023402949802624827, 0.13261671554820734, 0.03900491633770804, 0.2847358892652687, 0.07800983267541609, 0.3705467052082264, 0.9931698658816539, 0.24069188576216663, 0.07587026833807427, 0.007848648448766303, 0.027470269570682063, 0.04709189069259782, 0.5991134982558278, 0.9770819858847191, 0.015156667860303367, 0.7616225599802442, 0.02147194613542977, 0.1957736265289185, 0.003789166965075842, 0.999543837695313, 0.004770179238495019, 0.24208659635362223, 0.7012163480587679, 0.0035776344288712646, 0.008347813667366283, 0.03935397871758391, 0.9996315987025431, 0.992025283840335, 0.9854822305462615, 0.9943976702176741, 0.9898431336052094, 0.044981130718469216, 0.21900648890795665, 0.05972904242944273, 0.15264088620857585, 0.008111351441035431, 0.49995420700200205, 0.014747911710973512, 0.9892086906597386, 0.9832225960684271, 0.9943113691563229, 0.8814735733881675, 0.11234467111809977, 0.982566969213308, 0.9982559786368045, 0.04256562609727061, 0.9534700245788617, 0.9865632447126577, 0.007201191567245676, 0.991288427589134, 0.041315860543401965, 0.5780359180698387, 0.01776195873828496, 0.04710780361023402, 0.1583131104934094, 0.04401876730792359, 0.08919592322921359, 0.018534217813862563, 0.0050196839912544445, 0.9901567245315512, 0.963707154101396, 0.9677085291529242, 0.17473737213360602, 0.2881430838494563, 0.08679008549682418, 0.07174647067737466, 0.03355883305877202, 0.01620081595940718, 0.3298023248879319, 0.9917456307559852, 0.002684020651572355, 0.00536804130314471, 0.9889463289575376, 0.9850223836969798, 0.9710161763307756, 0.9986218565762267, 0.9970923475030233, 0.9991089284122124, 0.9904828730607353, 0.10488528063156524, 0.8784142252893589, 0.9873205395752277, 0.01424973441443316, 0.9761068073886714, 0.30806200329909156, 0.05738409865375235, 0.6070633594423275, 0.02416172574894836, 0.9920954604276924, 0.8340416563975592, 0.014706024168218928, 0.05672323607741587, 0.07773184203201433, 0.015756454465948852, 0.1933043964941718, 0.7989915055092435, 0.9906154586976396, 0.9836522708227757, 0.9871607885182897, 0.22944358876154436, 0.5502041911104593, 0.0245558355865198, 0.11587284917389029, 0.02071898627612608, 0.05755273965590577, 0.0015347397241574875, 0.9913377485577598, 0.9840778291523015, 0.9728366480705988, 0.9935218812940703, 0.9983100880406985, 0.9910768897530055, 0.9884044025873654, 0.9492695165024502, 0.018255183009662505, 0.030425305016104173, 0.014287912262795573, 0.9307554274049687, 0.025173940653496964, 0.029256201300009985, 0.09489620367195195, 0.07866395830701281, 0.3711565334406279, 0.1395348784255346, 0.19197751729687648, 0.046823784706555245, 0.02185109952972578, 0.01467145254138731, 0.01092554976486289, 0.02528484374153983, 0.004058061341234788, 0.10630951683536544, 0.11263746426604195, 0.6758247855962517, 0.08352890608492998, 0.01392148434748833, 0.007593536916811816, 0.9974692305932682, 0.9804647995734245, 0.09599017503398832, 0.15812335034668618, 0.015626307563672517, 0.36982261234024955, 0.3184790303453256, 0.01748658227363353, 0.008929318607812866, 0.003348494477929825, 0.011533703201758286, 0.9920589751298701, 0.04240476387369673, 0.9470397265125603, 0.23982566937188407, 0.020772302071580512, 0.37012465509361636, 0.1699551987674769, 0.19828106522872305, 0.16202964053062469, 0.015711965142363605, 0.6736505054788396, 0.1472996732096588, 0.03681717270457955, 0.02531180623439844, 0.1288601044660284, 0.7271391609154462, 0.05062361246879688, 0.029913952822470884, 0.9931397104153235, 0.994281986347864, 0.9894490703504948, 0.9934152592003563, 0.989331757610295, 0.9908307696704874, 0.034188894291882564, 0.8367282024065995, 0.127758499722298, 0.031998604947511604, 0.9663578694148506, 0.9635635349539264, 0.9939044496549533, 0.982258745300159, 0.977297863177513, 0.9878190723679406, 0.018571484921670704, 0.3033342537206215, 0.043333464817231646, 0.631430487336804, 0.985366164938587, 0.9908349707435159, 0.9982351938299444, 0.9881299422496758, 0.010105874409371685, 0.47169813357216706, 0.20433886757984565, 0.07893464043582822, 0.15214015374324957, 0.02164336915175935, 0.00891197553307738, 0.017187381385220662, 0.0458330170272551, 0.994651148400923, 0.004810673065463617, 0.9947402860919768, 0.9770839039901198, 0.9714357318211775, 0.9991079580934364, 0.3668891384853304, 0.1638534016536427, 0.46840700690117426, 0.2933860981848751, 0.30711176359703296, 0.39804429695257904, 0.05149085283871406, 0.3812514210185637, 0.007668850422787201, 0.11174610616061349, 0.06682855368428846, 0.03286650181194514, 0.007668850422787201, 0.010955500603981715, 0.19391236069047635, 0.020815451147565257, 0.11503275634180801, 0.9980956972699225, 0.9911620061701735, 0.9967445829368874, 0.9919497210070738, 0.9905984040916678, 0.9994565258866689, 0.9841383213981937, 0.9830976327786716, 0.024951533827789814, 0.9747024703791936, 0.984012608252722, 0.9846058701323744, 0.6434429846921831, 0.029345008200644614, 0.13527333048589835, 0.19181615116518919, 0.9896667159532416, 0.982293933919653, 0.9969714073008517, 0.9941781594927501, 0.05057411803118548, 0.7490638543792988, 0.10547463553996499, 0.07295204636356843, 0.00790686801077531, 0.012382453677251902, 0.0017902342665906364, 0.9978571591209421, 0.9460721106017477, 0.9932225204681254, 0.9888030855434314, 0.005189569295957658, 0.989792398447197, 0.004717790269052417, 0.03513276159579668, 0.10305610068100361, 0.016395288744705118, 0.7565254663628219, 0.04918586623411536, 0.03981712980856957, 0.9782775461070046, 0.9944282713481112, 0.9840696351905274, 0.14826539096836877, 0.17848508849058406, 0.031164063069784517, 0.37632967070633727, 0.022664773141661466, 0.026442235331938378, 0.0009443655475692278, 0.017470762630030716, 0.011804569344615348, 0.14354356323052264, 0.01841512817759994, 0.003305279416492297, 0.020776042046523013, 0.9922060526572392, 0.026672075106476158, 0.028339079800630915, 0.9418576521974392, 0.983647535893605, 0.7287110657209405, 0.20298358376627867, 0.006596966472404057, 0.0608950751298836, 0.9912562231189843, 0.9852638852727031, 0.9972674549261296, 0.9574204704445926, 0.04047917430188535, 0.15329994752004422, 0.011015565091260662, 0.0266209489705466, 0.5627117834118989, 0.007343710060840441, 0.04865207915306792, 0.034882622788992096, 0.061503571759538696, 0.03855447781941232, 0.02845687648575671, 0.0266209489705466, 0.9883609385288671, 0.9933351356810747, 0.914273082122501, 0.03721819626339385, 0.04692729094080094, 0.9720155724712113, 0.9594068778900114, 0.2020221149618815, 0.7912532836007025, 0.9958742132604548, 0.8620492780013524, 0.07339428837472815, 0.01868218249538535, 0.04403657302483689, 0.9795026278938613, 0.17832408523738555, 0.040600572978154746, 0.6058242360073679, 0.09155031161740776, 0.007960896662383284, 0.048561469640538035, 0.026270958985864838, 0.04360167612372479, 0.050013687318390204, 0.10387458135357966, 0.11285139702611123, 0.0359072626901263, 0.025648044778661644, 0.22570279405222246, 0.4026743030249878, 0.9826482559434951, 0.07399980059449202, 0.6079024471572391, 0.060855963899200366, 0.1731043292769911, 0.03141376970174706, 0.0013143836695291655, 0.03141376970174706, 0.008674932218892492, 0.00841205548498666, 0.0028916440729641643, 0.059112448043812216, 0.12696325797236188, 0.01439259604544993, 0.21897306840577396, 0.2467302179219988, 0.15420638620124927, 0.07093493765257466, 0.0015420638620124926, 0.020046830206162405, 0.0025701064366874878, 0.0837854698360121, 0.028615934988767786, 0.05723186997753557, 0.33766803286745983, 0.11160214645619436, 0.13735648794608538, 0.022892747991014227, 0.3033289108809385, 0.9917277928987074, 0.018789124645531476, 0.18433654719805204, 0.03757824929106295, 0.005585955975698546, 0.5408221012835411, 0.02945322241731961, 0.07261742768408111, 0.014726611208659805, 0.006601584334916464, 0.006093770155307506, 0.03757824929106295, 0.01269535449022397, 0.03351573585419128, 0.3817492273858069, 0.08446750146180211, 0.2660177805777534, 0.1371225673081203, 0.035651867500111276, 0.034006396692413836, 0.06088241988480542, 0.9809124393238847, 0.25418946956474137, 0.17793262869531898, 0.13072601291900984, 0.10893834409917488, 0.03449714229807205, 0.045390976707989535, 0.01361729301239686, 0.06354736739118534, 0.044483157173829745, 0.0009078195341597906, 0.1252790957140511, 0.9917497432408865, 0.07792661181881834, 0.9171362775599389, 0.027430366819239993, 0.5052827383245049, 0.0361465581449798, 0.22815912587965975, 0.12074488571833679, 0.05742431932252111, 0.0074343984837192505, 0.011536135578185043, 0.0020508685472328965, 0.004358095662869905, 0.9986703708688549, 0.13577960168331624, 0.02437069773803112, 0.087038206207254, 0.28200378811150295, 0.05744521609678764, 0.026111461862176197, 0.10618661157284988, 0.2785222598632128, 0.013555268790977657, 0.5959297798107585, 0.009036845860651772, 0.2896811145331151, 0.0015061409767752952, 0.06827839094714672, 0.008032751876134907, 0.014057315783236088, 0.16664213070217, 0.7074622972141205, 0.12063663449604943, 0.005111721800680061, 0.9960930808508381, 0.9928866501475171, 0.9942145151629179, 0.9911263754413147, 0.11917420669943846, 0.06554581368469115, 0.8054190136103716, 0.009931183891619871, 0.018531633017224273, 0.03622091907912017, 0.03622091907912017, 0.2855556178563195, 0.08591938944349437, 0.5365750105441756, 0.9783205186466895, 0.21321500045496755, 0.6718418974067601, 0.10088360759782021, 0.013594244995450951, 0.1705829439399014, 0.38948801875697625, 0.15059427132805858, 0.12439552567175972, 0.04094766913688191, 0.0032991013048672625, 0.07549120044666854, 0.024840292177824096, 0.010091368697241039, 0.003687230870145764, 0.0046575547833420175, 0.0019406478263925074, 0.9780760846225951, 0.09521329515719029, 0.5119802625557689, 0.23552762486252338, 0.030067356365428514, 0.046771443235111024, 0.001670408686968251, 0.07850920828750779, 0.19999437962631958, 0.22615168268371288, 0.22642415459056073, 0.12179494236098755, 0.128061796218488, 0.057491572344895686, 0.00790168529858756, 0.012806179621848802, 0.006811797671196171, 0.0013623595342392343, 0.011171348180761721, 0.2683587287253047, 0.4922301815656658, 0.15068270864255076, 0.08753947835424378, 0.08528976306565983, 0.91104974183773, 0.9676611494109053, 0.9952473138599758, 0.25064258431529773, 0.3317328321820117, 0.13269313287280468, 0.280129947175921, 0.03783363865419817, 0.9489937695761373, 0.012611212884732723, 0.9966649474540207, 0.9997238134128978, 0.9810315107329378, 0.12869988615636047, 0.12750600966140352, 0.2027202288436921, 0.06184280243877061, 0.15186109015852553, 0.14207130289987843, 0.02984691237392404, 0.039636699632571125, 0.008595910763690123, 0.03080201356988961, 0.044650980911390366, 0.012416315547552402, 0.01026733785662987, 0.005491831876802023, 0.0033428541858794925, 0.03523395721550279, 0.958363636261676, 0.026204082412198758, 0.019653061809149067, 0.9498979874422049, 0.21074801661790704, 0.20287627406172035, 0.3749811908583473, 0.10591071802869352, 0.04687264885729341, 0.006798323116706678, 0.02755109894665338, 0.002504645358786671, 0.01180761383428002, 0.010018581435146685, 0.9910121064753238, 0.04045832018146126, 0.9580530218970027, 0.9936434944269973, 0.9660432971070387, 0.03797102541485157, 0.010355734204050428, 0.019560831274317476, 0.10010543063915413, 0.012657008471617189, 0.09895479350537074, 0.5592096470187231, 0.019560831274317476, 0.14267900458913924, 0.1468476297835631, 0.10605662151035113, 0.40464680207026277, 0.03752772761135502, 0.3034851015526971, 0.9945050289035223, 0.9852005457336833, 0.9969594598965322, 0.09094683900394378, 0.9051375881821071, 0.9901088658058781, 0.17494277343281134, 0.8222310351342133, 0.18768117147747757, 0.6610547928706709, 0.14180355178298304, 0.008341385398999002, 0.9411523490726901, 0.05732907710087452, 0.9918917154420576, 0.3543541045043503, 0.6378373881078304, 0.2734777616095646, 0.09273096514347307, 0.12730861316307318, 0.00628684509447275, 0.1367388808047823, 0.023575669104272813, 0.2891948743457465, 0.050294760755782, 0.9856382317301439, 0.9943593080938802, 0.02880151376766413, 0.7817553736937407, 0.10491980015363361, 0.008229003933618322, 0.0020572509834045805, 0.07200378441916032, 0.037994940437427495, 0.9588134969209644, 0.9490469944874813, 0.015865052675208494, 0.10444493011178925, 0.030408017627482947, 0.48917245748559524, 0.015865052675208494, 0.3437428079628507, 0.027791469462041946, 0.07589208968480685, 0.11116587784816778, 0.022446956103956955, 0.521624503749095, 0.08123660304289185, 0.13361283395212473, 0.02565366411880795, 0.10924761666837667, 0.8885472822361302, 0.9755140788938593, 0.02064580061151025, 0.14817793708980895, 0.721606255279823, 0.05683537313033768, 0.03450719082913359, 0.02841768656516884, 0.0010149173773274585, 0.008119339018619668, 0.012416901069302247, 0.07312175074144657, 0.08967761883384956, 0.8222747819226821, 0.9819302976103824, 0.01579512543073001, 0.09607560212164472, 0.9025283835669655, 0.9962020697501875, 0.9931667700105299, 0.991895866339134, 0.9968126061819303, 0.07471101470759788, 0.0853840168086833, 0.8378306649352047, 0.9972378641175803, 0.968788905082712, 0.28870401466182055, 0.7052903445429709, 0.003875221673313027, 0.026095080836888485, 0.8872327484542084, 0.08350425867804315, 0.017823630775396077, 0.17229509749549543, 0.24656022572631242, 0.035647261550792154, 0.46044379503106536, 0.06832391797235163, 0.9936130176668821, 0.0740625847159411, 0.5297023644512746, 0.08617167651360448, 0.18191798375094279, 0.013517125727624231, 0.005068922147859087, 0.07040169649804287, 0.008166596793772973, 0.010982664653694688, 0.019712475019452006, 0.0351932232030222, 0.9502170264815993, 0.021763261123582442, 0.09285658079395175, 0.8850392856923526, 0.9833710504585899, 0.9951648600042509, 0.9911255719443636, 0.987888540764741, 0.9972016627735633, 0.9524952955324942, 0.9863374732541023, 0.018381266127762613, 0.6433443144716915, 0.31579617871959376, 0.021997252906994603, 0.9918493578502089, 0.9969377473796405, 0.45854531281547845, 0.018289556636514808, 0.35468675905812647, 0.05421547145824033, 0.022208747344339412, 0.07119863119214694, 0.02090235044173121, 0.12541498831655634, 0.6422112332761593, 0.031353747079139085, 0.021623273847682128, 0.14271360739470204, 0.008649309539072851, 0.02702909230960266, 0.2714475161791863, 0.7258933578724307, 0.048819252337497565, 0.4660019541306586, 0.06361296516704228, 0.04832612857651274, 0.11045972246060055, 0.03402553950795285, 0.06928388841836776, 0.1279656159755618, 0.017259331634468838, 0.014300589068559893, 0.3230357031830686, 0.6729910482980596, 0.9885822137739806, 0.07073600554863055, 0.16758261717225897, 0.06480177689522196, 0.07619549590976647, 0.16473418741862283, 0.17304210753339488, 0.062190716287722166, 0.018989531690907533, 0.007833181822499357, 0.050796997273177644, 0.04771119837340517, 0.038691170820224094, 0.05649385678044991, 0.012765467092720863, 0.9829409661395064, 0.9668951904589155, 0.9961323652572528, 0.9847293047903296, 0.08150212782677592, 0.9118050550620557, 0.9538360610642342, 0.03500315820419208, 0.966382841322448, 0.030874851160461597, 0.986373242932221, 0.9933028907592513, 0.08833329112763666, 0.1918094321628682, 0.028122435542676162, 0.05516323894909555, 0.12907476825997521, 0.23976179020358523, 0.05912922344870373, 0.07102717694752826, 0.02595917127016261, 0.019829922498040883, 0.02595917127016261, 0.06634010435708224, 0.9871396290413055, 0.9964849519083497, 0.9924356471466352, 0.9606739859417048, 0.9885192853155258, 0.02613346920479608, 0.4442689764815333, 0.038329088167034245, 0.013937850242557908, 0.04704024456863294, 0.4076821195948188, 0.019164544083517122, 0.9765868250424986, 0.9692189404247684, 0.04565243309024003, 0.010741748962409418, 0.07698253423060084, 0.020588352177951384, 0.06713593101505887, 0.7653496135716711, 0.008056311721807064, 0.003580582987469806, 0.1594096917234456, 0.03507013217915803, 0.8034248462861658, 0.9935939480451936, 0.015244991069712404, 0.17713227719094413, 0.07404709948146025, 0.33176004375516993, 0.2664243677421168, 0.0784028112156638, 0.034119741917927764, 0.016696894981113587, 0.005807615645604725, 0.11914034710127457, 0.3183704874739674, 0.1792528894551043, 0.21197580724771536, 0.0322709437899507, 0.022779489734082847, 0.0530617479123279, 0.04248555625007515, 0.0027118440159622434, 0.011660929268637647, 0.0016271064095773461, 0.0015367116090452713, 0.0007231584042565983, 0.0022598700133018698, 0.9947560040927312, 0.9404636698178248, 0.9955463039832061, 0.038214707000732345, 0.9553676750183085, 0.9990753914358661, 0.3469033720428464, 0.02241529480892238, 0.034156639708834105, 0.4579124510965572, 0.021347899818021314, 0.010673949909010657, 0.016010924863515987, 0.08859378424478845, 0.0032021849727031973, 0.05537885574397186, 0.1231450871148848, 0.28053762449248903, 0.10857170402436589, 0.29583967673753386, 0.07068090798901672, 0.018945398017674583, 0.007286691545259455, 0.005100684081681618, 0.03424745026271944, 0.9797629620896577, 0.9865804869576593, 0.9938262834217721, 0.9838342316981045, 0.9915343494696202, 0.08770791293922901, 0.41921409235360313, 0.4920562573370306, 0.9697629191130759, 0.9819715259997921, 0.5722885548923584, 0.41443291372447055, 0.013113399658147427, 0.9975447223131418, 0.9817964801669954, 0.9324835310682505, 0.00973364854977297, 0.003893459419909188, 0.023360756519455128, 0.031147675359273503, 0.9889418288460552, 0.06543419322172582, 0.06543419322172582, 0.8670030601878671, 0.9978117621592446, 0.9873149022092469, 0.3032603709120617, 0.016017273111552554, 0.5873000140902603, 0.03737363726028929, 0.05552654678671552, 0.9936182588766668, 0.43531170931936136, 0.2827505432880069, 0.21419183575263004, 0.024969802954989892, 0.006928037814101241, 0.007505374298609678, 0.028145153619786294, 0.017459666548725564, 0.005819888849575188, 0.039284249734632515, 0.0480140830089953, 0.36374305309844923, 0.43212674708095766, 0.04946905522138909, 0.008729833274362782, 0.03637430530984492, 0.156188109332165, 0.04479813988596981, 0.03390129504884202, 0.04116585827359388, 0.029058252899007445, 0.1029146456839847, 0.41650162488577336, 0.049641182035804386, 0.014529126449503722, 0.11138996944619521, 0.29971732554305414, 0.2493741810182443, 0.2805947357623124, 0.028098499269661327, 0.020683617517945143, 0.11200374014434446, 0.0007805138686017035, 0.001561027737203407, 0.0039025693430085177, 0.003512312408707666, 0.9965392816677189, 0.9897909022142735, 0.9946597944713802, 0.030497383278044667, 0.1209003408522485, 0.05990557429615917, 0.0163378838989525, 0.3550766767372343, 0.057727189776298836, 0.359433445776955, 0.9907430088457653, 0.9978951429559257, 0.03234630288934312, 0.9596069857171794, 0.9980661150024963, 0.8799905273695686, 0.11447031250335853, 0.9466849058944637, 0.9893196591792945, 0.9753362054076715, 0.02275784479284567, 0.9922710349605584, 0.9735557620188287, 0.18632258750718783, 0.807397879197814, 0.9880017828766468, 0.07159783111781483, 0.9254682614858286, 0.9912734005273375, 0.9901142554783908, 0.056836542757950005, 0.019391291058594707, 0.1317270461566606, 0.0006686652089170589, 0.010698643342672943, 0.03142726481910177, 0.019391291058594707, 0.08625781195030059, 0.6425872657692936, 0.005275423713876896, 0.01582627114163069, 0.9780635565527767, 0.04504769858345712, 0.9529320854192852, 0.000728771428700676, 0.5859322286753434, 0.055022242866901036, 0.1523132285984413, 0.044819442865091576, 0.1286281571656693, 0.018948057146217577, 0.006558942858306084, 0.006558942858306084, 0.07808591388180736, 0.8955478248319781, 0.024401848088064802, 0.9900176801892059, 0.9963138664661307, 0.003250616203804668, 0.986984929992527, 0.9022968787011085, 0.09523348093625296, 0.9881615946120826, 0.28850958809487987, 0.048084931349146647, 0.18232203136551436, 0.4808493134914664, 0.07503576435711772, 0.9236220449048853, 0.04436548594099914, 0.6173410171364562, 0.1359282973511463, 0.1551218763752665, 0.010698060439673552, 0.0022025418552269077, 0.023598662734574012, 0.004405083710453815, 0.005978327892758749, 0.18468568024579157, 0.09259309172214482, 0.060060383819769615, 0.16917008109235107, 0.1536544819389106, 0.07207246058372353, 0.06606642220174658, 0.18168266105480307, 0.0015015095954942403, 0.010010063969961602, 0.008508554374467361, 0.040106198813683755, 0.959463679311973, 0.9955490359918283, 0.9731888068666376, 0.025827728420027535, 0.00277976568938686, 0.022933066937441595, 0.9249670331434777, 0.018763418403361307, 0.00694941422346715, 0.022933066937441595, 0.9857863419766605, 0.8074085553022928, 0.1904092738127856, 0.9854846597460207, 0.9968049282965973, 0.9973231132718698, 0.2946702130797597, 0.09361918228054865, 0.33764295248722465, 0.27318384337602725, 0.812148765643902, 0.18338843095184884, 0.047446540815818, 0.4382141185460943, 0.04984552321661779, 0.054910041618306225, 0.10688799363563493, 0.031186771210397226, 0.0013327680004443258, 0.23643304327882342, 0.03305264641101928, 0.0010662144003554606, 0.1385543248221451, 0.06056566294620715, 0.578277631143923, 0.12196099250811576, 0.02986799816525284, 0.014104332466924953, 0.043142664016476324, 0.013274665851223484, 0.042687607499389234, 0.5873127206291807, 0.1641610677661076, 0.08824015509940862, 0.05414736790190983, 0.06360167023398933, 0.12256474062404726, 0.001476683621976473, 0.20082897258880034, 0.22740927778437686, 0.04577719228127067, 0.4001812615556242, 0.9884535108541599, 0.9953454255931468, 0.9865599477323646, 0.9912667870418422, 0.9982426986346989, 0.9958679474408566, 0.38863160678222575, 0.15078401626777913, 0.273177736585558, 0.005678059190000051, 0.0037853727933333673, 0.1772816258211127, 0.9930153258507769, 0.9894003310848126, 0.18575734623447424, 0.16675943582413028, 0.5467176440310093, 0.09076779418275445, 0.008443515737930646, 0.9787751490503519, 0.19807247197025132, 0.801685387519478, 0.11239449318793925, 0.051267663559410884, 0.029577498207352435, 0.055211329987057876, 0.7492966212529283, 0.9922635187275263, 0.15438908901666337, 0.5491262576597045, 0.19922260176604378, 0.06674462800283701, 0.01651760996029805, 0.009775728343849864, 0.0003370940808224091, 0.003033846727401682, 0.0006741881616448182, 0.9883617887454234, 0.9782060327497106, 0.5139436811654919, 0.4822369691280226, 0.00368682698110109, 0.16502196550111203, 0.025238653547228897, 0.5280702896035585, 0.14949048639512502, 0.03300439310022241, 0.09901317930066722, 0.010726388724713173, 0.763718877199578, 0.023598055194368982, 0.20165610802460765, 0.016011033575054266, 0.10807447663161629, 0.08005516787527132, 0.07605240948150775, 0.08405792626903488, 0.08806068466279846, 0.04403034233139923, 0.5003447992204457, 0.04768621730730016, 0.024329702707806204, 0.04768621730730016, 0.5089773806473058, 0.20242312652894762, 0.13819271138033926, 0.031142019465991943, 0.9854342942899056, 0.9927422260906447, 0.03155734475949241, 0.6528681844398885, 0.0983605550945218, 0.21516371426926642, 0.00040983564622717414, 0.0012295069386815225, 0.9939807069521801, 0.02781225933732994, 0.276136003420633, 0.037745209100662064, 0.037745209100662064, 0.12714175697065117, 0.23839079431997093, 0.2522969239886359, 0.9865529535020727, 0.9875304071589666, 0.9832245113395175, 0.14046369244965878, 0.8143549788450456, 0.04347685718679915, 0.03881781235720147, 0.9400205370825006, 0.02098260127416296, 0.3477652037982631, 0.05384342863907534, 0.43898230643387304, 0.04877581182598589, 0.023437727760538676, 0.009501781524542707, 0.0259715361670834, 0.048142359724349715, 0.003167260508180902, 0.978378058433899, 0.07265925732237825, 0.17126824940274873, 0.7525423079817747, 0.02735932862102679, 0.029313566379671564, 0.04787882508679689, 0.7768095090612964, 0.11823138439800863, 0.9855062863978252, 0.17133093141375424, 0.1346171603965212, 0.2019257405947818, 0.09484390846118539, 0.39467303843525536, 0.07814847018179709, 0.8179539879028095, 0.10246132757168952, 0.982829219572358, 0.15415456999002597, 0.147452197381764, 0.04244835985232599, 0.091599092312914, 0.079311409197767, 0.020107117824785997, 0.016755931520654996, 0.10947208593494599, 0.016755931520654996, 0.055853105068849995, 0.24463660020156297, 0.02234124202754, 0.9942857082227854, 0.9931568138575396, 0.9861262209388921, 0.9907039492689607, 0.006739482648088168, 0.5169236942434283, 0.17447802274211435, 0.05156216194468454, 0.182290471521612, 0.00364580943043224, 0.026301910890975447, 0.012499918047196253, 0.00937493853539719, 0.01874987707079438, 0.0039062243897488285, 0.9974569389135484, 0.029787124635121832, 0.11583881802547379, 0.07612265184531135, 0.047990367467696284, 0.0314419648926286, 0.4732843136469358, 0.18037758806823775, 0.04468068695268275, 0.9865267527291921, 0.9888827799690616, 0.11224588700751936, 0.8620484122177487, 0.022449177401503873, 0.950116890124183, 0.13547390844013002, 0.8621066900735548, 0.9768963508222878, 0.05125317302484035, 0.9353704077033363, 0.16462340493861818, 0.8231170246930909, 0.9975387953965797, 0.9844729658653781, 0.37978503780473977, 0.015238288553893881, 0.22388562413797933, 0.12190630843115105, 0.024615696894751654, 0.04454268961907442, 0.05274792191732497, 0.13480024489983047, 0.0025494585215175376, 0.02900009068226199, 0.2890448598770508, 0.3425834888289191, 0.029637455312641375, 0.2807591196821188, 0.015615433444294917, 0.01019783408607015, 0.9939446218043847, 0.1370637951966689, 0.12016551907653164, 0.02253103482684968, 0.719115528223619, 0.9953708223916963, 0.9946862837655397, 0.990004815043701, 0.9829891747048127, 0.3871985351417062, 0.11724778851979137, 0.17130814610077302, 0.29031114103553135, 0.007371866942861134, 0.007371866942861134, 0.01860518799864953, 0.9979922483570111, 0.05565180190042554, 0.10666595364248228, 0.06260827713797873, 0.5101415174205675, 0.26202723394783695, 0.9927191869992233, 0.9970547182101596, 0.1010569983260068, 0.18250592234995258, 0.0030166268157016955, 0.6395248849287595, 0.07089073016898985, 0.17923749907039266, 0.30684360465172367, 0.33059797199840224, 0.18218225535303875, 0.0009815854275487, 0.9850253685874609, 0.07881844458971979, 0.10663671915079737, 0.0046363790935129295, 0.1390913728053879, 0.05100017002864222, 0.6166384194372195, 0.15989426162769377, 0.07355136034873913, 0.13111329453470888, 0.6347802186619442, 0.3752148176041517, 0.00532219599438513, 0.36190932761818884, 0.2567959567290825, 0.09121737364060314, 0.8902815667322866, 0.01824347472812063, 0.9901189510235461, 0.0445257167288039, 0.5164983140541252, 0.04749409784405749, 0.09647238624574178, 0.29238553985247895, 0.9986305325925264, 0.9989581464188423, 0.9878497127798419, 0.008808401485096205, 0.9894771001591404, 0.09569068544203833, 0.06778090218811049, 0.7057188051350327, 0.12758758058938446, 0.43332265809783815, 0.015950527291944964, 0.00531684243064832, 0.5423179279261288, 0.22616621029256032, 0.0011252050263311458, 0.4005729893738879, 0.08213996692217365, 0.07651394179051792, 0.016878075394967187, 0.033756150789934374, 0.03488135581626552, 0.12602296294908832, 0.3259323209764731, 0.6733783265058488, 0.07126761582804941, 0.3457342470274231, 0.18741656757549327, 0.25424536996096525, 0.11590235100063401, 0.01233003734049298, 0.008384425391535225, 0.0002466007468098596, 0.004438813442577473, 0.07595041620321988, 0.5448616814578817, 0.1757499969146972, 0.16400886977217047, 0.013575678258546548, 0.00476983290165149, 0.020546972499421803, 0.060363892338244275, 0.166248096931558, 0.7688974483084557, 0.000989572005544988, 0.0029687160166349644, 0.027352767415121482, 0.2692727992199737, 0.010941106966048593, 0.5245652950944409, 0.12278353373010088, 0.010941106966048593, 0.006078392758915885, 0.004862714207132708, 0.013372464069614948, 0.008509749862482239, 0.9698146616597362, 0.9903525746604845, 0.9941234137663855, 0.0031469795682002428, 0.0802479789891062, 0.07867448920500607, 0.09283589726190716, 0.15577548862591203, 0.009440938704600728, 0.061366101579904735, 0.050351673091203884, 0.3870784868886299, 0.0802479789891062, 0.9976907393550478, 0.9984586370694353, 0.10362350532641695, 0.018918814250466168, 0.08986436768971429, 0.05374663139336979, 0.3646171473726207, 0.002149865255734792, 0.10663331668444566, 0.2055271184482461, 0.006879568818351333, 0.0034397844091756664, 0.042997305114695836, 0.001289919153440875, 0.9603234612818492, 0.1374198889080871, 0.8578332459110891, 0.002202047367812681, 0.9953254102513317, 0.983234665884728, 0.9951104961203597, 0.9972576185799482, 0.9110569901206949, 0.07768703016533057, 0.03854443106291959, 0.8961580222128804, 0.02730230533623471, 0.03693841310196461, 0.9933319947252075, 0.9976903788954338, 0.09615299199815776, 0.1388876551084501, 0.7478566044301159, 0.9941430471300935, 0.9988572981655105, 0.9931132047631763, 0.06803307791381177, 0.7835952724001535, 0.07410745987040211, 0.07410745987040211, 0.9662566926844357, 0.9859527323939618, 0.9966797334146785, 0.9913365621101186, 0.07606696452878864, 0.9204102707983426, 0.17244550903319364, 0.15676864457563058, 0.6688795501893572, 0.9746258698044951, 0.04292204529700294, 0.9514386707502319, 0.6269650515474474, 0.05073396924787692, 0.3220271942786293, 0.9908888770770443, 0.0032171716788215723, 0.08217826937024746, 0.11739752767178208, 0.6280767730440341, 0.01760962915076731, 0.10565777490460386, 0.04989394926050738, 0.9859300893537176, 0.32552131633192755, 0.6705182669743123, 0.0286859722496057, 0.7684530643019373, 0.11750215556088489, 0.08385130349884744, 0.0011033066249848346, 0.03843539819391819, 0.6245752206511707, 0.14117617413535336, 0.17591586096447173, 0.012195847503839426, 0.003695711364799826, 0.003695711364799826, 0.9827227540107096, 0.12190719105748286, 0.007351187400451228, 0.06187249395379784, 0.7878022497483567, 0.012251979000752047, 0.007963786350488831, 0.9957418278240606, 0.9841027869243543, 0.06515788285524018, 0.10467987737399242, 0.429401129636173, 0.05340810070101654, 0.27451763760322506, 0.07156685493936217, 0.98637279023498, 0.9761935181846266, 0.03259408632529535, 0.9659701947314804, 0.9493500120622436, 0.9890324954289502, 0.9775598564313771, 0.041516205332823825, 0.10458890189615233, 0.3057828200475293, 0.0678630279478851, 0.11017762184480169, 0.21796007799732509, 0.024750045486875743, 0.12135506174210041, 0.005588719948649361, 0.4982064736550919, 0.3100540288172646, 0.18815244483782725, 0.13910408715941336, 0.1958089379759895, 0.01196117946912153, 0.4691440391777667, 0.10100551551702626, 0.02702340546727457, 0.01594823929216204, 0.02082131240921155, 0.005316079764054013, 0.012847192763130533, 0.13811526163445548, 0.8155377353653562, 0.04274996193447432, 0.6406312111968288, 0.030676104767776876, 0.06919958517382226, 0.0017834944632428417, 0.2161595289450324, 0.02354212691480551, 0.009630870101511346, 0.007847375638268504, 0.1498450958986802, 0.8407974825425945, 0.12167895724309812, 0.05763740079936226, 0.03842493386624151, 0.6574933128223547, 0.09179289756935471, 0.014943029836871699, 0.017077748384996226, 0.9869955817516433, 0.25670222273830123, 0.7320767092907109, 0.9869314076559397, 0.9683826843589256, 0.02305673057997442, 0.9880668358710705, 0.13722317146343338, 0.2945891937838845, 0.09232139976133132, 0.3495623909144954, 0.018464279952266266, 0.08476783068994967, 0.018044637226078394, 0.0004196427261878696, 0.004196427261878697, 0.9909773092978487, 0.08292623464735986, 0.37814362999196094, 0.5108256054277367, 0.026536395087155155, 0.9683487097494331, 0.16184378401887087, 0.7847294001441304, 0.03726666079381895, 0.013841902580561324, 0.10154961510056626, 0.8925676695681349, 0.9733652706855519, 0.9904160631645484, 0.9956763370476692, 0.28488756062074816, 0.06675723435441412, 0.008929311601545838, 0.3393138408587419, 0.028063550747715493, 0.003401642514874605, 0.15307391316935723, 0.025937524175918863, 0.005102463772311908, 0.08419065224314648, 0.10003102801136447, 0.5928106083991461, 0.10417978032519987, 0.12261867949780161, 0.023509596445067227, 0.007375559669040699, 0.01889987165191679, 0.01751695421397166, 0.012907229420821223, 0.13667371146172314, 0.056133845778922005, 0.6980121692509432, 0.10738648757706819, 0.9766292059550802, 0.24663675152394565, 0.24138916106598934, 0.34109337976715887, 0.16792289465460128, 0.9913763559857418, 0.9691014179068895, 0.9846636930387352, 0.9843932287116299, 0.9929828412290413, 0.025848335686455635, 0.0020587170015761123, 0.04574926670169139, 0.2676332102048946, 0.08097620206199375, 0.06336273438184258, 0.3623341922773958, 0.09378599673846735, 0.008006121672795992, 0.04803673003677596, 0.0022874633350845695, 0.9882263721332799, 0.9715376856853698, 0.15656165279662793, 0.33385380112166313, 0.10767481259530934, 0.31683623016550794, 0.01856462286126023, 0.0327975003882264, 0.021658726671470268, 0.0058787972393990725, 0.0015470519051050192, 0.0024752830481680308, 0.002165872667147027, 0.17310060288785545, 0.8160456993284615, 0.9964423203749379, 0.8641460964664688, 0.13442272611700626, 0.013881546526180519, 0.029025051827468357, 0.9515169164309192, 0.00504783510042928, 0.0673116080956216, 0.40835708911343777, 0.015706041888978374, 0.25690597089828915, 0.250174810088727, 0.9883063228423703, 0.9931631161227581, 0.07915028289865196, 0.622748452240337, 0.1523269595408019, 0.13639734285679644, 0.008960409384753051, 0.9957861518307735, 0.9718902672772926, 0.8081045082421269, 0.10943081882445468, 0.06533781490251324, 0.0024050729411968065, 0.014430437647180838, 0.9896876966959579, 0.05481498669103147, 0.5906121805442123, 0.18245927494808128, 0.1536363711481023, 0.01466879925534645, 0.0012867367767847764, 0.0018014314874986869, 0.0005146947107139105, 0.10887859771295144, 0.578784799588372, 0.14240629288170156, 0.166601536817913, 0.0006912926838917552, 0.002592347564594082, 0.0856843357216117, 0.038947425328005325, 0.7867379916257075, 0.0856843357216117, 0.10323224169871051, 0.043013434041129374, 0.008602686808225875, 0.7269270352950864, 0.11613627191104932, 0.9920070526981413, 0.9811629820842257, 0.14260520829567533, 0.2606947512426994, 0.08804922061839518, 0.31887629506309, 0.03521968824735807, 0.030212967859253245, 0.030385613389877553, 0.05438334214665584, 0.02106275473616512, 0.003970847204358998, 0.006560530163723562, 0.004316138265607607, 0.003280265081861781, 0.10161659968940269, 0.06774439979293513, 0.042340249870584455, 0.7847059642681652, 0.28197865111907194, 0.684805295574889, 0.9649636183167559, 0.13366068561199573, 0.04500819005301897, 0.0572831509765696, 0.671031197154101, 0.010911076376489448, 0.010911076376489448, 0.005455538188244724, 0.0641025737118755, 0.09207024876914206, 0.010089890276070363, 0.8172811123616994, 0.01639607169861434, 0.06306181422543977, 0.9933435928445057, 0.9818217946985147, 0.994429348715279, 0.15828190793488328, 0.7751754978349411, 0.016234041839475206, 0.04870212551842562, 0.9800185250459799, 0.9822615400282643, 0.1707298707178444, 0.010782939203232278, 0.29832798462275967, 0.508595299085789, 0.008985782669360232, 0.03613998917197153, 0.03355856137397356, 0.8828483069153045, 0.04388427256596543, 0.9772184075143419, 0.08293462780899524, 0.534687754031372, 0.10048393471738332, 0.1129382815555942, 0.09652118799613439, 0.0031135867095527224, 0.06340394753998271, 0.0005661066744641314, 0.002547480035088591, 0.002547480035088591, 0.9858552086380376, 0.15355946457262232, 0.2168690683876508, 0.46943397722420066, 0.02761376336612945, 0.03906337256671971, 0.008082077082769595, 0.02087869913048812, 0.02559324409543705, 0.022225711977616386, 0.016837660589103323, 0.9803953914380049, 0.24599579592782617, 0.27783054598907425, 0.060775431935109994, 0.026046613686475713, 0.3878051371097495, 0.14059915770433717, 0.8468271107709504, 0.01131257590724552, 0.8794089386840184, 0.11628547949540739, 0.9981072240952031, 0.9987256291986345, 0.9990687037283584, 0.12494313247740366, 0.14098312921436765, 0.08864208723059043, 0.3241767761575879, 0.022793679573580396, 0.021105258864426293, 0.06669261801158709, 0.20767574722595472, 0.0025326310637311554, 0.15893471818720722, 0.08915155339174886, 0.08544877321892862, 0.2361234433283061, 0.01794424237597501, 0.07063765252764766, 0.08915155339174886, 0.1241855504115096, 0.03360985079944526, 0.012817315982839294, 0.04642716678228455, 0.009684194298145243, 0.025634631965678587, 0.9865426358359513, 0.9994206660048187, 0.9861837936789255, 0.976015897055994, 0.9886788893558051, 0.19553164114894, 0.08142199038724858, 0.5093331807435915, 0.00832049536804, 0.013669385247494286, 0.07963902709409715, 0.11173236637082286, 0.8667756831493373, 0.13148692997874178, 0.9735541327344089, 0.9802770956710244, 0.3632849432901956, 0.1262437456241481, 0.26704265250849213, 0.13456098062997432, 0.01604038179695058, 0.02613988144688243, 0.006534970361720608, 0.009208367327879038, 0.050794542357010176, 0.05997480605885008, 0.1463720791226481, 0.05829718910615497, 0.017279454612759603, 0.25927570003902883, 0.08421637102529438, 0.09595968969416013, 0.18034382241472402, 0.008220323068206026, 0.04185654296974292, 0.0059555401820676306, 0.04210818551264719, 0.8169161410805656, 0.043031535859595016, 0.09562563524354448, 0.04371457611133462, 0.023386683197109615, 0.21827570983968975, 0.7561694233732109, 0.9927553931627608, 0.0036163957182625893, 0.8869210499039001, 0.007684840901308002, 0.10171112957613533, 0.9810217081274331, 0.9916717214112523, 0.8064609101597092, 0.05665221269716966, 0.13663180709317388, 0.977400204659219, 0.9938931136452389, 0.9888998655435974, 0.9865499393927799, 0.9945717266474728, 0.9850114415761694, 0.9950242592258912, 0.04071512680455467, 0.0022008176651110633, 0.7521294370517059, 0.05832166812544318, 0.1094906788392754, 0.004401635330222127, 0.03191185614411042, 0.046418380367117984, 0.9438404007980656, 0.9962051836585697, 0.026866893875448734, 0.14478270588436262, 0.8269032892777, 0.9754852601638667, 0.021091573192732253, 0.07382640251593638, 0.9238846943422895, 0.9929559402467424, 0.9878117695450293, 0.9324000174064266, 0.03668459084877744, 0.0305704923739812, 0.9916413956865543, 0.9867235083944029, 0.05914956552679325, 0.933248700533849, 0.987165880904947, 0.9946786786734917, 0.9884174416289632, 0.007785508172268739, 0.6643633640335991, 0.012975846953781232, 0.3140154962815058, 0.807300179319626, 0.0010948917441043753, 0.19124109130356423, 0.9832316151714334, 0.9932266036867446, 0.05639506710945025, 0.0589584792507889, 0.8766869523378175, 0.005126824282677295, 0.14186424009326665, 0.6504114736479428, 0.04063568911146112, 0.07357704655684677, 0.049532260100360895, 0.028613295883218186, 0.013945976144761806, 0.0014426871873891524, 0.765945399302362, 0.003105184051225792, 0.20908239278253665, 0.020701227008171945, 0.9745845528832758, 0.015846903298915055, 0.9863680890744623, 0.13714802565387024, 0.0737354976633711, 0.5913586912602362, 0.0044241298598022664, 0.18581345411169517, 0.00737354976633711, 0.1185643963267342, 0.06693151405541446, 0.026772605622165786, 0.06501918508240262, 0.005736986919035526, 0.7171233648794407, 0.9946456741273014, 0.1443320830008517, 0.4181461971414566, 0.1815874762664145, 0.17611640452811508, 0.04168435610132901, 0.0002605272256333063, 0.0247500864351641, 0.0059921261895660455, 0.004428962835766208, 0.0026052722563330633, 0.9658321286005174, 0.03317743953207884, 0.15640950618435231, 0.3607549431740195, 0.08475270240321144, 0.2490691662461724, 0.025450519963646584, 0.0195203017196901, 0.045217914110168206, 0.008895327365934728, 0.004200571256135844, 0.026685982097804185, 0.016061007744048814, 0.0029651091219782427, 0.1329098870763948, 0.06867010832280399, 0.7841683337507295, 0.005537911961516451, 0.006645494353819741, 0.9937048049057, 0.9853438241641317, 0.013360594225954328, 0.08614097967307358, 0.005820336464396864, 0.040742355250778045, 0.10825825823778167, 0.7042607121920205, 0.053547095472451144, 0.0003257551233913347, 0.037787594313394825, 0.6899493513428469, 0.23128613760784764, 0.0006515102467826694, 0.03974212505374283, 0.07555498624319561, 0.08585793891272228, 0.7280753219798849, 0.10646384425177563, 0.064792135462311, 0.06942014513819035, 0.8638951394974799, 0.9947908498252506, 0.05560773485247704, 0.9420604492654934, 0.9934353800088058, 0.1387952230411609, 0.29116823964069627, 0.19914097218949173, 0.36810906980481806, 0.01507118955335751, 0.762834055854557, 0.06260340276010042, 0.14259663962022873, 0.016230511826692703, 0.12075685066962359, 0.08712138084840423, 0.629148706000185, 0.0330840686766092, 0.09539239801755653, 0.015439232049084295, 0.01819623777213506, 0.07228645124222696, 0.451429917729235, 0.03748186360708065, 0.046955301661617516, 0.10750292748844009, 0.04077697249561521, 0.0671378436038917, 0.16310788998246084, 0.0010297215276670506, 0.009885326665603687, 0.0006178329166002304, 0.0018534987498006912, 0.9958935433597582, 0.1725350345866401, 0.6074912999246846, 0.1032887105034469, 0.09631940304733197, 0.0004467504779560852, 0.007058657551706146, 0.010811361566537262, 0.0003574003823648682, 0.0006254506691385193, 0.0008041508603209534, 0.0001787001911824341, 0.02439988654371996, 0.21680622079510206, 0.7586012918803537, 0.9953228768267218, 0.9940840991680557, 0.9965378111405121, 0.9869962516606587, 0.9916672219265634, 0.9893922301889944, 0.992426134602301, 0.1306729919556884, 0.860263863708282, 0.9640765733273725, 0.9950610533464196, 0.9904371307582283, 0.9846465305899824, 0.1343916670537014, 0.040459463144688276, 0.0054419160954843875, 0.385902832684132, 0.1672797686742375, 0.0714547243841863, 0.039276437906539494, 0.0023660504762975597, 0.1254006752437707, 0.016798958381712675, 0.011357042286228287, 0.9901845254516887, 0.8856611618954386, 0.11412617109935284], \"Term\": [\"0\", \"0\", \"0\", \"04\", \"04\", \"05\", \"05\", \"0d\", \"0t\", \"1\", \"1\", \"1\", \"1\", \"1\", \"1\", \"1\", \"1\", \"1\", \"1\", \"1\", \"10\", \"10\", \"10\", \"10\", \"10\", \"10\", \"10\", \"10\", \"10\", \"100\", \"100\", \"100\", \"100\", \"100\", \"100\", \"100\", \"100\", \"100\", \"100\", \"102\", \"1024x768\", \"11\", \"11\", \"11\", \"11\", \"11\", \"11\", \"11\", \"11\", \"12\", \"12\", \"12\", \"12\", \"12\", \"12\", \"12\", \"12\", \"12\", \"12\", \"12\", \"12\", \"13\", \"13\", \"13\", \"13\", \"13\", \"13\", \"13\", \"14\", \"14\", \"14\", \"14\", \"14\", \"14\", \"14\", \"14\", \"145\", \"145\", \"15\", \"15\", \"15\", \"15\", \"15\", \"15\", \"15\", \"15\", \"15\", \"16\", \"16\", \"16\", \"16\", \"16\", \"16\", \"16\", \"17\", \"17\", \"17\", \"17\", \"17\", \"17\", \"17\", \"17\", \"18\", \"18\", \"18\", \"18\", \"18\", \"18\", \"18\", \"18\", \"1914\", \"1920\", \"1986\", \"1986\", \"1991\", \"1991\", \"1991\", \"1991\", \"1991\", \"1991\", \"1992\", \"1992\", \"1992\", \"1992\", \"1992\", \"1992\", \"1993\", \"1993\", \"1993\", \"1993\", \"1993\", \"1993\", \"1993\", \"1d9\", \"1f\", \"1mb\", \"1st\", \"1st\", \"1st\", \"1st\", \"2\", \"2\", \"2\", \"2\", \"2\", \"2\", \"2\", \"2\", \"2\", \"2\", \"2\", \"2\", \"2\", \"20\", \"20\", \"20\", \"20\", \"20\", \"20\", \"20\", \"20\", \"200\", \"200\", \"200\", \"200\", \"200\", \"212\", \"24\", \"24\", \"24\", \"24\", \"24\", \"24\", \"24\", \"24\", \"2400\", \"25\", \"25\", \"25\", \"25\", \"25\", \"25\", \"256\", \"256\", \"256\", \"256\", \"256k\", \"25mhz\", \"26\", \"26\", \"26\", \"27\", \"27\", \"27\", \"27\", \"27\", \"27\", \"28\", \"28\", \"28\", \"28\", \"28\", \"2di\", \"2mb\", \"3\", \"3\", \"3\", \"3\", \"3\", \"3\", \"3\", \"3\", \"3\", \"3\", \"3\", \"300\", \"300\", \"300\", \"300\", \"300\", \"31\", \"31\", \"31\", \"31\", \"32\", \"32\", \"32\", \"32\", \"32\", \"32\", \"32\", \"33\", \"33\", \"33\", \"34\", \"34\", \"34\", \"35\", \"35\", \"35\", \"35\", \"35\", \"35\", \"36\", \"36\", \"37\", \"37\", \"38\", \"38\", \"39\", \"39\", \"4\", \"4\", \"4\", \"4\", \"4\", \"4\", \"4\", \"4\", \"4\", \"49\", \"5\", \"5\", \"5\", \"5\", \"5\", \"5\", \"5\", \"5\", \"5\", \"5\", \"5\", \"500\", \"500\", \"500\", \"500\", \"54\", \"57\", \"5v\", \"6\", \"6\", \"6\", \"6\", \"6\", \"6\", \"6\", \"6\", \"6\", \"6\", \"6um\", \"7\", \"7\", \"7\", \"7\", \"7\", \"7\", \"7\", \"7\", \"7\", \"7ey\", \"8\", \"8\", \"8\", \"8\", \"8\", \"8\", \"8\", \"8\", \"800x600\", \"9\", \"9\", \"9\", \"9\", \"9\", \"9\", \"9\", \"9600\", \"9v\", \"a86\", \"aaa\", \"abc\", \"aberr\", \"abomin\", \"acceler\", \"acceler\", \"acceler\", \"acceler\", \"adaptec\", \"adl\", \"adl\", \"adob\", \"advic\", \"advic\", \"advic\", \"agdam\", \"age\", \"age\", \"age\", \"age\", \"age\", \"agenc\", \"agenc\", \"agenc\", \"agenc\", \"ah\", \"ah\", \"ah\", \"ah\", \"ah\", \"aid\", \"aid\", \"aid\", \"aid\", \"aid\", \"air\", \"air\", \"air\", \"air\", \"air\", \"alcohol\", \"alcohol\", \"alcohol\", \"alcohol\", \"algorithm\", \"algorithm\", \"allah\", \"alloc\", \"alloc\", \"alloc\", \"also\", \"also\", \"also\", \"also\", \"also\", \"also\", \"also\", \"also\", \"also\", \"also\", \"also\", \"also\", \"also\", \"amend\", \"american\", \"american\", \"american\", \"american\", \"american\", \"amp\", \"amplifi\", \"analyst\", \"anatolia\", \"angri\", \"ankara\", \"anonym\", \"antibiot\", \"anybodi\", \"anybodi\", \"anyon\", \"anyon\", \"anyon\", \"anyon\", \"anyon\", \"anyon\", \"anyth\", \"anyth\", \"anyth\", \"anyth\", \"anyth\", \"anyth\", \"anyth\", \"anyway\", \"anyway\", \"anyway\", \"anyway\", \"apart\", \"apart\", \"appear\", \"appear\", \"appear\", \"appear\", \"appear\", \"appear\", \"appear\", \"appear\", \"appear\", \"appear\", \"appl\", \"appl\", \"appl\", \"appl\", \"applic\", \"applic\", \"applic\", \"applic\", \"applic\", \"applic\", \"appreci\", \"appreci\", \"appreci\", \"april\", \"april\", \"april\", \"april\", \"april\", \"april\", \"april\", \"april\", \"ar\", \"arab\", \"archiv\", \"archiv\", \"archiv\", \"arena\", \"arena\", \"argic\", \"argument\", \"argument\", \"argument\", \"argument\", \"argument\", \"armenia\", \"armenian\", \"armi\", \"armi\", \"armi\", \"armi\", \"around\", \"around\", \"around\", \"around\", \"around\", \"around\", \"around\", \"around\", \"around\", \"arrest\", \"art\", \"art\", \"art\", \"art\", \"art\", \"ask\", \"ask\", \"ask\", \"ask\", \"ask\", \"ask\", \"ass\", \"assault\", \"asteroid\", \"astro\", \"astronaut\", \"astronom\", \"astronomi\", \"ate\", \"atf\", \"atheism\", \"atheist\", \"ati\", \"atmospher\", \"attack\", \"attack\", \"attack\", \"attest\", \"attorney\", \"audio\", \"authent\", \"authent\", \"authent\", \"auto\", \"auto\", \"avail\", \"avail\", \"avail\", \"avail\", \"avail\", \"avail\", \"avail\", \"avail\", \"avail\", \"avail\", \"avail\", \"avail\", \"aveng\", \"averag\", \"averag\", \"averag\", \"averag\", \"away\", \"away\", \"away\", \"away\", \"away\", \"away\", \"away\", \"ax\", \"ax\", \"azerbaijan\", \"azerbaijani\", \"azeri\", \"b\", \"b\", \"b\", \"b\", \"b\", \"b\", \"b\", \"b\", \"b\", \"b8\", \"b8f\", \"b9r\", \"back\", \"back\", \"back\", \"back\", \"back\", \"back\", \"back\", \"back\", \"back\", \"back\", \"back\", \"back\", \"backup\", \"backup\", \"baku\", \"ball\", \"ball\", \"baltimor\", \"baltimor\", \"baltimor\", \"baltimor\", \"ban\", \"band\", \"band\", \"baptism\", \"baptiz\", \"basebal\", \"basebal\", \"bat\", \"batf\", \"batman\", \"batter\", \"batteri\", \"bayonet\", \"beep\", \"belief\", \"believ\", \"believ\", \"believ\", \"believ\", \"believ\", \"best\", \"best\", \"best\", \"best\", \"best\", \"best\", \"best\", \"best\", \"best\", \"best\", \"best\", \"better\", \"better\", \"better\", \"better\", \"better\", \"better\", \"better\", \"better\", \"bh\", \"bibl\", \"biblic\", \"bike\", \"billboard\", \"binari\", \"binari\", \"binghamton\", \"bio\", \"bit\", \"bit\", \"bit\", \"bit\", \"bit\", \"bit\", \"bit\", \"bit\", \"bit\", \"bit\", \"bitmap\", \"bj\", \"block\", \"block\", \"block\", \"block\", \"block\", \"block\", \"block\", \"block\", \"blue\", \"blue\", \"blue\", \"blue\", \"blue\", \"blue\", \"blue\", \"bm\", \"bmw\", \"bo\", \"bo\", \"board\", \"board\", \"board\", \"board\", \"board\", \"board\", \"board\", \"boe\", \"bond\", \"bond\", \"book\", \"book\", \"book\", \"book\", \"book\", \"book\", \"book\", \"book\", \"boston\", \"boston\", \"boston\", \"boston\", \"boston\", \"box\", \"box\", \"box\", \"box\", \"box\", \"box\", \"box\", \"box\", \"box\", \"boy\", \"boy\", \"boy\", \"boy\", \"brake\", \"brand\", \"brand\", \"brand\", \"brand\", \"breaker\", \"bruin\", \"bu\", \"bu\", \"bu\", \"bu\", \"bu\", \"build\", \"build\", \"build\", \"build\", \"build\", \"build\", \"build\", \"build\", \"build\", \"build\", \"build\", \"bullock\", \"bullpen\", \"burnt\", \"c\", \"c\", \"c\", \"c\", \"c\", \"c\", \"cabl\", \"cabl\", \"cabl\", \"cabl\", \"cabl\", \"cach\", \"cach\", \"cal\", \"calgari\", \"callback\", \"came\", \"came\", \"came\", \"came\", \"came\", \"came\", \"came\", \"came\", \"campbel\", \"cancer\", \"candida\", \"cant\", \"car\", \"card\", \"card\", \"card\", \"cartridg\", \"cat\", \"cat\", \"cat\", \"catch\", \"catch\", \"catch\", \"catcher\", \"cathol\", \"caus\", \"caus\", \"caus\", \"caus\", \"caus\", \"caus\", \"caus\", \"caus\", \"cbc\", \"cd\", \"cd\", \"cd\", \"cd\", \"cd\", \"center\", \"center\", \"center\", \"center\", \"center\", \"center\", \"center\", \"ch\", \"chair\", \"champ\", \"char\", \"chastiti\", \"cheat\", \"chi\", \"chicago\", \"chicago\", \"chicago\", \"chicago\", \"chip\", \"chip\", \"choke\", \"chop\", \"christ\", \"christian\", \"christian\", \"christian\", \"christma\", \"christma\", \"christma\", \"chromium\", \"chronic\", \"chronicl\", \"church\", \"cica\", \"cigarett\", \"cipher\", \"ciphertext\", \"circuit\", \"circuit\", \"circuit\", \"citizen\", \"civil\", \"civil\", \"claim\", \"claim\", \"claim\", \"claim\", \"claim\", \"claim\", \"claim\", \"claim\", \"client\", \"clinic\", \"clinton\", \"clipper\", \"clipper\", \"clutch\", \"coach\", \"cocain\", \"code\", \"code\", \"code\", \"code\", \"code\", \"code\", \"col\", \"color\", \"color\", \"color\", \"color\", \"colormap\", \"colormap\", \"com\", \"com3\", \"come\", \"come\", \"come\", \"come\", \"come\", \"come\", \"come\", \"come\", \"come\", \"come\", \"comet\", \"comet\", \"comic\", \"comm\", \"compil\", \"compil\", \"compil\", \"comput\", \"comput\", \"comput\", \"comput\", \"comput\", \"comput\", \"comput\", \"condit\", \"condit\", \"condit\", \"condit\", \"condit\", \"condit\", \"condit\", \"conductor\", \"confer\", \"confer\", \"confer\", \"confer\", \"confer\", \"connect\", \"connect\", \"connect\", \"connect\", \"connect\", \"connect\", \"connect\", \"connect\", \"connector\", \"connector\", \"constitut\", \"constitut\", \"contest\", \"contradict\", \"control\", \"control\", \"control\", \"control\", \"control\", \"control\", \"control\", \"control\", \"copi\", \"copi\", \"copi\", \"copi\", \"copi\", \"copi\", \"copi\", \"copper\", \"corn\", \"corps\", \"corvett\", \"cost\", \"cost\", \"cost\", \"cost\", \"cost\", \"cost\", \"cost\", \"cost\", \"could\", \"could\", \"could\", \"could\", \"could\", \"could\", \"could\", \"could\", \"countri\", \"countri\", \"countri\", \"court\", \"court\", \"cover\", \"cover\", \"cover\", \"cover\", \"cover\", \"cover\", \"cover\", \"cover\", \"cover\", \"cover\", \"cover\", \"cover\", \"cpsr\", \"cpu\", \"cpu\", \"cpu\", \"cramer\", \"crater\", \"crime\", \"crime\", \"crimin\", \"croat\", \"croat\", \"crt\", \"cryptograph\", \"cryptographi\", \"cryptosystem\", \"ct\", \"cub\", \"cub\", \"cup\", \"cup\", \"cup\", \"cypru\", \"d9\", \"d9\", \"data\", \"data\", \"data\", \"data\", \"data\", \"databas\", \"daughter\", \"daughter\", \"davidian\", \"day\", \"day\", \"day\", \"day\", \"day\", \"day\", \"day\", \"day\", \"day\", \"day\", \"db\", \"db\", \"de\", \"de\", \"de\", \"de\", \"de\", \"dealer\", \"dealer\", \"dealer\", \"dealer\", \"dealership\", \"decrypt\", \"defens\", \"defens\", \"defens\", \"defens\", \"defenseman\", \"defici\", \"defil\", \"defin\", \"defin\", \"defin\", \"defin\", \"defin\", \"defin\", \"defin\", \"deir\", \"delta\", \"design\", \"design\", \"design\", \"design\", \"design\", \"design\", \"design\", \"design\", \"design\", \"deskjet\", \"det\", \"detector\", \"develop\", \"develop\", \"develop\", \"develop\", \"develop\", \"develop\", \"develop\", \"devic\", \"devic\", \"devic\", \"devic\", \"devic\", \"diagnos\", \"diagnosi\", \"diagnost\", \"dial\", \"diamond\", \"diet\", \"directori\", \"discrep\", \"diseas\", \"disk\", \"disk\", \"disk\", \"dislik\", \"display\", \"display\", \"display\", \"display\", \"display\", \"display\", \"distanc\", \"distanc\", \"distanc\", \"distanc\", \"divin\", \"divis\", \"divis\", \"divis\", \"divis\", \"divis\", \"divis\", \"dma\", \"dn\", \"do\", \"do\", \"doctor\", \"doctor\", \"doctrin\", \"doctrin\", \"dod\", \"dog\", \"dose\", \"dpi\", \"dpi\", \"draft\", \"draft\", \"draft\", \"drag\", \"drag\", \"drain\", \"dram\", \"drive\", \"drive\", \"drive\", \"drive\", \"drive\", \"drive\", \"driver\", \"driver\", \"driver\", \"driver\", \"driver\", \"drug\", \"drug\", \"drum\", \"duo\", \"e\", \"e\", \"eagl\", \"earth\", \"earth\", \"earth\", \"echo\", \"echo\", \"echo\", \"echo\", \"economi\", \"edm\", \"educ\", \"educ\", \"educ\", \"educ\", \"eff\", \"effect\", \"effect\", \"effect\", \"effect\", \"effect\", \"effect\", \"effect\", \"effect\", \"effect\", \"effect\", \"egg\", \"einstein\", \"eisa\", \"elect\", \"elect\", \"electr\", \"electr\", \"electr\", \"els\", \"els\", \"els\", \"els\", \"els\", \"els\", \"encrypt\", \"endif\", \"energi\", \"energi\", \"energi\", \"energi\", \"engin\", \"engin\", \"engin\", \"engin\", \"engin\", \"engin\", \"engin\", \"entri\", \"entri\", \"entri\", \"eo\", \"error\", \"error\", \"error\", \"error\", \"error\", \"error\", \"erzurum\", \"escrow\", \"esdi\", \"espn\", \"etern\", \"etern\", \"ethernet\", \"even\", \"even\", \"even\", \"even\", \"even\", \"even\", \"even\", \"even\", \"even\", \"even\", \"evid\", \"evid\", \"evid\", \"evid\", \"excel\", \"excel\", \"excel\", \"excel\", \"excel\", \"excel\", \"excel\", \"exist\", \"exist\", \"exist\", \"exist\", \"exist\", \"exist\", \"exist\", \"exist\", \"exist\", \"exit\", \"exit\", \"exit\", \"exit\", \"explor\", \"explor\", \"explor\", \"extermin\", \"eye\", \"eye\", \"eye\", \"eye\", \"eye\", \"ezekiel\", \"f\", \"f\", \"face\", \"face\", \"face\", \"face\", \"face\", \"faith\", \"fan\", \"fan\", \"fan\", \"fbi\", \"fbi\", \"fc\", \"feder\", \"feder\", \"fertil\", \"fg\", \"fielder\", \"file\", \"file\", \"file\", \"file\", \"filenam\", \"final\", \"final\", \"final\", \"final\", \"final\", \"final\", \"final\", \"final\", \"final\", \"final\", \"final\", \"final\", \"final\", \"fire\", \"fire\", \"fire\", \"fire\", \"fire\", \"firearm\", \"first\", \"first\", \"first\", \"first\", \"first\", \"first\", \"first\", \"first\", \"first\", \"first\", \"first\", \"first\", \"first\", \"first\", \"first\", \"first\", \"fj\", \"flight\", \"flight\", \"floppi\", \"flybi\", \"flyer\", \"flyer\", \"folk\", \"folk\", \"folk\", \"folk\", \"follow\", \"follow\", \"follow\", \"follow\", \"follow\", \"follow\", \"follow\", \"follow\", \"follow\", \"follow\", \"follow\", \"follow\", \"follow\", \"follow\", \"font\", \"font\", \"food\", \"food\", \"food\", \"food\", \"food\", \"forc\", \"forc\", \"forc\", \"forc\", \"forc\", \"forc\", \"forc\", \"ford\", \"format\", \"format\", \"format\", \"format\", \"fortran\", \"fprintf\", \"fpu\", \"fr\", \"franchis\", \"frank\", \"frank\", \"frank\", \"frank\", \"front\", \"front\", \"front\", \"front\", \"front\", \"front\", \"ftp\", \"fuck\", \"g\", \"g\", \"g\", \"game\", \"game\", \"game\", \"game\", \"gamma\", \"gant\", \"garag\", \"gasolin\", \"gateway\", \"gaug\", \"gc\", \"gc\", \"gear\", \"gear\", \"geb\", \"genocid\", \"gerard\", \"get\", \"get\", \"get\", \"get\", \"get\", \"get\", \"get\", \"get\", \"get\", \"get\", \"get\", \"ghost\", \"ghost\", \"gif\", \"gif\", \"giz\", \"glove\", \"gm\", \"gm\", \"gm\", \"gmt\", \"gmt\", \"go\", \"go\", \"go\", \"go\", \"go\", \"go\", \"go\", \"go\", \"goal\", \"goal\", \"goal\", \"goal\", \"goal\", \"goal\", \"goal\", \"goali\", \"goaltend\", \"god\", \"good\", \"good\", \"good\", \"good\", \"good\", \"good\", \"good\", \"good\", \"good\", \"gopher\", \"govern\", \"govern\", \"govern\", \"govern\", \"grain\", \"graphic\", \"graphic\", \"graphic\", \"graviti\", \"graviti\", \"greatli\", \"greatli\", \"greatli\", \"greatli\", \"greatli\", \"greec\", \"greek\", \"greek\", \"green\", \"green\", \"green\", \"green\", \"green\", \"green\", \"green\", \"greet\", \"ground\", \"ground\", \"ground\", \"ground\", \"ground\", \"ground\", \"guerilla\", \"guess\", \"guess\", \"guess\", \"guess\", \"guess\", \"gun\", \"guy\", \"guy\", \"guy\", \"guy\", \"guy\", \"guy\", \"h\", \"h8\", \"ham\", \"handgun\", \"har\", \"hard\", \"hard\", \"hard\", \"hard\", \"hard\", \"hard\", \"hard\", \"harddisk\", \"harley\", \"hash\", \"hd\", \"hd\", \"headach\", \"health\", \"heat\", \"heat\", \"heaven\", \"heaven\", \"helmet\", \"help\", \"help\", \"help\", \"help\", \"help\", \"help\", \"help\", \"help\", \"help\", \"henrik\", \"hercul\", \"hg\", \"histori\", \"histori\", \"histori\", \"histori\", \"histori\", \"histori\", \"histori\", \"hit\", \"hit\", \"hit\", \"hitter\", \"ho\", \"hobgoblin\", \"hockey\", \"holi\", \"homosexu\", \"honda\", \"horizont\", \"horizont\", \"hors\", \"hostnam\", \"hostnam\", \"hot\", \"hot\", \"hot\", \"hot\", \"hotel\", \"hous\", \"hous\", \"hous\", \"hous\", \"hous\", \"houston\", \"houston\", \"huh\", \"hulk\", \"hull\", \"human\", \"human\", \"human\", \"human\", \"human\", \"human\", \"human\", \"hunt\", \"hut\", \"hv\", \"icon\", \"ide\", \"ignit\", \"ihl\", \"illeg\", \"illeg\", \"illeg\", \"imag\", \"imag\", \"imag\", \"imag\", \"includ\", \"includ\", \"includ\", \"includ\", \"includ\", \"includ\", \"includ\", \"includ\", \"includ\", \"includ\", \"includ\", \"increas\", \"increas\", \"increas\", \"increas\", \"increas\", \"increas\", \"infect\", \"infin\", \"inform\", \"inform\", \"inform\", \"inform\", \"inform\", \"inform\", \"inform\", \"inform\", \"inform\", \"ink\", \"inning\", \"inning\", \"input\", \"input\", \"input\", \"input\", \"input\", \"instal\", \"instal\", \"instal\", \"instal\", \"institut\", \"institut\", \"institut\", \"institut\", \"institut\", \"institut\", \"insul\", \"int\", \"integ\", \"intellect\", \"interior\", \"interleav\", \"interpret\", \"interpret\", \"interpret\", \"interrupt\", \"interrupt\", \"iowa\", \"iran\", \"iraqi\", \"ireland\", \"irq\", \"isa\", \"isa\", \"isa\", \"isa\", \"isdn\", \"isl\", \"isra\", \"israel\", \"israel\", \"issu\", \"issu\", \"issu\", \"issu\", \"issu\", \"issu\", \"issu\", \"issu\", \"istanbul\", \"j\", \"j\", \"je\", \"jerk\", \"jesu\", \"jew\", \"jew\", \"jew\", \"jewish\", \"jewish\", \"jewish\", \"john\", \"john\", \"john\", \"john\", \"john\", \"john\", \"john\", \"john\", \"john\", \"john\", \"john\", \"jpeg\", \"jpl\", \"jumper\", \"junk\", \"jupit\", \"k\", \"kansa\", \"karabakh\", \"key\", \"key\", \"kh\", \"kidney\", \"kill\", \"kill\", \"kill\", \"kill\", \"kilomet\", \"kinda\", \"kinsey\", \"kk\", \"know\", \"know\", \"know\", \"know\", \"know\", \"know\", \"know\", \"koresh\", \"ks\", \"kurd\", \"kuwait\", \"l\", \"l\", \"l\", \"la\", \"la\", \"la\", \"la\", \"la\", \"la\", \"lamp\", \"laser\", \"laserwrit\", \"last\", \"last\", \"last\", \"last\", \"last\", \"last\", \"last\", \"last\", \"last\", \"last\", \"last\", \"last\", \"last\", \"latch\", \"launch\", \"launch\", \"launch\", \"launcher\", \"law\", \"law\", \"law\", \"law\", \"lawyer\", \"lciii\", \"leaf\", \"leagu\", \"leagu\", \"left\", \"left\", \"left\", \"left\", \"left\", \"left\", \"left\", \"left\", \"left\", \"left\", \"left\", \"leftov\", \"leg\", \"legal\", \"legal\", \"legal\", \"lemon\", \"lev\", \"lg\", \"lg\", \"liberti\", \"librari\", \"librari\", \"librari\", \"librari\", \"liefeld\", \"life\", \"life\", \"life\", \"life\", \"life\", \"life\", \"life\", \"light\", \"light\", \"light\", \"light\", \"light\", \"light\", \"light\", \"light\", \"lighter\", \"like\", \"like\", \"like\", \"like\", \"like\", \"like\", \"like\", \"like\", \"like\", \"like\", \"line\", \"line\", \"line\", \"line\", \"line\", \"line\", \"line\", \"line\", \"line\", \"line\", \"line\", \"link\", \"link\", \"link\", \"link\", \"link\", \"link\", \"link\", \"linux\", \"list\", \"list\", \"list\", \"list\", \"list\", \"list\", \"list\", \"list\", \"list\", \"list\", \"list\", \"list\", \"list\", \"live\", \"live\", \"live\", \"live\", \"live\", \"live\", \"live\", \"liver\", \"local\", \"local\", \"local\", \"local\", \"local\", \"local\", \"local\", \"local\", \"local\", \"local\", \"local\", \"login\", \"london\", \"london\", \"look\", \"look\", \"look\", \"look\", \"look\", \"look\", \"look\", \"look\", \"look\", \"look\", \"lord\", \"lost\", \"lost\", \"lost\", \"lost\", \"lost\", \"lost\", \"lost\", \"lost\", \"lot\", \"lot\", \"lot\", \"lot\", \"lot\", \"lot\", \"lot\", \"lot\", \"love\", \"love\", \"love\", \"love\", \"lunar\", \"m0\", \"m2\", \"m8\", \"mac\", \"mac\", \"mac\", \"mac\", \"machin\", \"machin\", \"machin\", \"machin\", \"machin\", \"machin\", \"magellan\", \"mail\", \"mail\", \"mail\", \"mail\", \"make\", \"make\", \"make\", \"make\", \"make\", \"make\", \"make\", \"make\", \"make\", \"make\", \"make\", \"make\", \"malloc\", \"man\", \"man\", \"man\", \"man\", \"man\", \"man\", \"man\", \"mani\", \"mani\", \"mani\", \"mani\", \"mani\", \"mani\", \"mani\", \"mani\", \"mani\", \"mani\", \"mani\", \"manual\", \"manual\", \"manual\", \"manual\", \"mar\", \"mar\", \"marijuana\", \"marriag\", \"mask\", \"mask\", \"mask\", \"mask\", \"massacr\", \"massacr\", \"massacr\", \"matthew\", \"max\", \"maxtor\", \"may\", \"may\", \"may\", \"may\", \"may\", \"may\", \"may\", \"may\", \"may\", \"may\", \"may\", \"may\", \"may\", \"may\", \"may\", \"mbyte\", \"mbyte\", \"mc\", \"mc\", \"mc\", \"mean\", \"mean\", \"mean\", \"mean\", \"mean\", \"mean\", \"mean\", \"mean\", \"mean\", \"mean\", \"meat\", \"medic\", \"medic\", \"medicin\", \"melt\", \"memori\", \"memori\", \"memori\", \"memori\", \"memori\", \"memori\", \"memori\", \"memori\", \"memori\", \"messag\", \"messag\", \"messag\", \"messag\", \"messag\", \"metal\", \"mfm\", \"mh\", \"mhz\", \"mhz\", \"micro\", \"midi\", \"midi\", \"mile\", \"mile\", \"mile\", \"mile\", \"militari\", \"militari\", \"militia\", \"miller\", \"miller\", \"million\", \"million\", \"million\", \"million\", \"million\", \"million\", \"million\", \"million\", \"mime\", \"min\", \"mine\", \"mine\", \"mine\", \"mine\", \"mine\", \"mine\", \"mission\", \"mission\", \"mixer\", \"mode\", \"mode\", \"mode\", \"mode\", \"mode\", \"mode\", \"model\", \"model\", \"model\", \"model\", \"model\", \"model\", \"model\", \"model\", \"modem\", \"modem\", \"mon\", \"mon\", \"money\", \"money\", \"money\", \"money\", \"money\", \"money\", \"money\", \"monitor\", \"monitor\", \"monitor\", \"monitor\", \"moon\", \"moon\", \"moral\", \"moral\", \"mormon\", \"morri\", \"mosqu\", \"motif\", \"motor\", \"motor\", \"motor\", \"motorcycl\", \"motto\", \"mous\", \"mous\", \"mous\", \"mp\", \"mp\", \"mp\", \"mr\", \"mr\", \"mr\", \"mr\", \"mr\", \"mr\", \"msg\", \"much\", \"much\", \"much\", \"much\", \"much\", \"much\", \"much\", \"much\", \"much\", \"much\", \"muscl\", \"muscl\", \"muslim\", \"muslim\", \"muslim\", \"mutant\", \"mv\", \"mw\", \"mx\", \"myer\", \"mytholog\", \"mz\", \"n\", \"n\", \"n\", \"n\", \"n3jxp\", \"nasa\", \"nation\", \"nation\", \"nation\", \"nation\", \"nation\", \"nation\", \"nation\", \"natur\", \"natur\", \"natur\", \"natur\", \"natur\", \"natur\", \"natur\", \"nazi\", \"nazi\", \"need\", \"need\", \"need\", \"need\", \"need\", \"need\", \"need\", \"need\", \"need\", \"need\", \"needl\", \"needl\", \"netter\", \"new\", \"new\", \"new\", \"new\", \"new\", \"new\", \"new\", \"new\", \"new\", \"new\", \"new\", \"new\", \"new\", \"newslett\", \"newslett\", \"nextstep\", \"nhl\", \"ninth\", \"nj\", \"nj\", \"norton\", \"norton\", \"nsa\", \"nsa\", \"nubu\", \"null\", \"number\", \"number\", \"number\", \"number\", \"number\", \"number\", \"number\", \"number\", \"number\", \"number\", \"number\", \"number\", \"nutrit\", \"nyi\", \"nyr\", \"oakland\", \"obo\", \"observ\", \"observ\", \"observ\", \"observ\", \"observ\", \"observ\", \"observ\", \"observatori\", \"odomet\", \"offer\", \"offer\", \"offer\", \"offer\", \"offer\", \"offer\", \"offer\", \"offer\", \"oil\", \"oil\", \"oil\", \"oiler\", \"old\", \"old\", \"old\", \"old\", \"old\", \"old\", \"old\", \"old\", \"old\", \"one\", \"one\", \"one\", \"one\", \"one\", \"one\", \"one\", \"one\", \"one\", \"one\", \"one\", \"one\", \"one\", \"one\", \"onlin\", \"oort\", \"openwindow\", \"oral\", \"oral\", \"orbit\", \"organ\", \"organ\", \"organ\", \"organ\", \"organ\", \"organ\", \"organ\", \"organ\", \"organ\", \"origin\", \"origin\", \"origin\", \"origin\", \"origin\", \"origin\", \"origin\", \"origin\", \"origin\", \"origin\", \"oscil\", \"ott\", \"ottoman\", \"out\", \"outlet\", \"output\", \"output\", \"output\", \"overtim\", \"oz\", \"p\", \"p\", \"p\", \"palestinian\", \"pars\", \"parti\", \"parti\", \"parti\", \"parti\", \"parti\", \"pascal\", \"patent\", \"patent\", \"patent\", \"patient\", \"payload\", \"pc\", \"pc\", \"pc\", \"pc\", \"pc\", \"pem\", \"peopl\", \"peopl\", \"peopl\", \"peopl\", \"peopl\", \"peopl\", \"peopl\", \"per\", \"per\", \"per\", \"per\", \"per\", \"per\", \"per\", \"per\", \"per\", \"period\", \"period\", \"period\", \"period\", \"period\", \"period\", \"period\", \"period\", \"period\", \"period\", \"person\", \"person\", \"person\", \"person\", \"person\", \"person\", \"person\", \"person\", \"person\", \"person\", \"pgp\", \"phenomenon\", \"phi\", \"phone\", \"phone\", \"phone\", \"phone\", \"phone\", \"phone\", \"phone\", \"physician\", \"pin\", \"pit\", \"pit\", \"pitch\", \"pitcher\", \"pitcher\", \"piti\", \"pitt\", \"pixel\", \"pixel\", \"pixmap\", \"pizza\", \"pl\", \"pl\", \"plaintext\", \"planet\", \"planet\", \"planetari\", \"plastic\", \"play\", \"play\", \"play\", \"play\", \"play\", \"play\", \"play\", \"play\", \"play\", \"player\", \"player\", \"player\", \"playoff\", \"playoff\", \"pleas\", \"pleas\", \"pleas\", \"pleas\", \"pleas\", \"pleas\", \"pleas\", \"pleas\", \"pleas\", \"plot\", \"plot\", \"plot\", \"pluto\", \"polic\", \"polic\", \"polish\", \"polit\", \"polit\", \"polygon\", \"popul\", \"popul\", \"popul\", \"popul\", \"port\", \"port\", \"post\", \"post\", \"post\", \"post\", \"post\", \"post\", \"post\", \"post\", \"post\", \"power\", \"power\", \"power\", \"power\", \"power\", \"power\", \"power\", \"power\", \"power\", \"power\", \"power\", \"pray\", \"pray\", \"prayer\", \"presid\", \"presid\", \"price\", \"price\", \"price\", \"price\", \"price\", \"price\", \"princ\", \"printer\", \"printer\", \"printf\", \"prison\", \"privaci\", \"privat\", \"privat\", \"privat\", \"privat\", \"probe\", \"probe\", \"problem\", \"problem\", \"problem\", \"problem\", \"problem\", \"problem\", \"problem\", \"problem\", \"problem\", \"problem\", \"process\", \"process\", \"process\", \"process\", \"process\", \"process\", \"process\", \"process\", \"program\", \"program\", \"program\", \"program\", \"program\", \"program\", \"project\", \"project\", \"project\", \"project\", \"project\", \"project\", \"projector\", \"prophet\", \"propuls\", \"protein\", \"psalm\", \"pt\", \"public\", \"public\", \"public\", \"public\", \"public\", \"public\", \"puck\", \"puls\", \"purchas\", \"purchas\", \"purchas\", \"purchas\", \"purchas\", \"pursuant\", \"q\", \"q\", \"qualiti\", \"qualiti\", \"qualiti\", \"qualiti\", \"qualiti\", \"que\", \"question\", \"question\", \"question\", \"question\", \"question\", \"question\", \"question\", \"question\", \"question\", \"quicktim\", \"quinn\", \"r\", \"r\", \"r\", \"radio\", \"radio\", \"radio\", \"radio\", \"radio\", \"radio\", \"ram\", \"ram\", \"ram\", \"ram\", \"random\", \"random\", \"random\", \"random\", \"random\", \"random\", \"random\", \"random\", \"rate\", \"rate\", \"rate\", \"rate\", \"rate\", \"rate\", \"rate\", \"razor\", \"readm\", \"realli\", \"realli\", \"realli\", \"realli\", \"realli\", \"realli\", \"rear\", \"red\", \"red\", \"red\", \"red\", \"red\", \"red\", \"red\", \"redraw\", \"refuge\", \"relax\", \"religi\", \"religi\", \"religi\", \"religion\", \"religion\", \"religion\", \"report\", \"report\", \"report\", \"report\", \"report\", \"report\", \"report\", \"report\", \"report\", \"reprint\", \"republ\", \"republ\", \"republ\", \"research\", \"research\", \"research\", \"research\", \"research\", \"reset\", \"resolut\", \"resolut\", \"resolut\", \"resolut\", \"resolut\", \"resourc\", \"resourc\", \"resourc\", \"retail\", \"return\", \"return\", \"return\", \"return\", \"return\", \"return\", \"return\", \"return\", \"return\", \"return\", \"return\", \"return\", \"revel\", \"rfc\", \"rh\", \"ride\", \"ride\", \"right\", \"right\", \"right\", \"right\", \"right\", \"right\", \"right\", \"right\", \"right\", \"right\", \"ripem\", \"road\", \"road\", \"road\", \"road\", \"road\", \"road\", \"road\", \"road\", \"rochest\", \"rockefel\", \"rocket\", \"rocket\", \"rocket\", \"rode\", \"rom\", \"rom\", \"rooki\", \"royal\", \"royal\", \"rs\", \"rs\", \"rsa\", \"rsaref\", \"rule\", \"rule\", \"rule\", \"rule\", \"rule\", \"rule\", \"rule\", \"rule\", \"run\", \"run\", \"run\", \"run\", \"run\", \"run\", \"run\", \"run\", \"runner\", \"russian\", \"russian\", \"russian\", \"russian\", \"s1\", \"s2\", \"sabr\", \"sabretooth\", \"said\", \"said\", \"said\", \"said\", \"said\", \"said\", \"said\", \"sale\", \"san\", \"san\", \"san\", \"san\", \"san\", \"satan\", \"satellit\", \"saw\", \"saw\", \"saw\", \"saw\", \"saw\", \"say\", \"say\", \"say\", \"say\", \"say\", \"sb\", \"scheme\", \"scheme\", \"scheme\", \"scheme\", \"scheme\", \"scheme\", \"school\", \"school\", \"school\", \"school\", \"scienc\", \"scienc\", \"scienc\", \"scienc\", \"score\", \"score\", \"score\", \"scorer\", \"screen\", \"screen\", \"screen\", \"screen\", \"screen\", \"scriptur\", \"scsi\", \"seagat\", \"season\", \"season\", \"seat\", \"seat\", \"seat\", \"seat\", \"secret\", \"secret\", \"secret\", \"secret\", \"section\", \"section\", \"section\", \"section\", \"section\", \"section\", \"section\", \"section\", \"section\", \"secur\", \"secur\", \"see\", \"see\", \"see\", \"see\", \"see\", \"see\", \"see\", \"see\", \"see\", \"seem\", \"seem\", \"seem\", \"seem\", \"seem\", \"seem\", \"seem\", \"sell\", \"sell\", \"sell\", \"sell\", \"sell\", \"send\", \"send\", \"send\", \"send\", \"send\", \"send\", \"send\", \"send\", \"send\", \"send\", \"sentiment\", \"serb\", \"serdar\", \"seri\", \"seri\", \"seri\", \"seri\", \"seri\", \"seri\", \"seri\", \"seri\", \"seri\", \"seri\", \"serial\", \"server\", \"set\", \"set\", \"set\", \"set\", \"set\", \"set\", \"set\", \"set\", \"set\", \"set\", \"set\", \"set\", \"setenv\", \"setup\", \"setup\", \"sex\", \"sex\", \"sez\", \"sgi\", \"sharewar\", \"shark\", \"shark\", \"ship\", \"ship\", \"ship\", \"ship\", \"shout\", \"shuttl\", \"silver\", \"silver\", \"silver\", \"simm\", \"sin\", \"sink\", \"site\", \"site\", \"site\", \"site\", \"sizeof\", \"skate\", \"sky\", \"sl\", \"slaughter\", \"slaughter\", \"slot\", \"slot\", \"slot\", \"smartdrv\", \"socket\", \"socket\", \"softwar\", \"softwar\", \"softwar\", \"solar\", \"solar\", \"sold\", \"sold\", \"sold\", \"sold\", \"sold\", \"sold\", \"solder\", \"soldier\", \"soldier\", \"someon\", \"someon\", \"someon\", \"someon\", \"someon\", \"someth\", \"someth\", \"someth\", \"someth\", \"someth\", \"someth\", \"someth\", \"song\", \"space\", \"space\", \"space\", \"space\", \"space\", \"space\", \"spacecraft\", \"sparc\", \"speed\", \"speed\", \"speed\", \"speed\", \"speed\", \"speed\", \"speedstar\", \"sphere\", \"spirit\", \"spirit\", \"spout\", \"sq\", \"stadium\", \"standard\", \"standard\", \"standard\", \"standard\", \"standard\", \"standard\", \"standard\", \"standard\", \"standard\", \"star\", \"star\", \"star\", \"start\", \"start\", \"start\", \"start\", \"start\", \"start\", \"start\", \"start\", \"start\", \"start\", \"stat\", \"stat\", \"stat\", \"state\", \"state\", \"state\", \"state\", \"state\", \"state\", \"state\", \"state\", \"static\", \"static\", \"stay\", \"stay\", \"stay\", \"stay\", \"stay\", \"stay\", \"stay\", \"stderr\", \"stealth\", \"stealth\", \"steer\", \"stereo\", \"stereo\", \"sticker\", \"still\", \"still\", \"still\", \"still\", \"still\", \"still\", \"still\", \"still\", \"still\", \"stl\", \"string\", \"string\", \"string\", \"string\", \"struct\", \"studi\", \"studi\", \"studi\", \"studi\", \"suck\", \"suck\", \"sue\", \"suicid\", \"suno\", \"support\", \"support\", \"support\", \"support\", \"support\", \"support\", \"support\", \"support\", \"support\", \"support\", \"sure\", \"sure\", \"sure\", \"sure\", \"sure\", \"sure\", \"sure\", \"sure\", \"sure\", \"surfac\", \"surfac\", \"surfac\", \"surfac\", \"surgeon\", \"survey\", \"survey\", \"survey\", \"survey\", \"svga\", \"swedish\", \"sync\", \"synchron\", \"syndrom\", \"system\", \"system\", \"system\", \"system\", \"system\", \"system\", \"system\", \"system\", \"system\", \"system\", \"system\", \"t5\", \"tablet\", \"take\", \"take\", \"take\", \"take\", \"take\", \"take\", \"take\", \"take\", \"take\", \"take\", \"take\", \"tap\", \"tap\", \"tartar\", \"teach\", \"teach\", \"team\", \"team\", \"team\", \"team\", \"technolog\", \"technolog\", \"technolog\", \"technolog\", \"technolog\", \"telecommun\", \"telescop\", \"tell\", \"tell\", \"tell\", \"tell\", \"tell\", \"terrorist\", \"testifi\", \"thank\", \"thank\", \"thank\", \"thank\", \"thank\", \"therapi\", \"thing\", \"thing\", \"thing\", \"thing\", \"thing\", \"thing\", \"thing\", \"thing\", \"think\", \"think\", \"think\", \"think\", \"think\", \"think\", \"throw\", \"throw\", \"throw\", \"throw\", \"tie\", \"tie\", \"tie\", \"tie\", \"tie\", \"tiff\", \"tiger\", \"time\", \"time\", \"time\", \"time\", \"time\", \"time\", \"time\", \"time\", \"time\", \"time\", \"time\", \"time\", \"time\", \"tire\", \"tire\", \"tire\", \"tire\", \"tobacco\", \"tobacco\", \"tomb\", \"took\", \"took\", \"took\", \"took\", \"took\", \"took\", \"took\", \"took\", \"tool\", \"tool\", \"tool\", \"tool\", \"tool\", \"toolkit\", \"toplevel\", \"tor\", \"toronto\", \"toronto\", \"toronto\", \"toronto\", \"toshiba\", \"toyota\", \"trade\", \"trade\", \"trade\", \"trade\", \"trade\", \"treatment\", \"treatment\", \"treatment\", \"treatment\", \"trek\", \"tri\", \"tri\", \"tri\", \"tri\", \"tri\", \"tri\", \"tri\", \"tri\", \"tri\", \"tri\", \"trident\", \"true\", \"true\", \"true\", \"true\", \"true\", \"true\", \"true\", \"true\", \"true\", \"true\", \"truelov\", \"trust\", \"trust\", \"trust\", \"trust\", \"trust\", \"truth\", \"truth\", \"truth\", \"turbo\", \"turbo\", \"turk\", \"turkey\", \"turkish\", \"turn\", \"turn\", \"turn\", \"turn\", \"turn\", \"turn\", \"turn\", \"turn\", \"turn\", \"two\", \"two\", \"two\", \"two\", \"two\", \"two\", \"two\", \"two\", \"two\", \"two\", \"two\", \"two\", \"two\", \"tyre\", \"u\", \"ultra\", \"umpir\", \"undefin\", \"univers\", \"univers\", \"univers\", \"univers\", \"univers\", \"univers\", \"univers\", \"unix\", \"unix\", \"unrealist\", \"unsign\", \"us\", \"us\", \"us\", \"us\", \"us\", \"us\", \"us\", \"us\", \"us\", \"use\", \"use\", \"use\", \"use\", \"use\", \"use\", \"use\", \"use\", \"use\", \"use\", \"use\", \"use\", \"user\", \"user\", \"user\", \"user\", \"uunet\", \"uunet\", \"uunet\", \"uy\", \"v\", \"v\", \"v\", \"v\", \"v6\", \"vaccin\", \"van\", \"van\", \"van\", \"var\", \"vat\", \"vb\", \"vector\", \"venu\", \"verdict\", \"vers\", \"version\", \"version\", \"version\", \"version\", \"version\", \"version\", \"version\", \"vesa\", \"vesa\", \"vga\", \"video\", \"video\", \"video\", \"viewer\", \"viewer\", \"villag\", \"villag\", \"violent\", \"viper\", \"visual\", \"visual\", \"visual\", \"vlb\", \"vmk\", \"void\", \"void\", \"volt\", \"voyag\", \"vram\", \"vs\", \"vs\", \"vs\", \"vs\", \"w\", \"w\", \"w\", \"w0\", \"waco\", \"walk\", \"walk\", \"walk\", \"walk\", \"want\", \"want\", \"want\", \"want\", \"want\", \"want\", \"want\", \"want\", \"war\", \"war\", \"war\", \"war\", \"warranti\", \"warranti\", \"warrior\", \"watch\", \"watch\", \"watch\", \"watch\", \"watch\", \"watch\", \"water\", \"water\", \"water\", \"water\", \"water\", \"water\", \"watt\", \"way\", \"way\", \"way\", \"way\", \"way\", \"way\", \"way\", \"way\", \"way\", \"way\", \"weapon\", \"weapon\", \"well\", \"well\", \"well\", \"well\", \"well\", \"well\", \"well\", \"well\", \"well\", \"well\", \"well\", \"well\", \"went\", \"went\", \"went\", \"went\", \"went\", \"wheel\", \"widget\", \"widget\", \"win\", \"win\", \"win\", \"win\", \"win\", \"win\", \"window\", \"window\", \"window\", \"window\", \"window\", \"window\", \"wing\", \"wing\", \"wing\", \"wing\", \"wire\", \"wire\", \"wire\", \"wiretap\", \"wm\", \"wm\", \"wolverin\", \"women\", \"women\", \"women\", \"women\", \"wonder\", \"wonder\", \"wonder\", \"wonder\", \"wonder\", \"word\", \"word\", \"word\", \"word\", \"word\", \"word\", \"word\", \"work\", \"work\", \"work\", \"work\", \"work\", \"work\", \"work\", \"work\", \"work\", \"work\", \"work\", \"work\", \"worship\", \"would\", \"would\", \"would\", \"would\", \"would\", \"would\", \"would\", \"would\", \"would\", \"would\", \"would\", \"x\", \"x\", \"x\", \"x11\", \"x11r4\", \"x11r5\", \"x8\", \"xdm\", \"xfree86\", \"xlib\", \"xor\", \"xor\", \"xtermin\", \"xview\", \"yank\", \"yassin\", \"year\", \"year\", \"year\", \"year\", \"year\", \"year\", \"year\", \"year\", \"year\", \"year\", \"year\", \"yeast\", \"z\", \"z\"]}, \"R\": 30, \"lambda.step\": 0.01, \"plot.opts\": {\"xlab\": \"PC1\", \"ylab\": \"PC2\"}, \"topic.order\": [19, 1, 2, 20, 10, 9, 4, 7, 15, 17, 5, 8, 16, 6, 14, 13, 18, 12, 11, 3]};\n",
       "\n",
       "function LDAvis_load_lib(url, callback){\n",
       "  var s = document.createElement('script');\n",
       "  s.src = url;\n",
       "  s.async = true;\n",
       "  s.onreadystatechange = s.onload = callback;\n",
       "  s.onerror = function(){console.warn(\"failed to load library \" + url);};\n",
       "  document.getElementsByTagName(\"head\")[0].appendChild(s);\n",
       "}\n",
       "\n",
       "if(typeof(LDAvis) !== \"undefined\"){\n",
       "   // already loaded: just create the visualization\n",
       "   !function(LDAvis){\n",
       "       new LDAvis(\"#\" + \"ldavis_el2478423234341608649545790083\", ldavis_el2478423234341608649545790083_data);\n",
       "   }(LDAvis);\n",
       "}else if(typeof define === \"function\" && define.amd){\n",
       "   // require.js is available: use it to load d3/LDAvis\n",
       "   require.config({paths: {d3: \"https://d3js.org/d3.v5\"}});\n",
       "   require([\"d3\"], function(d3){\n",
       "      window.d3 = d3;\n",
       "      LDAvis_load_lib(\"https://cdn.jsdelivr.net/gh/bmabey/pyLDAvis@3.4.0/pyLDAvis/js/ldavis.v3.0.0.js\", function(){\n",
       "        new LDAvis(\"#\" + \"ldavis_el2478423234341608649545790083\", ldavis_el2478423234341608649545790083_data);\n",
       "      });\n",
       "    });\n",
       "}else{\n",
       "    // require.js not available: dynamically load d3 & LDAvis\n",
       "    LDAvis_load_lib(\"https://d3js.org/d3.v5.js\", function(){\n",
       "         LDAvis_load_lib(\"https://cdn.jsdelivr.net/gh/bmabey/pyLDAvis@3.4.0/pyLDAvis/js/ldavis.v3.0.0.js\", function(){\n",
       "                 new LDAvis(\"#\" + \"ldavis_el2478423234341608649545790083\", ldavis_el2478423234341608649545790083_data);\n",
       "            })\n",
       "         });\n",
       "}\n",
       "</script>"
      ],
      "text/plain": [
       "PreparedData(topic_coordinates=              x         y  topics  cluster       Freq\n",
       "topic                                                \n",
       "18     0.235828  0.042567       1        1  14.152671\n",
       "0      0.253598  0.137671       2        1  13.099977\n",
       "1      0.235466  0.081633       3        1  11.181137\n",
       "19     0.218057  0.126067       4        1   9.222250\n",
       "9      0.165921 -0.046976       5        1   9.124036\n",
       "8      0.139995 -0.042646       6        1   6.780560\n",
       "3      0.106311  0.024319       7        1   5.688648\n",
       "6      0.123712 -0.046204       8        1   4.869520\n",
       "14    -0.302631  0.247243       9        1   4.435659\n",
       "16    -0.245542  0.186400      10        1   3.603299\n",
       "4      0.056844 -0.095099      11        1   2.907857\n",
       "7      0.079501 -0.036574      12        1   2.866614\n",
       "15    -0.020917  0.004291      13        1   2.621201\n",
       "5     -0.035552 -0.098909      14        1   2.211821\n",
       "13    -0.296842  0.131869      15        1   2.089119\n",
       "12    -0.102681 -0.069920      16        1   1.433362\n",
       "17    -0.058910 -0.162480      17        1   1.298307\n",
       "11    -0.168202 -0.020200      18        1   1.216246\n",
       "10    -0.160928 -0.181391      19        1   0.919372\n",
       "2     -0.223029 -0.181662      20        1   0.278343, topic_info=         Term         Freq        Total Category  logprob  loglift\n",
       "696         x  6803.000000  6803.000000  Default  30.0000  30.0000\n",
       "192         1  8775.000000  8775.000000  Default  29.0000  29.0000\n",
       "2296        q  5215.000000  5215.000000  Default  28.0000  28.0000\n",
       "288       max  4618.000000  4618.000000  Default  27.0000  27.0000\n",
       "2411        0  6386.000000  6386.000000  Default  26.0000  26.0000\n",
       "...       ...          ...          ...      ...      ...      ...\n",
       "2979  alcohol    36.128595    88.091632  Topic20  -4.9636   4.9928\n",
       "6929    needl    24.576693    37.147597  Topic20  -5.3489   5.4710\n",
       "4675     mask    38.269840   135.651330  Topic20  -4.9060   4.6186\n",
       "4215   survey    31.604164   190.563652  Topic20  -5.0974   4.0874\n",
       "6563      cat    21.695099    67.590586  Topic20  -5.4736   4.7477\n",
       "\n",
       "[1291 rows x 6 columns], token_table=      Topic      Freq   Term\n",
       "term                        \n",
       "2411      9  0.362345      0\n",
       "2411     10  0.599263      0\n",
       "2411     16  0.038364      0\n",
       "3846     15  0.661670     04\n",
       "3846     18  0.330835     04\n",
       "...     ...       ...    ...\n",
       "161      14  0.016799   year\n",
       "161      16  0.011357   year\n",
       "7453      6  0.990185  yeast\n",
       "1473      9  0.885661      z\n",
       "1473     15  0.114126      z\n",
       "\n",
       "[3410 rows x 3 columns], R=30, lambda_step=0.01, plot_opts={'xlab': 'PC1', 'ylab': 'PC2'}, topic_order=[19, 1, 2, 20, 10, 9, 4, 7, 15, 17, 5, 8, 16, 6, 14, 13, 18, 12, 11, 3])"
      ]
     },
     "execution_count": 18,
     "metadata": {},
     "output_type": "execute_result"
    }
   ],
   "source": [
    "#%pip install pyLDAvis\n",
    "import pyLDAvis.gensim_models as gensimvis\n",
    "import pyLDAvis\n",
    "\n",
    "tokens_list=processed_docs\n",
    "dictionary = gensim.corpora.Dictionary(tokens_list)\n",
    "\n",
    "    # Create a bag-of-words representation of the documents\n",
    "corpus = [dictionary.doc2bow(tokens) for tokens in tokens_list]\n",
    "pyLDAvis.enable_notebook()\n",
    "vis = pyLDAvis.gensim_models.prepare(lda_model, corpus, dictionary)\n",
    "vis"
   ]
  },
  {
   "cell_type": "markdown",
   "metadata": {},
   "source": [
    "## SKLEARN"
   ]
  },
  {
   "cell_type": "code",
   "execution_count": null,
   "metadata": {
    "id": "OVaU3X2SkaKg"
   },
   "outputs": [],
   "source": [
    "from sklearn.feature_extraction.text import CountVectorizer\n",
    "from sklearn.decomposition import LatentDirichletAllocation\n",
    "\n",
    "# Function to perform LDA\n",
    "def perform_lda_sklearn(texts_list, num_topics=5, max_features=1000):\n",
    "    vectorizer = CountVectorizer(max_df=0.95, min_df=2, max_features=max_features, stop_words='english')\n",
    "    data_vectorized = vectorizer.fit_transform(texts_list)\n",
    "\n",
    "    lda_model = LatentDirichletAllocation(n_components=num_topics, max_iter=5,\n",
    "                                          learning_method='online', learning_offset=50., random_state=0)\n",
    "    lda_model.fit(data_vectorized)\n",
    "\n",
    "    return lda_model, vectorizer"
   ]
  },
  {
   "cell_type": "markdown",
   "metadata": {
    "id": "F7EwACtplbf5"
   },
   "source": [
    "## LDA"
   ]
  },
  {
   "cell_type": "code",
   "execution_count": null,
   "metadata": {
    "id": "RpMdUM-QkcX4"
   },
   "outputs": [],
   "source": [
    "import numpy as np\n",
    "\n",
    "def lda_gibbs_sampling(document_word_matrix, n_topics, n_iter, alpha, beta):\n",
    "    n_documents, n_words = document_word_matrix.shape\n",
    "\n",
    "    # Initialize topic assignments randomly\n",
    "    topic_assignments = np.random.randint(0, n_topics, size=document_word_matrix.nonzero()[0].shape)\n",
    "\n",
    "    # Initialize count matrices\n",
    "    doc_topic_counts = np.zeros((n_documents, n_topics))\n",
    "    topic_word_counts = np.zeros((n_topics, n_words))\n",
    "    topic_counts = np.zeros(n_topics)\n",
    "\n",
    "    # Update count matrices based on initial topic assignments\n",
    "    for d, w, z in zip(*document_word_matrix.nonzero(), topic_assignments):\n",
    "        doc_topic_counts[d, z] += 1\n",
    "        topic_word_counts[z, w] += 1\n",
    "        topic_counts[z] += 1\n",
    "\n",
    "    # Perform Gibbs sampling\n",
    "    for _ in range(n_iter):\n",
    "        for d, w, z in zip(*document_word_matrix.nonzero(), topic_assignments):\n",
    "            # Decrement count matrices\n",
    "            doc_topic_counts[d, z] -= 1\n",
    "            topic_word_counts[z, w] -= 1\n",
    "            topic_counts[z] -= 1\n",
    "\n",
    "            # Calculate conditional probability\n",
    "            p_z = (doc_topic_counts[d, :] + alpha) * (topic_word_counts[:, w] + beta) / (topic_counts + beta * n_words)\n",
    "            p_z /= np.sum(p_z)\n",
    "\n",
    "            # Sample a new topic assignment\n",
    "            new_z = np.random.choice(n_topics, p=p_z)\n",
    "\n",
    "            # Increment count matrices\n",
    "            doc_topic_counts[d, new_z] += 1\n",
    "            topic_word_counts[new_z, w] += 1\n",
    "            topic_counts[new_z] += 1\n",
    "\n",
    "            # Update topic assignment\n",
    "            z = new_z\n",
    "\n",
    "    return doc_topic_counts, topic_word_counts\n",
    "\n",
    "\n",
    "n_topics = 5\n",
    "n_iter = 1000\n",
    "alpha = 0.1\n",
    "beta = 0.1\n",
    "\n",
    "doc_topic_counts, topic_word_counts = lda_gibbs_sampling(document_word_matrix, n_topics, n_iter, alpha, beta)\n",
    "\n",
    "# Extract topics\n",
    "topics = np.argsort(-topic_word_counts, axis=1)[:, :5]\n",
    "for i, topic in enumerate(topics):\n",
    "    print(f\"Topic {i}: {[vectorizer.get_feature_names()[word] for word in topic]}\")\n",
    "\n",
    "\n",
    "def predict_topic(text, doc_topic_counts, topic_word_counts, alpha, beta):\n",
    "    words = preprocess(text)\n",
    "    word_indices = [vectorizer.vocabulary_.get(word) for word in words]\n",
    "    word_indices = [idx for idx in word_indices if idx is not None]\n",
    "\n",
    "    n_documents, n_topics = doc_topic_counts.shape\n",
    "    n_words = topic_word_counts.shape[1]\n",
    "\n",
    "    p_z = (doc_topic_counts.sum(axis=0) + alpha) * np.prod(topic_word_counts[:, word_indices] + beta, axis=1) / (topic_word_counts.sum(axis=1) + beta * n_words)**len(word_indices)\n",
    "    p_z /= np.sum(p_z)\n",
    "\n",
    "    return np.argmax(p_z)\n",
    "\n",
    "new_text = \"your new text here\"\n",
    "topic_id = predict_topic(new_text, doc_topic_counts, topic_word_counts, alpha, beta)\n",
    "print(f\"Topic ID: {topic_id}\")"
   ]
  },
  {
   "cell_type": "code",
   "execution_count": null,
   "metadata": {
    "id": "HHsOW1cymQzp"
   },
   "outputs": [],
   "source": [
    "# Randomly assign topics to words in documents\n",
    "for doc in docs:\n",
    "    cur_topics = []\n",
    "    for word in doc:\n",
    "        topic = random.randint(0, K - 1)\n",
    "        cur_topics.append(topic)\n",
    "        doc_topic_counts[len(topic_assignments)][topic] += 1\n",
    "        topic_word_counts[topic][word] += 1\n",
    "        topic_counts[topic] += 1\n",
    "    topic_assignments.append(cur_topics)\n",
    "\n",
    "# Iterate until convergence or max_iters\n",
    "for _ in range(max_iters):\n",
    "    for d, doc in enumerate(docs):\n",
    "        for i, word in enumerate(doc):\n",
    "            topic = topic_assignments[d][i]\n",
    "\n",
    "            # Decrement counts\n",
    "            doc_topic_counts[d][topic] -= 1\n",
    "            topic_word_counts[topic][word] -= 1\n",
    "            topic_counts[topic] -= 1\n",
    "\n",
    "            # Sample new topic\n",
    "            topic_probs = []\n",
    "            for k in range(K):\n",
    "                doc_topic_prob = (doc_topic_counts[d][k] + 1) / (sum(doc_topic_counts[d].values()) + K)\n",
    "                topic_word_prob = (topic_word_counts[k][word] + 1) / (topic_counts[k] + len(docs))\n",
    "                topic_probs.append(doc_topic_prob * topic_word_prob)\n",
    "\n",
    "            # Normalize and sample new topic\n",
    "            total_prob = sum(topic_probs)\n",
    "            topic_probs = [p / total_prob for p in topic_probs]\n",
    "            new_topic = random.choices(range(K), topic_probs)[0]\n",
    "\n",
    "            # Increment counts\n",
    "            topic_assignments[d][i] = new_topic\n",
    "            doc_topic_counts[d][new_topic] += 1\n",
    "            topic_word_counts[new_topic][word] += 1\n",
    "            topic_counts[new_topic] += 1\n",
    "\n",
    "return doc_topic_counts, topic_word_counts\n",
    "\n"
   ]
  },
  {
   "cell_type": "code",
   "execution_count": null,
   "metadata": {
    "id": "NHkR0XGpmdqT"
   },
   "outputs": [],
   "source": [
    "def lda(docs, K, alpha, beta, num_iters):\n",
    "# Initialize topic assignments\n",
    "topic_assignments = []\n",
    "for d in docs:\n",
    "topic_assignments.append([random.randint(0, K-1) for _ in d])\n",
    "\n",
    "# Initialize topic-word and document-topic count matrices\n",
    "topic_word_counts = [[0 for _ in range(len(docs[0]))] for _ in range(K)]\n",
    "doc_topic_counts = [[0 for _ in range(K)] for _ in range(len(docs))]\n",
    "\n",
    "# Count initial topic assignments\n",
    "for d, doc in enumerate(docs):\n",
    "    for w, word in enumerate(doc):\n",
    "        topic = topic_assignments[d][w]\n",
    "        topic_word_counts[topic][word] += 1\n",
    "        doc_topic_counts[d][topic] += 1\n",
    "\n",
    "# Gibbs sampling\n",
    "for _ in range(num_iters):\n",
    "    for d, doc in enumerate(docs):\n",
    "        for w, word in enumerate(doc):\n",
    "            old_topic = topic_assignments[d][w]\n",
    "\n",
    "            # Decrement counts for old topic assignment\n",
    "            topic_word_counts[old_topic][word] -= 1\n",
    "            doc_topic_counts[d][old_topic] -= 1\n",
    "\n",
    "            # Compute probabilities for each topic\n",
    "            probabilities = []\n",
    "            for t in range(K):\n",
    "                p_topic_given_doc = (doc_topic_counts[d][t] + alpha) / (sum(doc_topic_counts[d]) + K * alpha)\n",
    "                p_word_given_topic = (topic_word_counts[t][word] + beta) / (sum(topic_word_counts[t]) + len(docs[0]) * beta)\n",
    "                probabilities.append(p_topic_given_doc * p_word_given_topic)\n",
    "\n",
    "            # Normalize probabilities\n",
    "            total_prob = sum(probabilities)\n",
    "            probabilities = [p / total_prob for p in probabilities]\n",
    "\n",
    "            # Sample new topic assignment\n",
    "            new_topic = random.choices(range(K), probabilities)[0]\n",
    "\n",
    "            # Update counts for new topic assignment\n",
    "            topic_assignments[d][w] = new_topic\n",
    "            topic_word_counts[new_topic][word] += 1\n",
    "            doc_topic_counts[d][new_topic] += 1\n",
    "\n",
    "return topic_word_counts, doc_topic_counts"
   ]
  },
  {
   "cell_type": "markdown",
   "metadata": {
    "id": "x9di-8zYfzfL"
   },
   "source": [
    "# **4. Sentiment Analysis:**\n",
    "Determine the sentiment of the content using the VADER sentiment analyzer from the `vaderSentiment`library.\n",
    "VADER (Valence Aware Dictionary and sEntiment Reasoner) is a pre-trained sentiment analysis tool specifically designed for social media texts and doesn't require preprocessing like tokenization, stemming, or lemmatization"
   ]
  },
  {
   "cell_type": "code",
   "execution_count": 16,
   "metadata": {
    "ExecuteTime": {
     "end_time": "2023-06-19T11:58:34.011066700Z",
     "start_time": "2023-06-19T11:58:29.134532900Z"
    },
    "id": "tW6z18mAgg4B"
   },
   "outputs": [
    {
     "name": "stdout",
     "output_type": "stream",
     "text": [
      "Collecting vaderSentiment\n",
      "  Downloading vaderSentiment-3.3.2-py2.py3-none-any.whl (125 kB)\n",
      "                                              0.0/126.0 kB ? eta -:--:--\n",
      "     ---------                                30.7/126.0 kB ? eta -:--:--\n",
      "     ---------------------                 71.7/126.0 kB 975.2 kB/s eta 0:00:01\n",
      "     -------------------------------------- 126.0/126.0 kB 1.2 MB/s eta 0:00:00\n",
      "Requirement already satisfied: requests in c:\\users\\robyd\\anaconda3\\envs\\python\\lib\\site-packages (from vaderSentiment) (2.29.0)\n",
      "Requirement already satisfied: charset-normalizer<4,>=2 in c:\\users\\robyd\\anaconda3\\envs\\python\\lib\\site-packages (from requests->vaderSentiment) (2.0.4)\n",
      "Requirement already satisfied: idna<4,>=2.5 in c:\\users\\robyd\\anaconda3\\envs\\python\\lib\\site-packages (from requests->vaderSentiment) (3.4)\n",
      "Requirement already satisfied: urllib3<1.27,>=1.21.1 in c:\\users\\robyd\\anaconda3\\envs\\python\\lib\\site-packages (from requests->vaderSentiment) (1.26.16)\n",
      "Requirement already satisfied: certifi>=2017.4.17 in c:\\users\\robyd\\anaconda3\\envs\\python\\lib\\site-packages (from requests->vaderSentiment) (2023.5.7)\n",
      "Installing collected packages: vaderSentiment\n",
      "Successfully installed vaderSentiment-3.3.2\n",
      "Note: you may need to restart the kernel to use updated packages.\n"
     ]
    }
   ],
   "source": [
    "#%pip install vaderSentiment\n",
    "from vaderSentiment.vaderSentiment import SentimentIntensityAnalyzer"
   ]
  },
  {
   "cell_type": "code",
   "execution_count": 20,
   "metadata": {
    "ExecuteTime": {
     "end_time": "2023-06-19T12:02:41.589294200Z",
     "start_time": "2023-06-19T12:02:41.567813800Z"
    },
    "id": "hmTOX4eUgcnL"
   },
   "outputs": [],
   "source": [
    "# Function to analyze sentiment using VADER\n",
    "def analyze_sentiment_vader(text):\n",
    "     # Initialize VADER sentiment analyzer\n",
    "    analyzer = SentimentIntensityAnalyzer()\n",
    "    sentiment = analyzer.polarity_scores(text)\n",
    "    return sentiment"
   ]
  },
  {
   "cell_type": "code",
   "execution_count": 29,
   "metadata": {
    "ExecuteTime": {
     "end_time": "2023-06-19T12:08:49.380032600Z",
     "start_time": "2023-06-19T12:08:49.321967700Z"
    },
    "id": "xLWkj_argjag"
   },
   "outputs": [
    {
     "name": "stdout",
     "output_type": "stream",
     "text": [
      "{'neg': 0.26, 'neu': 0.52, 'pos': 0.22, 'compound': -0.1757}\n"
     ]
    }
   ],
   "source": [
    "# Example usage\n",
    "text = \"This is an example text for sentiment analysis. Wow. So bad.\"\n",
    "sentiment = analyze_sentiment_vader(text)\n",
    "print(sentiment)"
   ]
  },
  {
   "cell_type": "code",
   "execution_count": 40,
   "metadata": {
    "ExecuteTime": {
     "end_time": "2023-06-19T13:27:55.925406600Z",
     "start_time": "2023-06-19T13:27:55.886404500Z"
    },
    "jupyter": {
     "outputs_hidden": false
    }
   },
   "outputs": [
    {
     "name": "stdout",
     "output_type": "stream",
     "text": [
      "\n",
      "Think!\n",
      "\n",
      "It's the SCSI card doing the DMA transfers NOT the disks...\n",
      "\n",
      "The SCSI card can do DMA transfers containing data from any of the SCSI devices\n",
      "it is attached when it wants to.\n",
      "\n",
      "An important feature of SCSI is the ability to detach a device. This frees the\n",
      "SCSI bus for other devices. This is typically used in a multi-tasking OS to\n",
      "start transfers on several devices. While each device is seeking the data the\n",
      "bus is free for other commands and data transfers. When the devices are\n",
      "ready to transfer the data they can aquire the bus and send the data.\n",
      "\n",
      "On an IDE bus when you start a transfer the bus is busy until the disk has seeked\n",
      "the data and transfered it. This is typically a 10-20ms second lock out for other\n",
      "processes wanting the bus irrespective of transfer time.\n",
      "\n",
      "The sentiment value of text 1 is: -0.5952\n",
      "The sentiment value of text 2 is: 0.8268\n",
      "The sentiment value of text 3 is: -0.9976\n",
      "The sentiment value of text 4 is: 0.8932\n",
      "The sentiment value of text 5 is: 0.2732\n",
      "The sentiment value of text 6 is: 0.3182\n",
      "The sentiment value of text 7 is: 0.2144\n",
      "The sentiment value of text 8 is: 0.8685\n",
      "The sentiment value of text 9 is: 0.937\n",
      "The sentiment value of text 10 is: 0.8011\n",
      "0.35396\n"
     ]
    }
   ],
   "source": [
    "# Perform sentiment analysis on the texts\n",
    "import numpy as np\n",
    "print(texts[3])\n",
    "scores_list = []\n",
    "for i, text in enumerate(texts):\n",
    "    scores_list.append(analyzer.polarity_scores(text)[\"compound\"])\n",
    "    print(f'The sentiment value of text {i + 1} is: {scores_list[i]}')\n",
    "print(np.mean(scores_list))"
   ]
  },
  {
   "cell_type": "markdown",
   "metadata": {
    "id": "va708914k1Zr"
   },
   "source": [
    "# **5. Summarization:**\n",
    "Generate summaries of the relevant content using extractive summarization techniques. For this, you can use the gensim library."
   ]
  },
  {
   "cell_type": "markdown",
   "metadata": {},
   "source": [
    "To implement extractive summarization without using libraries, you can follow these steps:\n",
    "\n",
    "1. Split the text into sentences.\n",
    "2. Tokenize the sentences.\n",
    "3. Calculate the frequency of each word in the text.\n",
    "4. Assign a score to each sentence based on the frequency of the words in the sentence.\n",
    "5. Select the top N sentences with the highest scores as the summary.\n",
    "\n",
    "This is a simple implementation of extractive summarization without using any libraries. Note that this approach does not consider the semantic meaning of words or the coherence of the summary. More advanced techniques, such as using word embeddings or graph-based methods, can improve the quality of the summary."
   ]
  },
  {
   "cell_type": "code",
   "execution_count": 44,
   "metadata": {
    "ExecuteTime": {
     "end_time": "2023-06-19T15:05:29.336336400Z",
     "start_time": "2023-06-19T15:05:29.293676200Z"
    },
    "jupyter": {
     "outputs_hidden": false
    }
   },
   "outputs": [],
   "source": [
    "\"\"\"\n",
    "This function takes a list of texts and the number of sentences to include in the summary (default is 3). It calculates the frequency of words in the text, scores each sentence based on the frequency of the words it contains, and selects the top N sentences with the highest scores as the summary.\n",
    "\"\"\"\n",
    "def extractive_summarization(texts, n_sentences=3):\n",
    "    summaries = []\n",
    "\n",
    "    for text in texts:\n",
    "        # Split the text into sentences\n",
    "        sentences = text.strip().split('.')\n",
    "\n",
    "        # Tokenize and preprocess the text\n",
    "        word_freq = {}\n",
    "        for sentence in sentences:\n",
    "            stemmed_tokens, _ = preprocess_text(sentence)\n",
    "            for token in stemmed_tokens:\n",
    "                if token not in word_freq:\n",
    "                    word_freq[token] = 1\n",
    "                else:\n",
    "                    word_freq[token] += 1\n",
    "\n",
    "        # Calculate the score for each sentence\n",
    "        sentence_scores = {}\n",
    "        for sentence in sentences:\n",
    "            stemmed_tokens, _ = preprocess_text(sentence)\n",
    "            for token in stemmed_tokens:\n",
    "                if token in word_freq:\n",
    "                    if sentence not in sentence_scores:\n",
    "                        sentence_scores[sentence] = word_freq[token]\n",
    "                    else:\n",
    "                        sentence_scores[sentence] += word_freq[token]\n",
    "\n",
    "        # Select the top N sentences with the highest scores\n",
    "        summary_sentences = sorted(sentence_scores, key=sentence_scores.get, reverse=True)[:n_sentences]\n",
    "        summary = '. '.join(summary_sentences)\n",
    "        summaries.append(summary)\n",
    "\n",
    "    return summaries"
   ]
  },
  {
   "cell_type": "code",
   "execution_count": null,
   "metadata": {
    "id": "KgY9tfBMk737"
   },
   "outputs": [],
   "source": [
    "from gensim.summarization import summarize\n",
    "\n",
    "# Function to generate extractive summary\n",
    "def generate_summary(text, word_count=50):\n",
    "    summary = summarize(text, word_count=word_count)\n",
    "    return summary\n",
    "\n",
    "# Example usage\n",
    "long_text = \"This is an example long text that needs summarization. ...\"\n",
    "summary = generate_summary(long_text)\n"
   ]
  },
  {
   "cell_type": "code",
   "execution_count": 45,
   "metadata": {
    "ExecuteTime": {
     "end_time": "2023-06-19T15:05:32.674379100Z",
     "start_time": "2023-06-19T15:05:32.632503500Z"
    },
    "jupyter": {
     "outputs_hidden": false
    }
   },
   "outputs": [
    {
     "name": "stdout",
     "output_type": "stream",
     "text": [
      "Summary 1:  Some sentences are more important than others.  It has several sentences\n",
      "Summary 2:  Extractive summarization should work on it as well. Another example text is here\n"
     ]
    }
   ],
   "source": [
    "# Example usage\n",
    "texts = [\n",
    "    \"This is an example text. It has several sentences. Some sentences are more important than others.\",\n",
    "    \"Another example text is here. Extractive summarization should work on it as well.\"\n",
    "]\n",
    "\n",
    "summaries = extractive_summarization(texts, n_sentences=2)\n",
    "for i, summary in enumerate(summaries):\n",
    "    print(f\"Summary {i + 1}: {summary}\")"
   ]
  },
  {
   "cell_type": "markdown",
   "metadata": {
    "id": "iWMG5p_8mkfC"
   },
   "source": []
  },
  {
   "cell_type": "markdown",
   "metadata": {
    "id": "3S5Wh1_zk8iJ"
   },
   "source": [
    "# **6. Visualization and Reporting:**\n",
    " Visualize the results in an intuitive dashboard or report format, showing the distribution of topics, sentiment scores, and summaries of the relevant content. You can use the matplotlib library for basic visualizations."
   ]
  },
  {
   "cell_type": "code",
   "execution_count": 48,
   "metadata": {
    "ExecuteTime": {
     "end_time": "2023-06-19T15:13:33.627358800Z",
     "start_time": "2023-06-19T15:13:33.599435700Z"
    },
    "jupyter": {
     "outputs_hidden": false
    }
   },
   "outputs": [],
   "source": [
    "#%pip install matplotlib\n",
    "import matplotlib.pyplot as plt\n",
    "\n",
    "#%pip install wordcloud\n",
    "from wordcloud import WordCloud"
   ]
  },
  {
   "cell_type": "code",
   "execution_count": 54,
   "metadata": {
    "ExecuteTime": {
     "end_time": "2023-06-19T16:02:11.692891800Z",
     "start_time": "2023-06-19T16:02:11.668955100Z"
    },
    "jupyter": {
     "outputs_hidden": false
    }
   },
   "outputs": [],
   "source": [
    "def visualize_sentiment(scores):\n",
    "    plt.hist(scores, bins=[-1, -0.5, 0, 0.5, 1], edgecolor='black')\n",
    "    plt.xlabel('Sentiment Scores')\n",
    "    plt.ylabel('Frequency')\n",
    "    plt.title('Sentiment Analysis of Texts')\n",
    "    plt.show()\n",
    "\n",
    "# Function to visualize sentiment scores\n",
    "def visualize_sentiment(sentiment_scores):\n",
    "    labels = ['Positive', 'Neutral', 'Negative']\n",
    "    values = [sentiment_scores['pos'], sentiment_scores['neu'], sentiment_scores['neg']]\n",
    "\n",
    "    plt.bar(labels, values)\n",
    "    plt.xlabel('Sentiment')\n",
    "    plt.ylabel('Score')\n",
    "    plt.title('Sentiment Analysis')\n",
    "    plt.show()"
   ]
  },
  {
   "cell_type": "code",
   "execution_count": 52,
   "metadata": {
    "ExecuteTime": {
     "end_time": "2023-06-19T16:01:29.723467100Z",
     "start_time": "2023-06-19T16:01:29.698198300Z"
    },
    "jupyter": {
     "outputs_hidden": false
    }
   },
   "outputs": [],
   "source": [
    "# Function to generate a word cloud\n",
    "def generate_wordcloud(texts):\n",
    "    all_text = ' '.join(texts)\n",
    "    wordcloud = WordCloud(width=800, height=800, background_color='white', min_font_size=10, max_words=100).generate(all_text)\n",
    "    plt.figure(figsize=(8, 8))\n",
    "    plt.imshow(wordcloud, interpolation='bilinear')\n",
    "    plt.axis('off')\n",
    "    plt.title('Word Cloud of Texts')\n",
    "    plt.show()"
   ]
  },
  {
   "cell_type": "code",
   "execution_count": 56,
   "metadata": {
    "ExecuteTime": {
     "end_time": "2023-06-19T16:02:38.275615600Z",
     "start_time": "2023-06-19T16:02:38.211301700Z"
    },
    "jupyter": {
     "outputs_hidden": false
    }
   },
   "outputs": [
    {
     "ename": "TypeError",
     "evalue": "list indices must be integers or slices, not str",
     "output_type": "error",
     "traceback": [
      "\u001b[1;31m---------------------------------------------------------------------------\u001b[0m",
      "\u001b[1;31mTypeError\u001b[0m                                 Traceback (most recent call last)",
      "Cell \u001b[1;32mIn[56], line 10\u001b[0m\n\u001b[0;32m      8\u001b[0m sia \u001b[38;5;241m=\u001b[39m SentimentIntensityAnalyzer()\n\u001b[0;32m      9\u001b[0m sentiment_scores \u001b[38;5;241m=\u001b[39m [sia\u001b[38;5;241m.\u001b[39mpolarity_scores(text) \u001b[38;5;28;01mfor\u001b[39;00m text \u001b[38;5;129;01min\u001b[39;00m texts]\n\u001b[1;32m---> 10\u001b[0m \u001b[43mvisualize_sentiment\u001b[49m\u001b[43m(\u001b[49m\u001b[43msentiment_scores\u001b[49m\u001b[43m)\u001b[49m\n\u001b[0;32m     12\u001b[0m \u001b[38;5;66;03m# Generate word cloud\u001b[39;00m\n\u001b[0;32m     13\u001b[0m generate_wordcloud(texts)\n",
      "Cell \u001b[1;32mIn[54], line 11\u001b[0m, in \u001b[0;36mvisualize_sentiment\u001b[1;34m(sentiment_scores)\u001b[0m\n\u001b[0;32m      9\u001b[0m \u001b[38;5;28;01mdef\u001b[39;00m \u001b[38;5;21mvisualize_sentiment\u001b[39m(sentiment_scores):\n\u001b[0;32m     10\u001b[0m     labels \u001b[38;5;241m=\u001b[39m [\u001b[38;5;124m'\u001b[39m\u001b[38;5;124mPositive\u001b[39m\u001b[38;5;124m'\u001b[39m, \u001b[38;5;124m'\u001b[39m\u001b[38;5;124mNeutral\u001b[39m\u001b[38;5;124m'\u001b[39m, \u001b[38;5;124m'\u001b[39m\u001b[38;5;124mNegative\u001b[39m\u001b[38;5;124m'\u001b[39m]\n\u001b[1;32m---> 11\u001b[0m     values \u001b[38;5;241m=\u001b[39m [\u001b[43msentiment_scores\u001b[49m\u001b[43m[\u001b[49m\u001b[38;5;124;43m'\u001b[39;49m\u001b[38;5;124;43mpos\u001b[39;49m\u001b[38;5;124;43m'\u001b[39;49m\u001b[43m]\u001b[49m, sentiment_scores[\u001b[38;5;124m'\u001b[39m\u001b[38;5;124mneu\u001b[39m\u001b[38;5;124m'\u001b[39m], sentiment_scores[\u001b[38;5;124m'\u001b[39m\u001b[38;5;124mneg\u001b[39m\u001b[38;5;124m'\u001b[39m]]\n\u001b[0;32m     13\u001b[0m     plt\u001b[38;5;241m.\u001b[39mbar(labels, values)\n\u001b[0;32m     14\u001b[0m     plt\u001b[38;5;241m.\u001b[39mxlabel(\u001b[38;5;124m'\u001b[39m\u001b[38;5;124mSentiment\u001b[39m\u001b[38;5;124m'\u001b[39m)\n",
      "\u001b[1;31mTypeError\u001b[0m: list indices must be integers or slices, not str"
     ]
    }
   ],
   "source": [
    "\n",
    "# Example usage\n",
    "texts = [\n",
    "    \"This is an example text. It has several sentences. Some sentences are more important than others.\",\n",
    "    \"Another example HPC text is here for computer topic. Extractive computing summarization should work on if computer is it as well.\"\n",
    "]\n",
    "\n",
    "# Analyze sentiment using the code from the previous answer\n",
    "sia = SentimentIntensityAnalyzer()\n",
    "sentiment_scores = [sia.polarity_scores(text)[\"compound\"] for text in texts]\n",
    "visualize_sentiment(sentiment_scores)\n",
    "\n",
    "# Generate word cloud\n",
    "generate_wordcloud(texts)"
   ]
  },
  {
   "cell_type": "code",
   "execution_count": null,
   "metadata": {
    "jupyter": {
     "outputs_hidden": false
    }
   },
   "outputs": [],
   "source": []
  }
 ],
 "metadata": {
  "colab": {
   "authorship_tag": "ABX9TyMjXohX+9xAkasGPVtSJXRB",
   "collapsed_sections": [
    "xSaT22-QkIgK",
    "va708914k1Zr",
    "3S5Wh1_zk8iJ"
   ],
   "provenance": []
  },
  "kernelspec": {
   "display_name": "Python 3 (ipykernel)",
   "language": "python",
   "name": "python3"
  },
  "language_info": {
   "codemirror_mode": {
    "name": "ipython",
    "version": 3
   },
   "file_extension": ".py",
   "mimetype": "text/x-python",
   "name": "python",
   "nbconvert_exporter": "python",
   "pygments_lexer": "ipython3",
   "version": "3.10.11"
  }
 },
 "nbformat": 4,
 "nbformat_minor": 4
}
